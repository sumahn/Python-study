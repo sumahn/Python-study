{
 "cells": [
  {
   "cell_type": "markdown",
   "id": "f9aeecfa",
   "metadata": {},
   "source": [
    "### 튜플(Tuple)\n",
    "\n",
    "\n",
    "#### 데이터 구조 \n",
    "\n",
    "* 선언 + 입력 : 변수명 = (1,2,3,4)   ex) data = (1, 2, 3)\n",
    "* 삭제, 수정, 추가 : 튜플은 삭제나 추가가 불가능하다. \n",
    "* 읽기 : 변수명[인덱스 번호] ex) data[0]\n",
    "\n",
    "\n",
    "#### 원래 함수의 결과값은 하나만 가능하지만 파이썬은 튜플 덕분에 두 개 이상의 결과값을 출력할 수 있다. "
   ]
  },
  {
   "cell_type": "code",
   "execution_count": 5,
   "id": "555f1b56",
   "metadata": {},
   "outputs": [
    {
     "name": "stdout",
     "output_type": "stream",
     "text": [
      "(1, 2, 3, 4, 5, 6)\n",
      "(1, 2, 3, 1, 2, 3, 1, 2, 3)\n"
     ]
    },
    {
     "ename": "TypeError",
     "evalue": "unsupported operand type(s) for -: 'tuple' and 'tuple'",
     "output_type": "error",
     "traceback": [
      "\u001b[0;31m---------------------------------------------------------------------------\u001b[0m",
      "\u001b[0;31mTypeError\u001b[0m                                 Traceback (most recent call last)",
      "\u001b[0;32m/var/folders/05/yj67j62x14325k70g83czllr0000gn/T/ipykernel_14520/541736350.py\u001b[0m in \u001b[0;36m<module>\u001b[0;34m\u001b[0m\n\u001b[1;32m      5\u001b[0m \u001b[0mprint\u001b[0m\u001b[0;34m(\u001b[0m \u001b[0mdata1\u001b[0m \u001b[0;34m*\u001b[0m \u001b[0;36m3\u001b[0m \u001b[0;34m)\u001b[0m\u001b[0;34m\u001b[0m\u001b[0;34m\u001b[0m\u001b[0m\n\u001b[1;32m      6\u001b[0m \u001b[0;34m\u001b[0m\u001b[0m\n\u001b[0;32m----> 7\u001b[0;31m \u001b[0mprint\u001b[0m\u001b[0;34m(\u001b[0m \u001b[0mdata1\u001b[0m \u001b[0;34m-\u001b[0m \u001b[0mdata2\u001b[0m \u001b[0;34m)\u001b[0m\u001b[0;34m\u001b[0m\u001b[0;34m\u001b[0m\u001b[0m\n\u001b[0m\u001b[1;32m      8\u001b[0m \u001b[0;31m# 튜플끼리 곱셈은 불가능\u001b[0m\u001b[0;34m\u001b[0m\u001b[0;34m\u001b[0m\u001b[0m\n\u001b[1;32m      9\u001b[0m \u001b[0mprint\u001b[0m\u001b[0;34m(\u001b[0m \u001b[0mdata1\u001b[0m \u001b[0;34m*\u001b[0m \u001b[0mdata2\u001b[0m \u001b[0;34m)\u001b[0m\u001b[0;34m\u001b[0m\u001b[0;34m\u001b[0m\u001b[0m\n",
      "\u001b[0;31mTypeError\u001b[0m: unsupported operand type(s) for -: 'tuple' and 'tuple'"
     ]
    }
   ],
   "source": [
    "# 덧셈 연산만 가능\n",
    "data1 = (1, 2, 3)\n",
    "data2 = (4, 5, 6)\n",
    "print( data1 + data2 )\n",
    "print( data1 * 3 )\n",
    "\n",
    "# 뺄셈도 불가능 \n",
    "print( data1 - data2 )\n",
    "\n",
    "# 튜플끼리 곱셈은 불가능 \n",
    "print( data1 * data2 )"
   ]
  },
  {
   "cell_type": "code",
   "execution_count": 6,
   "id": "e82d927d",
   "metadata": {},
   "outputs": [],
   "source": [
    "def quot_and_rem(x, y):\n",
    "    quot = x // y\n",
    "    rem = x % y\n",
    "    return quot, rem\n",
    "\n",
    "quot, rem = quot_and_rem(3, 10)"
   ]
  },
  {
   "cell_type": "code",
   "execution_count": 7,
   "id": "3074acf6",
   "metadata": {},
   "outputs": [
    {
     "name": "stdout",
     "output_type": "stream",
     "text": [
      "0 3\n"
     ]
    }
   ],
   "source": [
    "print(quot, rem)"
   ]
  },
  {
   "cell_type": "code",
   "execution_count": null,
   "id": "4d6698d3",
   "metadata": {},
   "outputs": [],
   "source": []
  }
 ],
 "metadata": {
  "kernelspec": {
   "display_name": "Python 3 (ipykernel)",
   "language": "python",
   "name": "python3"
  },
  "language_info": {
   "codemirror_mode": {
    "name": "ipython",
    "version": 3
   },
   "file_extension": ".py",
   "mimetype": "text/x-python",
   "name": "python",
   "nbconvert_exporter": "python",
   "pygments_lexer": "ipython3",
   "version": "3.9.7"
  }
 },
 "nbformat": 4,
 "nbformat_minor": 5
}
