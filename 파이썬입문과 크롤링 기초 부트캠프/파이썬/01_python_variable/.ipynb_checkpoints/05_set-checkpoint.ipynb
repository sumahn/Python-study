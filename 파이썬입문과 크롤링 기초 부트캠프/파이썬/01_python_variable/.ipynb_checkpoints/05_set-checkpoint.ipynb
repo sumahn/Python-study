{
 "cells": [
  {
   "cell_type": "markdown",
   "id": "86648394",
   "metadata": {},
   "source": [
    "## Set\n",
    "\n",
    "- 집합 연산을 쉽게 하기 위한 자료형\n",
    "- 순서가 없음 \n",
    "- 중복이 없음 => **유일한 거(종류) 개수 셀 때 유용함**\n",
    "\n",
    "* 선언 + 입력: 변수명 = set() or 변수명 = (data1, data2, ...) or 변수명 = set(데이터1), 변수명 = set(데이터1, 데이터2)"
   ]
  },
  {
   "cell_type": "code",
   "execution_count": 7,
   "id": "58ced320",
   "metadata": {},
   "outputs": [],
   "source": [
    "data_set = {'apple','dell','samsung','lg'}"
   ]
  },
  {
   "cell_type": "code",
   "execution_count": 8,
   "id": "d5094d8e",
   "metadata": {},
   "outputs": [
    {
     "data": {
      "text/plain": [
       "False"
      ]
     },
     "execution_count": 8,
     "metadata": {},
     "output_type": "execute_result"
    }
   ],
   "source": [
    "'motorola' in data_set"
   ]
  },
  {
   "cell_type": "code",
   "execution_count": 9,
   "id": "f0592786",
   "metadata": {},
   "outputs": [
    {
     "name": "stdout",
     "output_type": "stream",
     "text": [
      "{'dell', 'samsung', 'apple', 'lg'}\n"
     ]
    }
   ],
   "source": [
    "if 'apple' in data_set:\n",
    "    print(data_set)"
   ]
  },
  {
   "cell_type": "code",
   "execution_count": 10,
   "id": "6e4e2a4e",
   "metadata": {},
   "outputs": [
    {
     "data": {
      "text/plain": [
       "{'lg', 'samsung'}"
      ]
     },
     "execution_count": 10,
     "metadata": {},
     "output_type": "execute_result"
    }
   ],
   "source": [
    "smart_phones = {\"apple\",\"samsung\",\"lg\"}\n",
    "tv = {\"samsung\",\"lg\",\"shaomi\"}\n",
    "\n",
    "smart_phones & tv # 교집합"
   ]
  },
  {
   "cell_type": "code",
   "execution_count": 11,
   "id": "af1f5ffc",
   "metadata": {},
   "outputs": [
    {
     "data": {
      "text/plain": [
       "{'apple', 'lg', 'samsung', 'shaomi'}"
      ]
     },
     "execution_count": 11,
     "metadata": {},
     "output_type": "execute_result"
    }
   ],
   "source": [
    "smart_phones | tv # 합집합"
   ]
  },
  {
   "cell_type": "code",
   "execution_count": 12,
   "id": "d7517559",
   "metadata": {},
   "outputs": [
    {
     "data": {
      "text/plain": [
       "{'apple'}"
      ]
     },
     "execution_count": 12,
     "metadata": {},
     "output_type": "execute_result"
    }
   ],
   "source": [
    "smart_phones - tv  # 차집합"
   ]
  },
  {
   "cell_type": "code",
   "execution_count": 13,
   "id": "c2912b21",
   "metadata": {},
   "outputs": [
    {
     "data": {
      "text/plain": [
       "{'apple', 'shaomi'}"
      ]
     },
     "execution_count": 13,
     "metadata": {},
     "output_type": "execute_result"
    }
   ],
   "source": [
    "smart_phones ^ tv # (합집합 - 교집합)"
   ]
  },
  {
   "cell_type": "code",
   "execution_count": null,
   "id": "a3e8f795",
   "metadata": {},
   "outputs": [],
   "source": []
  }
 ],
 "metadata": {
  "kernelspec": {
   "display_name": "Python 3 (ipykernel)",
   "language": "python",
   "name": "python3"
  },
  "language_info": {
   "codemirror_mode": {
    "name": "ipython",
    "version": 3
   },
   "file_extension": ".py",
   "mimetype": "text/x-python",
   "name": "python",
   "nbconvert_exporter": "python",
   "pygments_lexer": "ipython3",
   "version": "3.9.7"
  }
 },
 "nbformat": 4,
 "nbformat_minor": 5
}
