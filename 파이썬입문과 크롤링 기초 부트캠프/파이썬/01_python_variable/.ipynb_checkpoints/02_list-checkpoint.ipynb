{
 "cells": [
  {
   "cell_type": "code",
   "execution_count": 1,
   "id": "ef387ddc",
   "metadata": {},
   "outputs": [
    {
     "name": "stdout",
     "output_type": "stream",
     "text": [
      "['서울시', '경기도', '인천시']\n"
     ]
    }
   ],
   "source": [
    "location = ['서울시','경기도','인천시']\n",
    "\n",
    "print( location )"
   ]
  },
  {
   "cell_type": "code",
   "execution_count": 2,
   "id": "05173566",
   "metadata": {},
   "outputs": [],
   "source": [
    "location.append('부산시')"
   ]
  },
  {
   "cell_type": "code",
   "execution_count": 3,
   "id": "21e48cfa",
   "metadata": {},
   "outputs": [
    {
     "data": {
      "text/plain": [
       "['서울시', '경기도', '인천시', '부산시']"
      ]
     },
     "execution_count": 3,
     "metadata": {},
     "output_type": "execute_result"
    }
   ],
   "source": [
    "location"
   ]
  },
  {
   "cell_type": "code",
   "execution_count": 4,
   "id": "e23c2e6c",
   "metadata": {},
   "outputs": [],
   "source": [
    "location.append('대전시')"
   ]
  },
  {
   "cell_type": "code",
   "execution_count": 11,
   "id": "3e116614",
   "metadata": {},
   "outputs": [
    {
     "data": {
      "text/plain": [
       "['인천시', '경기도', '부산시', '대전시']"
      ]
     },
     "execution_count": 11,
     "metadata": {},
     "output_type": "execute_result"
    }
   ],
   "source": [
    "location"
   ]
  },
  {
   "cell_type": "code",
   "execution_count": 10,
   "id": "a305ae82",
   "metadata": {},
   "outputs": [],
   "source": [
    "# 특정 위치에 삽입\n",
    "\n",
    "location.insert(1, '경기도')"
   ]
  },
  {
   "cell_type": "code",
   "execution_count": 6,
   "id": "295587e3",
   "metadata": {},
   "outputs": [
    {
     "data": {
      "text/plain": [
       "['경기도', '인천시']"
      ]
     },
     "execution_count": 6,
     "metadata": {},
     "output_type": "execute_result"
    }
   ],
   "source": [
    "location[1:3]"
   ]
  },
  {
   "cell_type": "code",
   "execution_count": 7,
   "id": "881d2c3f",
   "metadata": {},
   "outputs": [],
   "source": [
    "# 삭제 \n",
    "location.remove('경기도')\n",
    "\n",
    "del location[0]"
   ]
  },
  {
   "cell_type": "markdown",
   "id": "6e6bac54",
   "metadata": {},
   "source": [
    "## list 변수\n",
    "\n",
    "1. 리스트 선언 \n",
    "```\n",
    "    - 리스트변수 = []\n",
    "    - 리스트변수 = list()\n",
    "```\n",
    "\n",
    "2. 리스트 추가 \n",
    "```\n",
    "    - 리스트변수.append(데이터)\n",
    "    - 리스트변수.insert(인덱스번호, 데이터)\n",
    "```\n",
    "\n",
    "3. 리스트 삭제 \n",
    "```\n",
    "    - 리스트변수.remove(데이터)\n",
    "    - del 리스트변수[인덱스번호]\n",
    "```\n",
    "\n",
    "4. 리스트 수정 \n",
    "```\n",
    "    - 리스트변수[인덱스번호] = 수정할 데이터\n",
    "    \n",
    "```\n"
   ]
  },
  {
   "cell_type": "code",
   "execution_count": 12,
   "id": "d5497fca",
   "metadata": {},
   "outputs": [],
   "source": [
    "lang = ['java','c','c++']\n",
    "lang.append('golang')"
   ]
  },
  {
   "cell_type": "code",
   "execution_count": 13,
   "id": "76184be0",
   "metadata": {},
   "outputs": [],
   "source": [
    "lang.remove('golang')\n",
    "lang.remove('java')\n",
    "lang.insert(1, 'java')"
   ]
  },
  {
   "cell_type": "code",
   "execution_count": 14,
   "id": "48a69dcb",
   "metadata": {},
   "outputs": [
    {
     "data": {
      "text/plain": [
       "['c', 'java', 'c++']"
      ]
     },
     "execution_count": 14,
     "metadata": {},
     "output_type": "execute_result"
    }
   ],
   "source": [
    "lang"
   ]
  },
  {
   "cell_type": "markdown",
   "id": "06c18dc2",
   "metadata": {},
   "source": [
    "### 리스트 정렬하기 "
   ]
  },
  {
   "cell_type": "code",
   "execution_count": 19,
   "id": "1d2060e7",
   "metadata": {},
   "outputs": [
    {
     "name": "stdout",
     "output_type": "stream",
     "text": [
      "[2, 1, 4, 3]\n",
      "[1, 2, 3, 4]\n",
      "[4, 3, 2, 1]\n",
      "[4, 3, 2, 1]\n"
     ]
    }
   ],
   "source": [
    "numbers = [2, 1, 4, 3]\n",
    "print( numbers )\n",
    "\n",
    "numbers.sort() # 본래 변수가 변경됨\n",
    "print( numbers )\n",
    "\n",
    "numbers.reverse() # 본래 변수가 변경됨\n",
    "print( numbers )\n",
    "\n",
    "numbers.sort(reverse=True) # 본래 변수가 변경됨\n",
    "print( numbers )"
   ]
  },
  {
   "cell_type": "markdown",
   "id": "205125fb",
   "metadata": {},
   "source": [
    "### 문자열 split"
   ]
  },
  {
   "cell_type": "code",
   "execution_count": 17,
   "id": "c950240a",
   "metadata": {},
   "outputs": [
    {
     "data": {
      "text/plain": [
       "['python', 'is', 'easy']"
      ]
     },
     "execution_count": 17,
     "metadata": {},
     "output_type": "execute_result"
    }
   ],
   "source": [
    "python_is_easy = \"python is easy\"\n",
    "python_is_easy.split()"
   ]
  },
  {
   "cell_type": "code",
   "execution_count": null,
   "id": "73ca018d",
   "metadata": {},
   "outputs": [],
   "source": []
  }
 ],
 "metadata": {
  "kernelspec": {
   "display_name": "Python 3 (ipykernel)",
   "language": "python",
   "name": "python3"
  },
  "language_info": {
   "codemirror_mode": {
    "name": "ipython",
    "version": 3
   },
   "file_extension": ".py",
   "mimetype": "text/x-python",
   "name": "python",
   "nbconvert_exporter": "python",
   "pygments_lexer": "ipython3",
   "version": "3.9.7"
  }
 },
 "nbformat": 4,
 "nbformat_minor": 5
}
