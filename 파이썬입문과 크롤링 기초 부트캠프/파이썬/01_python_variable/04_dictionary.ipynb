{
 "cells": [
  {
   "cell_type": "markdown",
   "id": "ff1cec4b",
   "metadata": {},
   "source": [
    "## Dictionary\n",
    "\n",
    "* 선언 + 입력: 변수명 = {} or 변수명 = dict()\n",
    "* 읽기: 변수명[key] \n",
    "* 추가: 변수명[새로운 key] = 새로운 값\n",
    "* 삭제: del 변수명[key]\n",
    "* 수정: 삭제하고 새로 입력"
   ]
  },
  {
   "cell_type": "code",
   "execution_count": 2,
   "id": "eefcb2bb",
   "metadata": {},
   "outputs": [],
   "source": [
    "# 선언하는 방법 \n",
    "data_dict1 = {\"A\": 123, \"B\": 456, \"C\":789}\n",
    "data_dict2 = dict(A=123, B=456, C=789)"
   ]
  },
  {
   "cell_type": "code",
   "execution_count": 3,
   "id": "e7ce2c7d",
   "metadata": {},
   "outputs": [
    {
     "data": {
      "text/plain": [
       "{'A': 123, 'B': 456, 'C': 789}"
      ]
     },
     "execution_count": 3,
     "metadata": {},
     "output_type": "execute_result"
    }
   ],
   "source": [
    "data_dict1"
   ]
  },
  {
   "cell_type": "code",
   "execution_count": 4,
   "id": "73c6a464",
   "metadata": {},
   "outputs": [
    {
     "data": {
      "text/plain": [
       "{'A': 123, 'B': 456, 'C': 789}"
      ]
     },
     "execution_count": 4,
     "metadata": {},
     "output_type": "execute_result"
    }
   ],
   "source": [
    "data_dict2"
   ]
  },
  {
   "cell_type": "code",
   "execution_count": 5,
   "id": "f126d85e",
   "metadata": {},
   "outputs": [
    {
     "name": "stdout",
     "output_type": "stream",
     "text": [
      "123\n"
     ]
    }
   ],
   "source": [
    "# key를 활용해 value 출력 \n",
    "print( data_dict1['A'] )"
   ]
  },
  {
   "cell_type": "code",
   "execution_count": 6,
   "id": "878db5fe",
   "metadata": {},
   "outputs": [
    {
     "name": "stdout",
     "output_type": "stream",
     "text": [
      "dict_keys(['A', 'B', 'C'])\n"
     ]
    }
   ],
   "source": [
    "# key만 출력\n",
    "print( data_dict1.keys() ) "
   ]
  },
  {
   "cell_type": "markdown",
   "id": "2d879c00",
   "metadata": {},
   "source": [
    " - list 형태로 추출"
   ]
  },
  {
   "cell_type": "code",
   "execution_count": 7,
   "id": "9a76143f",
   "metadata": {},
   "outputs": [
    {
     "name": "stdout",
     "output_type": "stream",
     "text": [
      "A\n",
      "B\n",
      "C\n"
     ]
    }
   ],
   "source": [
    "for key in data_dict1.keys():\n",
    "    print(key)"
   ]
  },
  {
   "cell_type": "code",
   "execution_count": 8,
   "id": "16e323ef",
   "metadata": {},
   "outputs": [
    {
     "name": "stdout",
     "output_type": "stream",
     "text": [
      "dict_values([123, 456, 789])\n"
     ]
    }
   ],
   "source": [
    "# value만 출력\n",
    "print( data_dict1.values() )"
   ]
  },
  {
   "cell_type": "code",
   "execution_count": 9,
   "id": "73d3645d",
   "metadata": {},
   "outputs": [
    {
     "name": "stdout",
     "output_type": "stream",
     "text": [
      "123\n",
      "456\n",
      "789\n"
     ]
    }
   ],
   "source": [
    "for value in data_dict1.values():\n",
    "    print(value)"
   ]
  },
  {
   "cell_type": "code",
   "execution_count": 10,
   "id": "0ea6d5e5",
   "metadata": {},
   "outputs": [
    {
     "name": "stdout",
     "output_type": "stream",
     "text": [
      "A 123\n",
      "B 456\n",
      "C 789\n"
     ]
    }
   ],
   "source": [
    "# key와 value 모두 출력\n",
    "for key, value in data_dict1.items():\n",
    "    print(key, value)"
   ]
  },
  {
   "cell_type": "code",
   "execution_count": 11,
   "id": "b8368e56",
   "metadata": {},
   "outputs": [
    {
     "name": "stdout",
     "output_type": "stream",
     "text": [
      "('A', 123)\n",
      "('B', 456)\n",
      "('C', 789)\n"
     ]
    }
   ],
   "source": [
    "for data in data_dict1.items():\n",
    "    print(data)"
   ]
  },
  {
   "cell_type": "code",
   "execution_count": 12,
   "id": "b258691a",
   "metadata": {},
   "outputs": [
    {
     "name": "stdout",
     "output_type": "stream",
     "text": [
      "123\n",
      "456\n",
      "789\n"
     ]
    }
   ],
   "source": [
    "# key를 가지고 value 출력 \n",
    "for key in data_dict1.keys():\n",
    "    print(data_dict1[key])"
   ]
  },
  {
   "cell_type": "code",
   "execution_count": null,
   "id": "589cda1b",
   "metadata": {},
   "outputs": [],
   "source": []
  }
 ],
 "metadata": {
  "kernelspec": {
   "display_name": "Python 3 (ipykernel)",
   "language": "python",
   "name": "python3"
  },
  "language_info": {
   "codemirror_mode": {
    "name": "ipython",
    "version": 3
   },
   "file_extension": ".py",
   "mimetype": "text/x-python",
   "name": "python",
   "nbconvert_exporter": "python",
   "pygments_lexer": "ipython3",
   "version": "3.9.7"
  }
 },
 "nbformat": 4,
 "nbformat_minor": 5
}
