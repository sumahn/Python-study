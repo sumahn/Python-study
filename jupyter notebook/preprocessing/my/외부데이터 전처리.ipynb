{
 "cells": [
  {
   "cell_type": "markdown",
   "metadata": {},
   "source": [
    "## 외부데이터 불러오기"
   ]
  },
  {
   "cell_type": "code",
   "execution_count": 2,
   "metadata": {
    "ExecuteTime": {
     "end_time": "2020-09-11T04:40:55.450008Z",
     "start_time": "2020-09-11T04:40:55.125990Z"
    }
   },
   "outputs": [],
   "source": [
    "import pandas as pd\n",
    "import numpy as np"
   ]
  },
  {
   "cell_type": "code",
   "execution_count": 59,
   "metadata": {
    "ExecuteTime": {
     "end_time": "2020-09-11T05:56:10.725294Z",
     "start_time": "2020-09-11T05:56:09.396544Z"
    }
   },
   "outputs": [],
   "source": [
    "df_categories = [\"1903\",\"1904\",\"1905\",\"1906\",\"1907\",\"1908\",\"1909\",\"1910\",\"1911\",\"1912\",\"2006\"]\n",
    "dfs = {}\n",
    "df_list = []\n",
    "\n",
    "for df in df_categories:\n",
    "    df_name = df\n",
    "    filename = \"../../data/외부/{}.csv\".format(df)\n",
    "    \n",
    "    dfs[df_name] = pd.read_csv(filename, index_col=0).reset_index()"
   ]
  },
  {
   "cell_type": "code",
   "execution_count": 60,
   "metadata": {
    "ExecuteTime": {
     "end_time": "2020-09-11T05:56:12.047525Z",
     "start_time": "2020-09-11T05:56:11.831646Z"
    }
   },
   "outputs": [],
   "source": [
    "dfs[\"1901\"] = pd.read_csv(\"../../data/외부/1912.csv\")\n",
    "dfs[\"1902\"] = pd.read_csv(\"../../data/외부/2001.csv\")"
   ]
  },
  {
   "cell_type": "code",
   "execution_count": 63,
   "metadata": {
    "ExecuteTime": {
     "end_time": "2020-09-11T05:56:37.940566Z",
     "start_time": "2020-09-11T05:56:34.116197Z"
    }
   },
   "outputs": [],
   "source": [
    "for df in dfs:\n",
    "    dfs[df][\"일\"] = dfs[df][\"일자\"].apply(lambda x:int(str(x)[6:8]))\n",
    "    dfs[df][\"월\"] = dfs[df][\"일자\"].apply(lambda x:int(str(x)[4:6]))\n",
    "    dfs[df].drop(columns=[\"일자\"], inplace=True)"
   ]
  },
  {
   "cell_type": "code",
   "execution_count": 64,
   "metadata": {
    "ExecuteTime": {
     "end_time": "2020-09-11T05:56:43.525735Z",
     "start_time": "2020-09-11T05:56:43.508544Z"
    }
   },
   "outputs": [],
   "source": [
    "dfs[\"1902\"][\"월\"] = dfs[\"1902\"][\"월\"].replace(1,2)\n",
    "dfs[\"1901\"][\"월\"] = dfs[\"1901\"][\"월\"].replace(12,1)"
   ]
  },
  {
   "cell_type": "code",
   "execution_count": 65,
   "metadata": {
    "ExecuteTime": {
     "end_time": "2020-09-11T05:56:46.610604Z",
     "start_time": "2020-09-11T05:56:45.026455Z"
    }
   },
   "outputs": [],
   "source": [
    "new_df = None\n",
    "for df in dfs:\n",
    "    new_df = pd.concat([new_df, dfs[df]])"
   ]
  },
  {
   "cell_type": "code",
   "execution_count": 68,
   "metadata": {
    "ExecuteTime": {
     "end_time": "2020-09-11T05:57:09.339325Z",
     "start_time": "2020-09-11T05:57:09.334011Z"
    }
   },
   "outputs": [],
   "source": [
    "new_df.rename(columns={\"시간(1시간단위)\":\"시간\"}, inplace=True)"
   ]
  },
  {
   "cell_type": "code",
   "execution_count": 69,
   "metadata": {
    "ExecuteTime": {
     "end_time": "2020-09-11T05:57:11.601701Z",
     "start_time": "2020-09-11T05:57:11.163984Z"
    }
   },
   "outputs": [],
   "source": [
    "new_df2= new_df.groupby([\"월\",\"일\",\"시간\",\"성별\",\"연령대(10세단위)\"])[\"유동인구수\"].sum().reset_index()"
   ]
  },
  {
   "cell_type": "code",
   "execution_count": 72,
   "metadata": {
    "ExecuteTime": {
     "end_time": "2020-09-11T05:57:55.847243Z",
     "start_time": "2020-09-11T05:57:55.788940Z"
    }
   },
   "outputs": [],
   "source": [
    "all_flt = new_df2.groupby([\"월\",\"일\",\"시간\"])[\"유동인구수\"].sum().reset_index().rename(columns={\"유동인구수\":\"전체유동인구수\"})\n",
    "mean_flt = new_df2.groupby([\"월\",\"일\",\"시간\"])[\"유동인구수\"].mean().reset_index().rename(columns={\"유동인구수\":\"평균유동인구수\"})\n",
    "sd_flt = new_df2.groupby([\"월\",\"일\",\"시간\"])[\"유동인구수\"].std().reset_index().rename(columns={\"유동인구수\":\"유동인구수표준편차\"})"
   ]
  },
  {
   "cell_type": "code",
   "execution_count": 73,
   "metadata": {
    "ExecuteTime": {
     "end_time": "2020-09-11T05:58:04.959337Z",
     "start_time": "2020-09-11T05:58:04.865266Z"
    }
   },
   "outputs": [],
   "source": [
    "new_df3 = new_df2.pivot_table(columns=[\"성별\",\"연령대(10세단위)\"], values=[\"유동인구수\"], index=[\"월\",\"일\",\"시간\"]).reset_index()"
   ]
  },
  {
   "cell_type": "markdown",
   "metadata": {},
   "source": [
    "## 기존 데이터와 결합"
   ]
  },
  {
   "cell_type": "code",
   "execution_count": 74,
   "metadata": {
    "ExecuteTime": {
     "end_time": "2020-09-11T05:58:09.973147Z",
     "start_time": "2020-09-11T05:58:09.786449Z"
    }
   },
   "outputs": [],
   "source": [
    "df = pd.read_pickle(\"../../data/pre/merged.pkl\")\n",
    "original_df = df.copy()"
   ]
  },
  {
   "cell_type": "code",
   "execution_count": 76,
   "metadata": {
    "ExecuteTime": {
     "end_time": "2020-09-11T05:58:14.966509Z",
     "start_time": "2020-09-11T05:58:14.947686Z"
    }
   },
   "outputs": [
    {
     "data": {
      "text/html": [
       "<div>\n",
       "<style scoped>\n",
       "    .dataframe tbody tr th:only-of-type {\n",
       "        vertical-align: middle;\n",
       "    }\n",
       "\n",
       "    .dataframe tbody tr th {\n",
       "        vertical-align: top;\n",
       "    }\n",
       "\n",
       "    .dataframe thead tr th {\n",
       "        text-align: left;\n",
       "    }\n",
       "</style>\n",
       "<table border=\"1\" class=\"dataframe\">\n",
       "  <thead>\n",
       "    <tr>\n",
       "      <th></th>\n",
       "      <th>월</th>\n",
       "      <th>일</th>\n",
       "      <th>시간</th>\n",
       "      <th colspan=\"12\" halign=\"left\">유동인구수</th>\n",
       "    </tr>\n",
       "    <tr>\n",
       "      <th>성별</th>\n",
       "      <th></th>\n",
       "      <th></th>\n",
       "      <th></th>\n",
       "      <th colspan=\"6\" halign=\"left\">남성</th>\n",
       "      <th colspan=\"6\" halign=\"left\">여성</th>\n",
       "    </tr>\n",
       "    <tr>\n",
       "      <th>연령대(10세단위)</th>\n",
       "      <th></th>\n",
       "      <th></th>\n",
       "      <th></th>\n",
       "      <th>20</th>\n",
       "      <th>30</th>\n",
       "      <th>40</th>\n",
       "      <th>50</th>\n",
       "      <th>60</th>\n",
       "      <th>70</th>\n",
       "      <th>20</th>\n",
       "      <th>30</th>\n",
       "      <th>40</th>\n",
       "      <th>50</th>\n",
       "      <th>60</th>\n",
       "      <th>70</th>\n",
       "    </tr>\n",
       "  </thead>\n",
       "  <tbody>\n",
       "    <tr>\n",
       "      <th>0</th>\n",
       "      <td>1</td>\n",
       "      <td>1</td>\n",
       "      <td>0</td>\n",
       "      <td>755940</td>\n",
       "      <td>825150</td>\n",
       "      <td>801650</td>\n",
       "      <td>745560</td>\n",
       "      <td>474750</td>\n",
       "      <td>318970</td>\n",
       "      <td>733380</td>\n",
       "      <td>783070</td>\n",
       "      <td>805200</td>\n",
       "      <td>790280</td>\n",
       "      <td>523200</td>\n",
       "      <td>440390</td>\n",
       "    </tr>\n",
       "    <tr>\n",
       "      <th>1</th>\n",
       "      <td>1</td>\n",
       "      <td>1</td>\n",
       "      <td>1</td>\n",
       "      <td>753120</td>\n",
       "      <td>822170</td>\n",
       "      <td>799050</td>\n",
       "      <td>743250</td>\n",
       "      <td>473140</td>\n",
       "      <td>317770</td>\n",
       "      <td>730710</td>\n",
       "      <td>781020</td>\n",
       "      <td>804020</td>\n",
       "      <td>789520</td>\n",
       "      <td>522690</td>\n",
       "      <td>439570</td>\n",
       "    </tr>\n",
       "    <tr>\n",
       "      <th>2</th>\n",
       "      <td>1</td>\n",
       "      <td>1</td>\n",
       "      <td>2</td>\n",
       "      <td>749900</td>\n",
       "      <td>819130</td>\n",
       "      <td>796690</td>\n",
       "      <td>741340</td>\n",
       "      <td>471620</td>\n",
       "      <td>316080</td>\n",
       "      <td>728950</td>\n",
       "      <td>779370</td>\n",
       "      <td>802750</td>\n",
       "      <td>788410</td>\n",
       "      <td>521690</td>\n",
       "      <td>438180</td>\n",
       "    </tr>\n",
       "    <tr>\n",
       "      <th>3</th>\n",
       "      <td>1</td>\n",
       "      <td>1</td>\n",
       "      <td>3</td>\n",
       "      <td>745000</td>\n",
       "      <td>816560</td>\n",
       "      <td>794490</td>\n",
       "      <td>739200</td>\n",
       "      <td>469380</td>\n",
       "      <td>313880</td>\n",
       "      <td>727370</td>\n",
       "      <td>777690</td>\n",
       "      <td>801330</td>\n",
       "      <td>786930</td>\n",
       "      <td>520070</td>\n",
       "      <td>436340</td>\n",
       "    </tr>\n",
       "    <tr>\n",
       "      <th>4</th>\n",
       "      <td>1</td>\n",
       "      <td>1</td>\n",
       "      <td>4</td>\n",
       "      <td>742860</td>\n",
       "      <td>813770</td>\n",
       "      <td>791960</td>\n",
       "      <td>736930</td>\n",
       "      <td>467190</td>\n",
       "      <td>312090</td>\n",
       "      <td>725910</td>\n",
       "      <td>776230</td>\n",
       "      <td>799380</td>\n",
       "      <td>785300</td>\n",
       "      <td>518470</td>\n",
       "      <td>434950</td>\n",
       "    </tr>\n",
       "  </tbody>\n",
       "</table>\n",
       "</div>"
      ],
      "text/plain": [
       "            월  일 시간   유동인구수                                                  \\\n",
       "성별                       남성                                              여성   \n",
       "연령대(10세단위)               20      30      40      50      60      70      20   \n",
       "0           1  1  0  755940  825150  801650  745560  474750  318970  733380   \n",
       "1           1  1  1  753120  822170  799050  743250  473140  317770  730710   \n",
       "2           1  1  2  749900  819130  796690  741340  471620  316080  728950   \n",
       "3           1  1  3  745000  816560  794490  739200  469380  313880  727370   \n",
       "4           1  1  4  742860  813770  791960  736930  467190  312090  725910   \n",
       "\n",
       "                                                    \n",
       "성별                                                  \n",
       "연령대(10세단위)      30      40      50      60      70  \n",
       "0           783070  805200  790280  523200  440390  \n",
       "1           781020  804020  789520  522690  439570  \n",
       "2           779370  802750  788410  521690  438180  \n",
       "3           777690  801330  786930  520070  436340  \n",
       "4           776230  799380  785300  518470  434950  "
      ]
     },
     "execution_count": 76,
     "metadata": {},
     "output_type": "execute_result"
    }
   ],
   "source": [
    "new_df3.head()"
   ]
  },
  {
   "cell_type": "code",
   "execution_count": 78,
   "metadata": {
    "ExecuteTime": {
     "end_time": "2020-09-11T05:58:52.813488Z",
     "start_time": "2020-09-11T05:58:52.784886Z"
    }
   },
   "outputs": [],
   "source": [
    "original_df[\"연\"] = original_df[\"방송일시\"].dt.year\n",
    "original_df[\"월\"] = original_df[\"방송일시\"].dt.month\n",
    "original_df[\"일\"] = original_df[\"방송일시\"].dt.day\n",
    "original_df[\"시간\"] = original_df[\"방송일시\"].dt.hour\n",
    "original_df[\"분\"] = original_df[\"방송일시\"].dt.minute\n",
    "original_df[\"요일\"] = original_df[\"방송일시\"].dt.weekday"
   ]
  },
  {
   "cell_type": "code",
   "execution_count": 79,
   "metadata": {
    "ExecuteTime": {
     "end_time": "2020-09-11T05:58:54.622174Z",
     "start_time": "2020-09-11T05:58:54.518900Z"
    }
   },
   "outputs": [
    {
     "name": "stderr",
     "output_type": "stream",
     "text": [
      "C:\\Users\\cktna\\anaconda3\\lib\\site-packages\\pandas\\core\\reshape\\merge.py:643: UserWarning: merging between different levels can give an unintended result (1 levels on the left,3 on the right)\n",
      "  warnings.warn(msg, UserWarning)\n",
      "C:\\Users\\cktna\\anaconda3\\lib\\site-packages\\pandas\\core\\generic.py:3884: PerformanceWarning: dropping on a non-lexsorted multi-index without a level parameter may impact performance.\n",
      "  obj = obj._drop_axis(labels, axis, level=level, errors=errors)\n"
     ]
    }
   ],
   "source": [
    "tmp_df = pd.merge(original_df, new_df3, on=[\"월\",\"일\",\"시간\"], how=\"left\")"
   ]
  },
  {
   "cell_type": "code",
   "execution_count": 105,
   "metadata": {
    "ExecuteTime": {
     "end_time": "2020-09-11T06:14:03.657543Z",
     "start_time": "2020-09-11T06:13:51.998730Z"
    }
   },
   "outputs": [],
   "source": [
    "tmp_df2 = pd.merge(tmp_df, all_flt, on=[\"월\",\"일\",\"시간\"], how=\"left\")\n",
    "tmp_df3 = pd.merge(tmp_df2, mean_flt, on=[\"월\",\"일\",\"시간\"], how=\"left\")\n",
    "final_df = pd.merge(tmp_df3, sd_flt, on=[\"월\",\"일\",\"시간\"], how=\"left\")"
   ]
  },
  {
   "cell_type": "code",
   "execution_count": 106,
   "metadata": {
    "ExecuteTime": {
     "end_time": "2020-09-11T06:14:05.621209Z",
     "start_time": "2020-09-11T06:14:05.273829Z"
    }
   },
   "outputs": [],
   "source": [
    "final_df.fillna(method='ffill', inplace=True)"
   ]
  },
  {
   "cell_type": "code",
   "execution_count": 108,
   "metadata": {
    "ExecuteTime": {
     "end_time": "2020-09-11T06:14:24.761291Z",
     "start_time": "2020-09-11T06:14:15.299507Z"
    }
   },
   "outputs": [],
   "source": [
    "final_df.to_csv(\"../../data/pre/final1.csv\", index=False)"
   ]
  }
 ],
 "metadata": {
  "kernelspec": {
   "display_name": "Python 3",
   "language": "python",
   "name": "python3"
  },
  "language_info": {
   "codemirror_mode": {
    "name": "ipython",
    "version": 3
   },
   "file_extension": ".py",
   "mimetype": "text/x-python",
   "name": "python",
   "nbconvert_exporter": "python",
   "pygments_lexer": "ipython3",
   "version": "3.6.10"
  },
  "toc": {
   "base_numbering": 1,
   "nav_menu": {},
   "number_sections": true,
   "sideBar": true,
   "skip_h1_title": false,
   "title_cell": "Table of Contents",
   "title_sidebar": "Contents",
   "toc_cell": false,
   "toc_position": {},
   "toc_section_display": true,
   "toc_window_display": false
  },
  "varInspector": {
   "cols": {
    "lenName": 16,
    "lenType": 16,
    "lenVar": 40
   },
   "kernels_config": {
    "python": {
     "delete_cmd_postfix": "",
     "delete_cmd_prefix": "del ",
     "library": "var_list.py",
     "varRefreshCmd": "print(var_dic_list())"
    },
    "r": {
     "delete_cmd_postfix": ") ",
     "delete_cmd_prefix": "rm(",
     "library": "var_list.r",
     "varRefreshCmd": "cat(var_dic_list()) "
    }
   },
   "types_to_exclude": [
    "module",
    "function",
    "builtin_function_or_method",
    "instance",
    "_Feature"
   ],
   "window_display": false
  }
 },
 "nbformat": 4,
 "nbformat_minor": 4
}
