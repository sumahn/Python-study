{
 "cells": [
  {
   "cell_type": "code",
   "execution_count": 1,
   "metadata": {
    "ExecuteTime": {
     "end_time": "2020-08-05T08:25:32.500941Z",
     "start_time": "2020-08-05T08:25:32.144792Z"
    }
   },
   "outputs": [],
   "source": [
    "import numpy as np\n",
    "import pandas as pd"
   ]
  },
  {
   "cell_type": "markdown",
   "metadata": {},
   "source": [
    "# Load data"
   ]
  },
  {
   "cell_type": "code",
   "execution_count": 2,
   "metadata": {
    "ExecuteTime": {
     "end_time": "2020-08-05T08:25:36.606496Z",
     "start_time": "2020-08-05T08:25:33.317238Z"
    }
   },
   "outputs": [],
   "source": [
    "sales_train = pd.read_excel('sales_train.xlsx', header=1)\n",
    "sales_test = pd.read_excel('sales_test.xlsx', header=1)"
   ]
  },
  {
   "cell_type": "code",
   "execution_count": 3,
   "metadata": {
    "ExecuteTime": {
     "end_time": "2020-08-05T08:25:36.628351Z",
     "start_time": "2020-08-05T08:25:36.607453Z"
    }
   },
   "outputs": [
    {
     "data": {
      "text/html": [
       "<div>\n",
       "<style scoped>\n",
       "    .dataframe tbody tr th:only-of-type {\n",
       "        vertical-align: middle;\n",
       "    }\n",
       "\n",
       "    .dataframe tbody tr th {\n",
       "        vertical-align: top;\n",
       "    }\n",
       "\n",
       "    .dataframe thead th {\n",
       "        text-align: right;\n",
       "    }\n",
       "</style>\n",
       "<table border=\"1\" class=\"dataframe\">\n",
       "  <thead>\n",
       "    <tr style=\"text-align: right;\">\n",
       "      <th></th>\n",
       "      <th>방송일시</th>\n",
       "      <th>노출(분)</th>\n",
       "      <th>마더코드</th>\n",
       "      <th>상품코드</th>\n",
       "      <th>상품명</th>\n",
       "      <th>상품군</th>\n",
       "      <th>판매단가</th>\n",
       "      <th>취급액</th>\n",
       "    </tr>\n",
       "  </thead>\n",
       "  <tbody>\n",
       "    <tr>\n",
       "      <th>0</th>\n",
       "      <td>2019-01-01 06:00:00</td>\n",
       "      <td>20.000000</td>\n",
       "      <td>100346</td>\n",
       "      <td>201072</td>\n",
       "      <td>테이트 남성 셀린니트3종</td>\n",
       "      <td>의류</td>\n",
       "      <td>39900</td>\n",
       "      <td>2099000.0</td>\n",
       "    </tr>\n",
       "    <tr>\n",
       "      <th>1</th>\n",
       "      <td>2019-01-01 06:00:00</td>\n",
       "      <td>NaN</td>\n",
       "      <td>100346</td>\n",
       "      <td>201079</td>\n",
       "      <td>테이트 여성 셀린니트3종</td>\n",
       "      <td>의류</td>\n",
       "      <td>39900</td>\n",
       "      <td>4371000.0</td>\n",
       "    </tr>\n",
       "    <tr>\n",
       "      <th>2</th>\n",
       "      <td>2019-01-01 06:20:00</td>\n",
       "      <td>20.000000</td>\n",
       "      <td>100346</td>\n",
       "      <td>201072</td>\n",
       "      <td>테이트 남성 셀린니트3종</td>\n",
       "      <td>의류</td>\n",
       "      <td>39900</td>\n",
       "      <td>3262000.0</td>\n",
       "    </tr>\n",
       "    <tr>\n",
       "      <th>3</th>\n",
       "      <td>2019-01-01 06:20:00</td>\n",
       "      <td>NaN</td>\n",
       "      <td>100346</td>\n",
       "      <td>201079</td>\n",
       "      <td>테이트 여성 셀린니트3종</td>\n",
       "      <td>의류</td>\n",
       "      <td>39900</td>\n",
       "      <td>6955000.0</td>\n",
       "    </tr>\n",
       "    <tr>\n",
       "      <th>4</th>\n",
       "      <td>2019-01-01 06:40:00</td>\n",
       "      <td>20.000000</td>\n",
       "      <td>100346</td>\n",
       "      <td>201072</td>\n",
       "      <td>테이트 남성 셀린니트3종</td>\n",
       "      <td>의류</td>\n",
       "      <td>39900</td>\n",
       "      <td>6672000.0</td>\n",
       "    </tr>\n",
       "    <tr>\n",
       "      <th>...</th>\n",
       "      <td>...</td>\n",
       "      <td>...</td>\n",
       "      <td>...</td>\n",
       "      <td>...</td>\n",
       "      <td>...</td>\n",
       "      <td>...</td>\n",
       "      <td>...</td>\n",
       "      <td>...</td>\n",
       "    </tr>\n",
       "    <tr>\n",
       "      <th>38304</th>\n",
       "      <td>2020-01-01 00:20:00</td>\n",
       "      <td>20.000000</td>\n",
       "      <td>100073</td>\n",
       "      <td>200196</td>\n",
       "      <td>삼성화재 행복한파트너 주택화재보험(1912)</td>\n",
       "      <td>무형</td>\n",
       "      <td>0</td>\n",
       "      <td>NaN</td>\n",
       "    </tr>\n",
       "    <tr>\n",
       "      <th>38305</th>\n",
       "      <td>2020-01-01 00:40:00</td>\n",
       "      <td>20.000000</td>\n",
       "      <td>100073</td>\n",
       "      <td>200196</td>\n",
       "      <td>삼성화재 행복한파트너 주택화재보험(1912)</td>\n",
       "      <td>무형</td>\n",
       "      <td>0</td>\n",
       "      <td>NaN</td>\n",
       "    </tr>\n",
       "    <tr>\n",
       "      <th>38306</th>\n",
       "      <td>2020-01-01 01:00:00</td>\n",
       "      <td>20.000000</td>\n",
       "      <td>100073</td>\n",
       "      <td>200196</td>\n",
       "      <td>삼성화재 행복한파트너 주택화재보험(1912)</td>\n",
       "      <td>무형</td>\n",
       "      <td>0</td>\n",
       "      <td>NaN</td>\n",
       "    </tr>\n",
       "    <tr>\n",
       "      <th>38307</th>\n",
       "      <td>2020-01-01 01:20:00</td>\n",
       "      <td>20.000000</td>\n",
       "      <td>100490</td>\n",
       "      <td>201478</td>\n",
       "      <td>더케이 예다함 상조서비스(티포트)</td>\n",
       "      <td>무형</td>\n",
       "      <td>0</td>\n",
       "      <td>NaN</td>\n",
       "    </tr>\n",
       "    <tr>\n",
       "      <th>38308</th>\n",
       "      <td>2020-01-01 01:40:00</td>\n",
       "      <td>17.166667</td>\n",
       "      <td>100490</td>\n",
       "      <td>201478</td>\n",
       "      <td>더케이 예다함 상조서비스(티포트)</td>\n",
       "      <td>무형</td>\n",
       "      <td>0</td>\n",
       "      <td>NaN</td>\n",
       "    </tr>\n",
       "  </tbody>\n",
       "</table>\n",
       "<p>38309 rows × 8 columns</p>\n",
       "</div>"
      ],
      "text/plain": [
       "                     방송일시      노출(분)    마더코드    상품코드  \\\n",
       "0     2019-01-01 06:00:00  20.000000  100346  201072   \n",
       "1     2019-01-01 06:00:00        NaN  100346  201079   \n",
       "2     2019-01-01 06:20:00  20.000000  100346  201072   \n",
       "3     2019-01-01 06:20:00        NaN  100346  201079   \n",
       "4     2019-01-01 06:40:00  20.000000  100346  201072   \n",
       "...                   ...        ...     ...     ...   \n",
       "38304 2020-01-01 00:20:00  20.000000  100073  200196   \n",
       "38305 2020-01-01 00:40:00  20.000000  100073  200196   \n",
       "38306 2020-01-01 01:00:00  20.000000  100073  200196   \n",
       "38307 2020-01-01 01:20:00  20.000000  100490  201478   \n",
       "38308 2020-01-01 01:40:00  17.166667  100490  201478   \n",
       "\n",
       "                            상품명 상품군   판매단가        취급액  \n",
       "0                 테이트 남성 셀린니트3종  의류  39900  2099000.0  \n",
       "1                 테이트 여성 셀린니트3종  의류  39900  4371000.0  \n",
       "2                 테이트 남성 셀린니트3종  의류  39900  3262000.0  \n",
       "3                 테이트 여성 셀린니트3종  의류  39900  6955000.0  \n",
       "4                 테이트 남성 셀린니트3종  의류  39900  6672000.0  \n",
       "...                         ...  ..    ...        ...  \n",
       "38304  삼성화재 행복한파트너 주택화재보험(1912)  무형      0        NaN  \n",
       "38305  삼성화재 행복한파트너 주택화재보험(1912)  무형      0        NaN  \n",
       "38306  삼성화재 행복한파트너 주택화재보험(1912)  무형      0        NaN  \n",
       "38307        더케이 예다함 상조서비스(티포트)  무형      0        NaN  \n",
       "38308        더케이 예다함 상조서비스(티포트)  무형      0        NaN  \n",
       "\n",
       "[38309 rows x 8 columns]"
      ]
     },
     "execution_count": 3,
     "metadata": {},
     "output_type": "execute_result"
    }
   ],
   "source": [
    "sales_train"
   ]
  },
  {
   "cell_type": "code",
   "execution_count": 4,
   "metadata": {
    "ExecuteTime": {
     "end_time": "2020-08-05T08:25:36.635332Z",
     "start_time": "2020-08-05T08:25:36.630369Z"
    }
   },
   "outputs": [
    {
     "data": {
      "text/plain": [
       "(38309, 8)"
      ]
     },
     "execution_count": 4,
     "metadata": {},
     "output_type": "execute_result"
    }
   ],
   "source": [
    "sales_train.shape"
   ]
  },
  {
   "cell_type": "code",
   "execution_count": 5,
   "metadata": {
    "ExecuteTime": {
     "end_time": "2020-08-05T08:25:36.813886Z",
     "start_time": "2020-08-05T08:25:36.636330Z"
    }
   },
   "outputs": [
    {
     "data": {
      "text/plain": [
       "방송일시     21525\n",
       "노출(분)      103\n",
       "마더코드       716\n",
       "상품코드      2124\n",
       "상품명       1770\n",
       "상품군         12\n",
       "판매단가       391\n",
       "취급액      24140\n",
       "dtype: int64"
      ]
     },
     "execution_count": 5,
     "metadata": {},
     "output_type": "execute_result"
    }
   ],
   "source": [
    "sales_train.nunique()"
   ]
  },
  {
   "cell_type": "code",
   "execution_count": 6,
   "metadata": {
    "ExecuteTime": {
     "end_time": "2020-08-05T08:25:36.829845Z",
     "start_time": "2020-08-05T08:25:36.814853Z"
    }
   },
   "outputs": [
    {
     "data": {
      "text/html": [
       "<div>\n",
       "<style scoped>\n",
       "    .dataframe tbody tr th:only-of-type {\n",
       "        vertical-align: middle;\n",
       "    }\n",
       "\n",
       "    .dataframe tbody tr th {\n",
       "        vertical-align: top;\n",
       "    }\n",
       "\n",
       "    .dataframe thead th {\n",
       "        text-align: right;\n",
       "    }\n",
       "</style>\n",
       "<table border=\"1\" class=\"dataframe\">\n",
       "  <thead>\n",
       "    <tr style=\"text-align: right;\">\n",
       "      <th></th>\n",
       "      <th>방송일시</th>\n",
       "      <th>노출(분)</th>\n",
       "      <th>마더코드</th>\n",
       "      <th>상품코드</th>\n",
       "      <th>상품명</th>\n",
       "      <th>상품군</th>\n",
       "      <th>판매단가</th>\n",
       "      <th>취급액</th>\n",
       "    </tr>\n",
       "  </thead>\n",
       "  <tbody>\n",
       "    <tr>\n",
       "      <th>0</th>\n",
       "      <td>2020-06-01 06:20:00</td>\n",
       "      <td>20.000000</td>\n",
       "      <td>100650</td>\n",
       "      <td>201971</td>\n",
       "      <td>잭필드 남성  반팔셔츠 4종</td>\n",
       "      <td>의류</td>\n",
       "      <td>59800</td>\n",
       "      <td>NaN</td>\n",
       "    </tr>\n",
       "    <tr>\n",
       "      <th>1</th>\n",
       "      <td>2020-06-01 06:40:00</td>\n",
       "      <td>20.000000</td>\n",
       "      <td>100650</td>\n",
       "      <td>201971</td>\n",
       "      <td>잭필드 남성  반팔셔츠 4종</td>\n",
       "      <td>의류</td>\n",
       "      <td>59800</td>\n",
       "      <td>NaN</td>\n",
       "    </tr>\n",
       "    <tr>\n",
       "      <th>2</th>\n",
       "      <td>2020-06-01 07:00:00</td>\n",
       "      <td>20.000000</td>\n",
       "      <td>100650</td>\n",
       "      <td>201971</td>\n",
       "      <td>잭필드 남성  반팔셔츠 4종</td>\n",
       "      <td>의류</td>\n",
       "      <td>59800</td>\n",
       "      <td>NaN</td>\n",
       "    </tr>\n",
       "    <tr>\n",
       "      <th>3</th>\n",
       "      <td>2020-06-01 07:20:00</td>\n",
       "      <td>20.000000</td>\n",
       "      <td>100445</td>\n",
       "      <td>202278</td>\n",
       "      <td>쿠미투니카 쿨 레이시 란쥬쉐이퍼&amp;팬티</td>\n",
       "      <td>속옷</td>\n",
       "      <td>69900</td>\n",
       "      <td>NaN</td>\n",
       "    </tr>\n",
       "    <tr>\n",
       "      <th>4</th>\n",
       "      <td>2020-06-01 07:40:00</td>\n",
       "      <td>20.000000</td>\n",
       "      <td>100445</td>\n",
       "      <td>202278</td>\n",
       "      <td>쿠미투니카 쿨 레이시 란쥬쉐이퍼&amp;팬티</td>\n",
       "      <td>속옷</td>\n",
       "      <td>69900</td>\n",
       "      <td>NaN</td>\n",
       "    </tr>\n",
       "    <tr>\n",
       "      <th>...</th>\n",
       "      <td>...</td>\n",
       "      <td>...</td>\n",
       "      <td>...</td>\n",
       "      <td>...</td>\n",
       "      <td>...</td>\n",
       "      <td>...</td>\n",
       "      <td>...</td>\n",
       "      <td>...</td>\n",
       "    </tr>\n",
       "    <tr>\n",
       "      <th>2886</th>\n",
       "      <td>2020-07-01 00:20:00</td>\n",
       "      <td>20.000000</td>\n",
       "      <td>100660</td>\n",
       "      <td>201989</td>\n",
       "      <td>쉴렉스  안마의자 렌탈서비스</td>\n",
       "      <td>무형</td>\n",
       "      <td>0</td>\n",
       "      <td>NaN</td>\n",
       "    </tr>\n",
       "    <tr>\n",
       "      <th>2887</th>\n",
       "      <td>2020-07-01 00:40:00</td>\n",
       "      <td>20.000000</td>\n",
       "      <td>100660</td>\n",
       "      <td>201989</td>\n",
       "      <td>쉴렉스  안마의자 렌탈서비스</td>\n",
       "      <td>무형</td>\n",
       "      <td>0</td>\n",
       "      <td>NaN</td>\n",
       "    </tr>\n",
       "    <tr>\n",
       "      <th>2888</th>\n",
       "      <td>2020-07-01 01:00:00</td>\n",
       "      <td>20.000000</td>\n",
       "      <td>100660</td>\n",
       "      <td>201989</td>\n",
       "      <td>쉴렉스  안마의자 렌탈서비스</td>\n",
       "      <td>무형</td>\n",
       "      <td>0</td>\n",
       "      <td>NaN</td>\n",
       "    </tr>\n",
       "    <tr>\n",
       "      <th>2889</th>\n",
       "      <td>2020-07-01 01:20:00</td>\n",
       "      <td>20.000000</td>\n",
       "      <td>100261</td>\n",
       "      <td>200875</td>\n",
       "      <td>아놀드파마 티셔츠레깅스세트</td>\n",
       "      <td>의류</td>\n",
       "      <td>69900</td>\n",
       "      <td>NaN</td>\n",
       "    </tr>\n",
       "    <tr>\n",
       "      <th>2890</th>\n",
       "      <td>2020-07-01 01:40:00</td>\n",
       "      <td>15.933333</td>\n",
       "      <td>100261</td>\n",
       "      <td>200875</td>\n",
       "      <td>아놀드파마 티셔츠레깅스세트</td>\n",
       "      <td>의류</td>\n",
       "      <td>69900</td>\n",
       "      <td>NaN</td>\n",
       "    </tr>\n",
       "  </tbody>\n",
       "</table>\n",
       "<p>2891 rows × 8 columns</p>\n",
       "</div>"
      ],
      "text/plain": [
       "                    방송일시      노출(분)    마더코드    상품코드                   상품명 상품군  \\\n",
       "0    2020-06-01 06:20:00  20.000000  100650  201971       잭필드 남성  반팔셔츠 4종  의류   \n",
       "1    2020-06-01 06:40:00  20.000000  100650  201971       잭필드 남성  반팔셔츠 4종  의류   \n",
       "2    2020-06-01 07:00:00  20.000000  100650  201971       잭필드 남성  반팔셔츠 4종  의류   \n",
       "3    2020-06-01 07:20:00  20.000000  100445  202278  쿠미투니카 쿨 레이시 란쥬쉐이퍼&팬티  속옷   \n",
       "4    2020-06-01 07:40:00  20.000000  100445  202278  쿠미투니카 쿨 레이시 란쥬쉐이퍼&팬티  속옷   \n",
       "...                  ...        ...     ...     ...                   ...  ..   \n",
       "2886 2020-07-01 00:20:00  20.000000  100660  201989       쉴렉스  안마의자 렌탈서비스  무형   \n",
       "2887 2020-07-01 00:40:00  20.000000  100660  201989       쉴렉스  안마의자 렌탈서비스  무형   \n",
       "2888 2020-07-01 01:00:00  20.000000  100660  201989       쉴렉스  안마의자 렌탈서비스  무형   \n",
       "2889 2020-07-01 01:20:00  20.000000  100261  200875        아놀드파마 티셔츠레깅스세트  의류   \n",
       "2890 2020-07-01 01:40:00  15.933333  100261  200875        아놀드파마 티셔츠레깅스세트  의류   \n",
       "\n",
       "       판매단가  취급액  \n",
       "0     59800  NaN  \n",
       "1     59800  NaN  \n",
       "2     59800  NaN  \n",
       "3     69900  NaN  \n",
       "4     69900  NaN  \n",
       "...     ...  ...  \n",
       "2886      0  NaN  \n",
       "2887      0  NaN  \n",
       "2888      0  NaN  \n",
       "2889  69900  NaN  \n",
       "2890  69900  NaN  \n",
       "\n",
       "[2891 rows x 8 columns]"
      ]
     },
     "execution_count": 6,
     "metadata": {},
     "output_type": "execute_result"
    }
   ],
   "source": [
    "sales_test"
   ]
  },
  {
   "cell_type": "code",
   "execution_count": 7,
   "metadata": {
    "ExecuteTime": {
     "end_time": "2020-08-05T08:25:36.835795Z",
     "start_time": "2020-08-05T08:25:36.830828Z"
    }
   },
   "outputs": [
    {
     "data": {
      "text/plain": [
       "(2891, 8)"
      ]
     },
     "execution_count": 7,
     "metadata": {},
     "output_type": "execute_result"
    }
   ],
   "source": [
    "sales_test.shape"
   ]
  },
  {
   "cell_type": "code",
   "execution_count": 8,
   "metadata": {
    "ExecuteTime": {
     "end_time": "2020-08-05T08:25:36.855770Z",
     "start_time": "2020-08-05T08:25:36.837792Z"
    }
   },
   "outputs": [
    {
     "data": {
      "text/plain": [
       "방송일시     1780\n",
       "노출(분)      21\n",
       "마더코드      225\n",
       "상품코드      417\n",
       "상품명       377\n",
       "상품군        12\n",
       "판매단가      152\n",
       "취급액         0\n",
       "dtype: int64"
      ]
     },
     "execution_count": 8,
     "metadata": {},
     "output_type": "execute_result"
    }
   ],
   "source": [
    "sales_test.nunique()"
   ]
  },
  {
   "cell_type": "markdown",
   "metadata": {},
   "source": [
    "# Preprocessing"
   ]
  },
  {
   "cell_type": "markdown",
   "metadata": {},
   "source": [
    "## Remove data with price==0"
   ]
  },
  {
   "cell_type": "code",
   "execution_count": 9,
   "metadata": {
    "ExecuteTime": {
     "end_time": "2020-08-05T08:25:36.866714Z",
     "start_time": "2020-08-05T08:25:36.858735Z"
    }
   },
   "outputs": [
    {
     "data": {
      "text/plain": [
       "(2716, 8)"
      ]
     },
     "execution_count": 9,
     "metadata": {},
     "output_type": "execute_result"
    }
   ],
   "source": [
    "sales_test = sales_test.loc[sales_test['판매단가']!=0,]\n",
    "sales_test.shape"
   ]
  },
  {
   "cell_type": "markdown",
   "metadata": {},
   "source": [
    "## Replace items that are not in train data"
   ]
  },
  {
   "cell_type": "code",
   "execution_count": 10,
   "metadata": {
    "ExecuteTime": {
     "end_time": "2020-08-05T08:25:36.991413Z",
     "start_time": "2020-08-05T08:25:36.978416Z"
    }
   },
   "outputs": [],
   "source": [
    "lst1 = list(set(sales_test['마더코드'].unique()).intersection(set(sales_train['마더코드'].unique())))\n",
    "lst2 = list(set(sales_test['상품코드'].unique()).intersection(set(sales_train['상품코드'].unique())))\n",
    "lst3 = list(set(sales_test['상품명'].unique()).intersection(set(sales_train['상품명'].unique())))"
   ]
  },
  {
   "cell_type": "code",
   "execution_count": 11,
   "metadata": {
    "ExecuteTime": {
     "end_time": "2020-08-05T08:25:37.444697Z",
     "start_time": "2020-08-05T08:25:37.329921Z"
    }
   },
   "outputs": [],
   "source": [
    "sales_test_replace = sales_test.copy()\n",
    "sales_test_replace = sales_test_replace.reset_index(drop=True)\n",
    "\n",
    "mother_code = []\n",
    "product_code = []\n",
    "product_name = []\n",
    "\n",
    "\n",
    "for i in range(len(sales_test_replace)):\n",
    "    \n",
    "    if sales_test_replace['마더코드'][i] in lst1:\n",
    "        temp1 = 0\n",
    "    else:\n",
    "        temp1 = 1\n",
    "        \n",
    "    if sales_test_replace['상품코드'][i] in lst2:\n",
    "        temp2 = 0\n",
    "    else:\n",
    "        temp2 = 1\n",
    "        \n",
    "    if sales_test_replace['상품명'][i] in lst3:\n",
    "        temp3 = 0\n",
    "    else:\n",
    "        temp3 = 1\n",
    "        \n",
    "    mother_code.append(temp1)\n",
    "    product_code.append(temp2)\n",
    "    product_name.append(temp3)"
   ]
  },
  {
   "cell_type": "code",
   "execution_count": 12,
   "metadata": {
    "ExecuteTime": {
     "end_time": "2020-08-05T08:25:37.642693Z",
     "start_time": "2020-08-05T08:25:37.636709Z"
    }
   },
   "outputs": [],
   "source": [
    "mother_code = np.array(mother_code)\n",
    "product_code = np.array(product_code)\n",
    "product_name = np.array(product_name)"
   ]
  },
  {
   "cell_type": "code",
   "execution_count": 13,
   "metadata": {
    "ExecuteTime": {
     "end_time": "2020-08-05T08:25:38.008391Z",
     "start_time": "2020-08-05T08:25:37.999416Z"
    }
   },
   "outputs": [],
   "source": [
    "sales_test_replace = sales_test_replace.assign(mother_code=mother_code, product_code=product_code, product_name=product_name,\n",
    "                                               tt_sum=mother_code+product_code+product_name)"
   ]
  },
  {
   "cell_type": "code",
   "execution_count": 14,
   "metadata": {
    "ExecuteTime": {
     "end_time": "2020-08-05T08:25:38.368459Z",
     "start_time": "2020-08-05T08:25:38.347485Z"
    }
   },
   "outputs": [
    {
     "data": {
      "text/html": [
       "<div>\n",
       "<style scoped>\n",
       "    .dataframe tbody tr th:only-of-type {\n",
       "        vertical-align: middle;\n",
       "    }\n",
       "\n",
       "    .dataframe tbody tr th {\n",
       "        vertical-align: top;\n",
       "    }\n",
       "\n",
       "    .dataframe thead th {\n",
       "        text-align: right;\n",
       "    }\n",
       "</style>\n",
       "<table border=\"1\" class=\"dataframe\">\n",
       "  <thead>\n",
       "    <tr style=\"text-align: right;\">\n",
       "      <th></th>\n",
       "      <th>방송일시</th>\n",
       "      <th>노출(분)</th>\n",
       "      <th>마더코드</th>\n",
       "      <th>상품코드</th>\n",
       "      <th>상품명</th>\n",
       "      <th>상품군</th>\n",
       "      <th>판매단가</th>\n",
       "      <th>취급액</th>\n",
       "      <th>mother_code</th>\n",
       "      <th>product_code</th>\n",
       "      <th>product_name</th>\n",
       "      <th>tt_sum</th>\n",
       "    </tr>\n",
       "  </thead>\n",
       "  <tbody>\n",
       "    <tr>\n",
       "      <th>0</th>\n",
       "      <td>2020-06-01 06:20:00</td>\n",
       "      <td>20.000000</td>\n",
       "      <td>100650</td>\n",
       "      <td>201971</td>\n",
       "      <td>잭필드 남성  반팔셔츠 4종</td>\n",
       "      <td>의류</td>\n",
       "      <td>59800</td>\n",
       "      <td>NaN</td>\n",
       "      <td>1</td>\n",
       "      <td>1</td>\n",
       "      <td>1</td>\n",
       "      <td>3</td>\n",
       "    </tr>\n",
       "    <tr>\n",
       "      <th>1</th>\n",
       "      <td>2020-06-01 06:40:00</td>\n",
       "      <td>20.000000</td>\n",
       "      <td>100650</td>\n",
       "      <td>201971</td>\n",
       "      <td>잭필드 남성  반팔셔츠 4종</td>\n",
       "      <td>의류</td>\n",
       "      <td>59800</td>\n",
       "      <td>NaN</td>\n",
       "      <td>1</td>\n",
       "      <td>1</td>\n",
       "      <td>1</td>\n",
       "      <td>3</td>\n",
       "    </tr>\n",
       "    <tr>\n",
       "      <th>2</th>\n",
       "      <td>2020-06-01 07:00:00</td>\n",
       "      <td>20.000000</td>\n",
       "      <td>100650</td>\n",
       "      <td>201971</td>\n",
       "      <td>잭필드 남성  반팔셔츠 4종</td>\n",
       "      <td>의류</td>\n",
       "      <td>59800</td>\n",
       "      <td>NaN</td>\n",
       "      <td>1</td>\n",
       "      <td>1</td>\n",
       "      <td>1</td>\n",
       "      <td>3</td>\n",
       "    </tr>\n",
       "    <tr>\n",
       "      <th>3</th>\n",
       "      <td>2020-06-01 07:20:00</td>\n",
       "      <td>20.000000</td>\n",
       "      <td>100445</td>\n",
       "      <td>202278</td>\n",
       "      <td>쿠미투니카 쿨 레이시 란쥬쉐이퍼&amp;팬티</td>\n",
       "      <td>속옷</td>\n",
       "      <td>69900</td>\n",
       "      <td>NaN</td>\n",
       "      <td>0</td>\n",
       "      <td>1</td>\n",
       "      <td>0</td>\n",
       "      <td>1</td>\n",
       "    </tr>\n",
       "    <tr>\n",
       "      <th>4</th>\n",
       "      <td>2020-06-01 07:40:00</td>\n",
       "      <td>20.000000</td>\n",
       "      <td>100445</td>\n",
       "      <td>202278</td>\n",
       "      <td>쿠미투니카 쿨 레이시 란쥬쉐이퍼&amp;팬티</td>\n",
       "      <td>속옷</td>\n",
       "      <td>69900</td>\n",
       "      <td>NaN</td>\n",
       "      <td>0</td>\n",
       "      <td>1</td>\n",
       "      <td>0</td>\n",
       "      <td>1</td>\n",
       "    </tr>\n",
       "    <tr>\n",
       "      <th>...</th>\n",
       "      <td>...</td>\n",
       "      <td>...</td>\n",
       "      <td>...</td>\n",
       "      <td>...</td>\n",
       "      <td>...</td>\n",
       "      <td>...</td>\n",
       "      <td>...</td>\n",
       "      <td>...</td>\n",
       "      <td>...</td>\n",
       "      <td>...</td>\n",
       "      <td>...</td>\n",
       "      <td>...</td>\n",
       "    </tr>\n",
       "    <tr>\n",
       "      <th>2711</th>\n",
       "      <td>2020-07-01 00:10:00</td>\n",
       "      <td>10.000000</td>\n",
       "      <td>100099</td>\n",
       "      <td>200273</td>\n",
       "      <td>[일시불]라쉬반 FC바로셀로나 드로즈 패키지</td>\n",
       "      <td>속옷</td>\n",
       "      <td>99000</td>\n",
       "      <td>NaN</td>\n",
       "      <td>0</td>\n",
       "      <td>1</td>\n",
       "      <td>1</td>\n",
       "      <td>2</td>\n",
       "    </tr>\n",
       "    <tr>\n",
       "      <th>2712</th>\n",
       "      <td>2020-07-01 00:10:00</td>\n",
       "      <td>NaN</td>\n",
       "      <td>100099</td>\n",
       "      <td>200272</td>\n",
       "      <td>[무이자]라쉬반 FC바로셀로나 드로즈 패키지</td>\n",
       "      <td>속옷</td>\n",
       "      <td>119000</td>\n",
       "      <td>NaN</td>\n",
       "      <td>0</td>\n",
       "      <td>1</td>\n",
       "      <td>1</td>\n",
       "      <td>2</td>\n",
       "    </tr>\n",
       "    <tr>\n",
       "      <th>2713</th>\n",
       "      <td>2020-07-01 00:10:00</td>\n",
       "      <td>NaN</td>\n",
       "      <td>100099</td>\n",
       "      <td>200274</td>\n",
       "      <td>라쉬반 FC바로셀로나 드로즈 8종</td>\n",
       "      <td>속옷</td>\n",
       "      <td>119000</td>\n",
       "      <td>NaN</td>\n",
       "      <td>0</td>\n",
       "      <td>1</td>\n",
       "      <td>1</td>\n",
       "      <td>2</td>\n",
       "    </tr>\n",
       "    <tr>\n",
       "      <th>2714</th>\n",
       "      <td>2020-07-01 01:20:00</td>\n",
       "      <td>20.000000</td>\n",
       "      <td>100261</td>\n",
       "      <td>200875</td>\n",
       "      <td>아놀드파마 티셔츠레깅스세트</td>\n",
       "      <td>의류</td>\n",
       "      <td>69900</td>\n",
       "      <td>NaN</td>\n",
       "      <td>1</td>\n",
       "      <td>1</td>\n",
       "      <td>1</td>\n",
       "      <td>3</td>\n",
       "    </tr>\n",
       "    <tr>\n",
       "      <th>2715</th>\n",
       "      <td>2020-07-01 01:40:00</td>\n",
       "      <td>15.933333</td>\n",
       "      <td>100261</td>\n",
       "      <td>200875</td>\n",
       "      <td>아놀드파마 티셔츠레깅스세트</td>\n",
       "      <td>의류</td>\n",
       "      <td>69900</td>\n",
       "      <td>NaN</td>\n",
       "      <td>1</td>\n",
       "      <td>1</td>\n",
       "      <td>1</td>\n",
       "      <td>3</td>\n",
       "    </tr>\n",
       "  </tbody>\n",
       "</table>\n",
       "<p>2716 rows × 12 columns</p>\n",
       "</div>"
      ],
      "text/plain": [
       "                    방송일시      노출(분)    마더코드    상품코드                       상품명  \\\n",
       "0    2020-06-01 06:20:00  20.000000  100650  201971           잭필드 남성  반팔셔츠 4종   \n",
       "1    2020-06-01 06:40:00  20.000000  100650  201971           잭필드 남성  반팔셔츠 4종   \n",
       "2    2020-06-01 07:00:00  20.000000  100650  201971           잭필드 남성  반팔셔츠 4종   \n",
       "3    2020-06-01 07:20:00  20.000000  100445  202278      쿠미투니카 쿨 레이시 란쥬쉐이퍼&팬티   \n",
       "4    2020-06-01 07:40:00  20.000000  100445  202278      쿠미투니카 쿨 레이시 란쥬쉐이퍼&팬티   \n",
       "...                  ...        ...     ...     ...                       ...   \n",
       "2711 2020-07-01 00:10:00  10.000000  100099  200273  [일시불]라쉬반 FC바로셀로나 드로즈 패키지   \n",
       "2712 2020-07-01 00:10:00        NaN  100099  200272  [무이자]라쉬반 FC바로셀로나 드로즈 패키지   \n",
       "2713 2020-07-01 00:10:00        NaN  100099  200274        라쉬반 FC바로셀로나 드로즈 8종   \n",
       "2714 2020-07-01 01:20:00  20.000000  100261  200875            아놀드파마 티셔츠레깅스세트   \n",
       "2715 2020-07-01 01:40:00  15.933333  100261  200875            아놀드파마 티셔츠레깅스세트   \n",
       "\n",
       "     상품군    판매단가  취급액  mother_code  product_code  product_name  tt_sum  \n",
       "0     의류   59800  NaN            1             1             1       3  \n",
       "1     의류   59800  NaN            1             1             1       3  \n",
       "2     의류   59800  NaN            1             1             1       3  \n",
       "3     속옷   69900  NaN            0             1             0       1  \n",
       "4     속옷   69900  NaN            0             1             0       1  \n",
       "...   ..     ...  ...          ...           ...           ...     ...  \n",
       "2711  속옷   99000  NaN            0             1             1       2  \n",
       "2712  속옷  119000  NaN            0             1             1       2  \n",
       "2713  속옷  119000  NaN            0             1             1       2  \n",
       "2714  의류   69900  NaN            1             1             1       3  \n",
       "2715  의류   69900  NaN            1             1             1       3  \n",
       "\n",
       "[2716 rows x 12 columns]"
      ]
     },
     "execution_count": 14,
     "metadata": {},
     "output_type": "execute_result"
    }
   ],
   "source": [
    "sales_test_replace"
   ]
  },
  {
   "cell_type": "code",
   "execution_count": 15,
   "metadata": {
    "ExecuteTime": {
     "end_time": "2020-08-05T08:25:38.669142Z",
     "start_time": "2020-08-05T08:25:38.662165Z"
    }
   },
   "outputs": [
    {
     "data": {
      "text/plain": [
       "181"
      ]
     },
     "execution_count": 15,
     "metadata": {},
     "output_type": "execute_result"
    }
   ],
   "source": [
    "len(sales_test_replace.loc[sales_test_replace['tt_sum']==0,])"
   ]
  },
  {
   "cell_type": "markdown",
   "metadata": {},
   "source": [
    "- 마더코드,상품코드,상품명 모두 train에도 있는 경우 = 181개"
   ]
  },
  {
   "cell_type": "code",
   "execution_count": 16,
   "metadata": {
    "ExecuteTime": {
     "end_time": "2020-08-05T08:25:39.330397Z",
     "start_time": "2020-08-05T08:25:39.322425Z"
    }
   },
   "outputs": [
    {
     "data": {
      "text/plain": [
       "mother_code       0\n",
       "product_code    272\n",
       "product_name      0\n",
       "dtype: int64"
      ]
     },
     "execution_count": 16,
     "metadata": {},
     "output_type": "execute_result"
    }
   ],
   "source": [
    "sales_test_replace.loc[sales_test_replace['tt_sum']==1,][['mother_code','product_code','product_name']].apply(sum)"
   ]
  },
  {
   "cell_type": "markdown",
   "metadata": {},
   "source": [
    "- 마더코드가 test에만 있는 경우(상품코드,상품명은 train에도 있음) = 0개\n",
    "- 상품코드가 test에만 있는 경우(마더코드,상품명은 train에도 있음) = 272개\n",
    "- 상품명이 test에만 있는 경우(마더코드,상품코드는 train에도 있음) = 0개"
   ]
  },
  {
   "cell_type": "code",
   "execution_count": 17,
   "metadata": {
    "ExecuteTime": {
     "end_time": "2020-08-05T08:25:40.100346Z",
     "start_time": "2020-08-05T08:25:40.086353Z"
    }
   },
   "outputs": [
    {
     "name": "stdout",
     "output_type": "stream",
     "text": [
      "0\n",
      "0\n",
      "1066\n"
     ]
    }
   ],
   "source": [
    "print(len(sales_test_replace.loc[sales_test_replace['tt_sum']==2,].loc[(sales_test_replace['mother_code']==1) & (sales_test_replace['product_code']==1),]))\n",
    "print(len(sales_test_replace.loc[sales_test_replace['tt_sum']==2,].loc[(sales_test_replace['mother_code']==1) & (sales_test_replace['product_name']==1),]))\n",
    "print(len(sales_test_replace.loc[sales_test_replace['tt_sum']==2,].loc[(sales_test_replace['product_code']==1) & (sales_test_replace['product_name']==1),]))"
   ]
  },
  {
   "cell_type": "markdown",
   "metadata": {},
   "source": [
    "- 마더코드,상품코드가 test에만 있는 경우(상품명은 train에도 있음) = 0개\n",
    "- 마더코드,상품명이 test에만 있는 경우(상품코드는 train에도 있음) = 0개\n",
    "- 상품코드,상품명이 test에만 있는 경우(마더코드는 train에도 있음) = 1066개"
   ]
  },
  {
   "cell_type": "code",
   "execution_count": 18,
   "metadata": {
    "ExecuteTime": {
     "end_time": "2020-08-05T08:25:41.009914Z",
     "start_time": "2020-08-05T08:25:41.003899Z"
    }
   },
   "outputs": [
    {
     "data": {
      "text/plain": [
       "1197"
      ]
     },
     "execution_count": 18,
     "metadata": {},
     "output_type": "execute_result"
    }
   ],
   "source": [
    "len(sales_test_replace.loc[sales_test_replace['tt_sum']==3,])"
   ]
  },
  {
   "cell_type": "markdown",
   "metadata": {
    "ExecuteTime": {
     "end_time": "2020-08-04T11:56:12.483469Z",
     "start_time": "2020-08-04T11:56:12.479478Z"
    }
   },
   "source": [
    "- 마더코드,상품코드,상품명 모두 test에만 있는 경우 = 1197개"
   ]
  },
  {
   "cell_type": "markdown",
   "metadata": {
    "ExecuteTime": {
     "end_time": "2020-08-04T11:56:45.002530Z",
     "start_time": "2020-08-04T11:56:44.996543Z"
    }
   },
   "source": [
    "- 정리\n",
    " - 마더코드,상품코드,상품명 모두 train에도 있는 경우 = 181개(1순위, 별도로 추정할 칼럼 없음)\n",
    " - 상품코드가 test에만 있는 경우(마더코드,상품명은 train에도 있음) = 272개(2순위, 마더코드와 상품명 이용하여 상품코드 추정)\n",
    " - 상품코드,상품명이 test에만 있는 경우(마더코드는 train에도 있음) = 1066개(3순위, 마더코드를 이용하여 상품코드,상품명 추정)\n",
    " - 마더코드,상품코드,상품명 모두 test에만 있는 경우 = 1197개(4순위, 추정 불가능; 별도의 모델이 필요)"
   ]
  },
  {
   "cell_type": "code",
   "execution_count": 19,
   "metadata": {
    "ExecuteTime": {
     "end_time": "2020-08-05T08:25:41.991256Z",
     "start_time": "2020-08-05T08:25:41.980285Z"
    }
   },
   "outputs": [],
   "source": [
    "sales_test_replace1 = sales_test_replace.loc[sales_test_replace['tt_sum']==0,].reset_index(drop=True)\n",
    "sales_test_replace2 = sales_test_replace.loc[(sales_test_replace['tt_sum']==1)&(sales_test_replace['product_code']==1),].reset_index(drop=True)\n",
    "sales_test_replace3 = sales_test_replace.loc[(sales_test_replace['tt_sum']==2)&(sales_test_replace['product_code']==1)&((sales_test_replace['product_name']==1)),].reset_index(drop=True)\n",
    "sales_test_replace4 = sales_test_replace.loc[sales_test_replace['tt_sum']==3,].reset_index(drop=True)"
   ]
  },
  {
   "cell_type": "markdown",
   "metadata": {},
   "source": [
    "### sales_test_replace2"
   ]
  },
  {
   "cell_type": "code",
   "execution_count": 20,
   "metadata": {
    "ExecuteTime": {
     "end_time": "2020-08-05T08:25:43.319676Z",
     "start_time": "2020-08-05T08:25:42.642517Z"
    }
   },
   "outputs": [
    {
     "name": "stderr",
     "output_type": "stream",
     "text": [
      "<ipython-input-20-aa9ea9468b69>:4: SettingWithCopyWarning: \n",
      "A value is trying to be set on a copy of a slice from a DataFrame\n",
      "\n",
      "See the caveats in the documentation: https://pandas.pydata.org/pandas-docs/stable/user_guide/indexing.html#returning-a-view-versus-a-copy\n",
      "  sales_test_replace2['상품명'][i] = refer1.iloc[0,4]\n"
     ]
    }
   ],
   "source": [
    "for i in range(len(sales_test_replace2)):\n",
    "    refer1 = sales_train.loc[(sales_train['상품명']==sales_test_replace2['상품명'][i])&(sales_train['마더코드']==sales_test_replace2['마더코드'][i]),]\n",
    "    if len(refer1)!=0:\n",
    "        sales_test_replace2['상품명'][i] = refer1.iloc[0,4]\n",
    "    else:\n",
    "        refer2 = sales_train.loc[sales_train['상품명']==sales_test_replace2['상품명'][i],]\n",
    "        if len(refer2)!=0:\n",
    "            sales_test_replace2['상품명'][i] = refer2.iloc[0,4]\n",
    "        else:\n",
    "            refer3 = sales_train.loc[sales_train['마더코드']==sales_test_replace2['마더코드'][i],]\n",
    "            sales_test_replace2['상품명'][i] = refer3.iloc[0,4]"
   ]
  },
  {
   "cell_type": "code",
   "execution_count": 21,
   "metadata": {
    "ExecuteTime": {
     "end_time": "2020-08-05T08:25:43.342568Z",
     "start_time": "2020-08-05T08:25:43.320627Z"
    }
   },
   "outputs": [
    {
     "data": {
      "text/plain": [
       "set()"
      ]
     },
     "execution_count": 21,
     "metadata": {},
     "output_type": "execute_result"
    }
   ],
   "source": [
    "set(sales_test_replace2['상품명'].unique()).difference(set(sales_train['상품명'].unique())) # checking"
   ]
  },
  {
   "cell_type": "markdown",
   "metadata": {},
   "source": [
    "### sales_test_replace3 "
   ]
  },
  {
   "cell_type": "code",
   "execution_count": 22,
   "metadata": {
    "ExecuteTime": {
     "end_time": "2020-08-05T08:25:44.568575Z",
     "start_time": "2020-08-05T08:25:43.707593Z"
    }
   },
   "outputs": [
    {
     "name": "stderr",
     "output_type": "stream",
     "text": [
      "<ipython-input-22-18733ef6ad22>:3: SettingWithCopyWarning: \n",
      "A value is trying to be set on a copy of a slice from a DataFrame\n",
      "\n",
      "See the caveats in the documentation: https://pandas.pydata.org/pandas-docs/stable/user_guide/indexing.html#returning-a-view-versus-a-copy\n",
      "  sales_test_replace3['상품코드'][i] = refer.iloc[0,3]\n",
      "<ipython-input-22-18733ef6ad22>:4: SettingWithCopyWarning: \n",
      "A value is trying to be set on a copy of a slice from a DataFrame\n",
      "\n",
      "See the caveats in the documentation: https://pandas.pydata.org/pandas-docs/stable/user_guide/indexing.html#returning-a-view-versus-a-copy\n",
      "  sales_test_replace3['상품명'][i] = refer.iloc[0,4]\n"
     ]
    }
   ],
   "source": [
    "for i in range(len(sales_test_replace3)):\n",
    "    refer = sales_train.loc[sales_train['마더코드']==sales_test_replace3['마더코드'][i],]\n",
    "    sales_test_replace3['상품코드'][i] = refer.iloc[0,3]\n",
    "    sales_test_replace3['상품명'][i] = refer.iloc[0,4]"
   ]
  },
  {
   "cell_type": "code",
   "execution_count": 23,
   "metadata": {
    "ExecuteTime": {
     "end_time": "2020-08-05T08:25:44.575472Z",
     "start_time": "2020-08-05T08:25:44.569510Z"
    }
   },
   "outputs": [
    {
     "data": {
      "text/plain": [
       "set()"
      ]
     },
     "execution_count": 23,
     "metadata": {},
     "output_type": "execute_result"
    }
   ],
   "source": [
    "set(sales_test_replace3['상품코드'].unique()).difference(set(sales_train['상품코드'].unique())) # checking"
   ]
  },
  {
   "cell_type": "code",
   "execution_count": 24,
   "metadata": {
    "ExecuteTime": {
     "end_time": "2020-08-05T08:25:44.586449Z",
     "start_time": "2020-08-05T08:25:44.577467Z"
    }
   },
   "outputs": [
    {
     "data": {
      "text/plain": [
       "set()"
      ]
     },
     "execution_count": 24,
     "metadata": {},
     "output_type": "execute_result"
    }
   ],
   "source": [
    "set(sales_test_replace3['상품명'].unique()).difference(set(sales_train['상품명'].unique())) # checking"
   ]
  },
  {
   "cell_type": "code",
   "execution_count": 25,
   "metadata": {
    "ExecuteTime": {
     "end_time": "2020-08-05T08:25:44.829886Z",
     "start_time": "2020-08-05T08:25:44.820910Z"
    }
   },
   "outputs": [],
   "source": [
    "sales_test_replace_temp = pd.concat([sales_test_replace1,sales_test_replace2,sales_test_replace3])\n",
    "sales_test_replace_temp = sales_test_replace_temp.assign(model=0)\n",
    "sales_test_replace4 = sales_test_replace4.assign(model=1)"
   ]
  },
  {
   "cell_type": "code",
   "execution_count": 26,
   "metadata": {
    "ExecuteTime": {
     "end_time": "2020-08-05T08:25:45.671633Z",
     "start_time": "2020-08-05T08:25:45.664653Z"
    }
   },
   "outputs": [],
   "source": [
    "sales_test_replace = pd.concat([sales_test_replace_temp,sales_test_replace4])"
   ]
  },
  {
   "cell_type": "code",
   "execution_count": 27,
   "metadata": {
    "ExecuteTime": {
     "end_time": "2020-08-05T08:25:46.047656Z",
     "start_time": "2020-08-05T08:25:46.043640Z"
    }
   },
   "outputs": [
    {
     "data": {
      "text/plain": [
       "(2716, 13)"
      ]
     },
     "execution_count": 27,
     "metadata": {},
     "output_type": "execute_result"
    }
   ],
   "source": [
    "sales_test_replace.shape"
   ]
  },
  {
   "cell_type": "code",
   "execution_count": 28,
   "metadata": {
    "ExecuteTime": {
     "end_time": "2020-08-05T08:25:46.369407Z",
     "start_time": "2020-08-05T08:25:46.363394Z"
    }
   },
   "outputs": [
    {
     "data": {
      "text/plain": [
       "Index(['방송일시', '노출(분)', '마더코드', '상품코드', '상품명', '상품군', '판매단가', '취급액',\n",
       "       'mother_code', 'product_code', 'product_name', 'tt_sum', 'model'],\n",
       "      dtype='object')"
      ]
     },
     "execution_count": 28,
     "metadata": {},
     "output_type": "execute_result"
    }
   ],
   "source": [
    "sales_test_replace.columns"
   ]
  },
  {
   "cell_type": "code",
   "execution_count": 29,
   "metadata": {
    "ExecuteTime": {
     "end_time": "2020-08-05T08:25:46.713488Z",
     "start_time": "2020-08-05T08:25:46.708471Z"
    }
   },
   "outputs": [],
   "source": [
    "sales_test_replace.drop(['mother_code','product_code','product_name','tt_sum'], axis=1, inplace=True)"
   ]
  },
  {
   "cell_type": "code",
   "execution_count": 30,
   "metadata": {
    "ExecuteTime": {
     "end_time": "2020-08-05T08:25:49.827700Z",
     "start_time": "2020-08-05T08:25:49.806757Z"
    }
   },
   "outputs": [],
   "source": [
    "sales_test_replace.to_csv('sales_test_replace.csv', index=False)"
   ]
  }
 ],
 "metadata": {
  "kernelspec": {
   "display_name": "Python 3",
   "language": "python",
   "name": "python3"
  },
  "language_info": {
   "codemirror_mode": {
    "name": "ipython",
    "version": 3
   },
   "file_extension": ".py",
   "mimetype": "text/x-python",
   "name": "python",
   "nbconvert_exporter": "python",
   "pygments_lexer": "ipython3",
   "version": "3.8.3"
  },
  "toc": {
   "base_numbering": 1,
   "nav_menu": {},
   "number_sections": true,
   "sideBar": true,
   "skip_h1_title": false,
   "title_cell": "Table of Contents",
   "title_sidebar": "Contents",
   "toc_cell": false,
   "toc_position": {},
   "toc_section_display": true,
   "toc_window_display": true
  }
 },
 "nbformat": 4,
 "nbformat_minor": 4
}
