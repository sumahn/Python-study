{
 "cells": [
  {
   "cell_type": "markdown",
   "metadata": {},
   "source": [
    "## 파일 다루기"
   ]
  },
  {
   "cell_type": "code",
   "execution_count": 4,
   "metadata": {
    "ExecuteTime": {
     "end_time": "2020-11-17T07:03:32.037123Z",
     "start_time": "2020-11-17T07:03:32.031138Z"
    }
   },
   "outputs": [],
   "source": [
    "file = open('helloFile.txt', 'w', encoding='utf-8')"
   ]
  },
  {
   "cell_type": "code",
   "execution_count": 5,
   "metadata": {
    "ExecuteTime": {
     "end_time": "2020-11-17T07:03:32.655589Z",
     "start_time": "2020-11-17T07:03:32.649601Z"
    }
   },
   "outputs": [
    {
     "data": {
      "text/plain": [
       "13"
      ]
     },
     "execution_count": 5,
     "metadata": {},
     "output_type": "execute_result"
    }
   ],
   "source": [
    "file.write('안녕하세요 파이썬입니다.')"
   ]
  },
  {
   "cell_type": "code",
   "execution_count": 6,
   "metadata": {
    "ExecuteTime": {
     "end_time": "2020-11-17T07:03:33.110420Z",
     "start_time": "2020-11-17T07:03:33.105432Z"
    }
   },
   "outputs": [],
   "source": [
    "file.close()"
   ]
  },
  {
   "cell_type": "code",
   "execution_count": 10,
   "metadata": {
    "ExecuteTime": {
     "end_time": "2020-11-17T07:04:14.770025Z",
     "start_time": "2020-11-17T07:04:14.765005Z"
    }
   },
   "outputs": [],
   "source": [
    "file = open('helloFile.txt', 'r', encoding='utf-8')"
   ]
  },
  {
   "cell_type": "code",
   "execution_count": 11,
   "metadata": {
    "ExecuteTime": {
     "end_time": "2020-11-17T07:04:15.180014Z",
     "start_time": "2020-11-17T07:04:15.173996Z"
    }
   },
   "outputs": [],
   "source": [
    "txt = file.read()"
   ]
  },
  {
   "cell_type": "code",
   "execution_count": 12,
   "metadata": {
    "ExecuteTime": {
     "end_time": "2020-11-17T07:04:20.454283Z",
     "start_time": "2020-11-17T07:04:20.449298Z"
    }
   },
   "outputs": [
    {
     "name": "stdout",
     "output_type": "stream",
     "text": [
      "안녕하세요 파이썬입니다.\n"
     ]
    }
   ],
   "source": [
    "print(txt)"
   ]
  },
  {
   "cell_type": "code",
   "execution_count": 13,
   "metadata": {
    "ExecuteTime": {
     "end_time": "2020-11-17T07:04:26.417296Z",
     "start_time": "2020-11-17T07:04:26.412265Z"
    }
   },
   "outputs": [],
   "source": [
    "file.close()"
   ]
  },
  {
   "cell_type": "code",
   "execution_count": 15,
   "metadata": {
    "ExecuteTime": {
     "end_time": "2020-11-17T07:05:01.346912Z",
     "start_time": "2020-11-17T07:05:01.338937Z"
    }
   },
   "outputs": [
    {
     "name": "stdout",
     "output_type": "stream",
     "text": [
      "안녕하세요 파이썬입니다.\n"
     ]
    }
   ],
   "source": [
    "with open('helloFile.txt', 'r', encoding='utf-8') as file:\n",
    "    txt = file.read()\n",
    "    print(txt)"
   ]
  },
  {
   "cell_type": "markdown",
   "metadata": {},
   "source": [
    "open 구문이 끝날 때 바로 close되는 효과"
   ]
  },
  {
   "cell_type": "code",
   "execution_count": 16,
   "metadata": {
    "ExecuteTime": {
     "end_time": "2020-11-17T07:09:15.615795Z",
     "start_time": "2020-11-17T07:09:15.609812Z"
    }
   },
   "outputs": [],
   "source": [
    "with open('helloFile.txt', 'w', encoding='utf-8') as file:\n",
    "    for i in range(100):\n",
    "        file.write('{0}: Hello Python\\n'.format(i))"
   ]
  },
  {
   "cell_type": "code",
   "execution_count": 18,
   "metadata": {
    "ExecuteTime": {
     "end_time": "2020-11-17T07:11:22.975121Z",
     "start_time": "2020-11-17T07:11:22.955154Z"
    }
   },
   "outputs": [
    {
     "name": "stdout",
     "output_type": "stream",
     "text": [
      "0: Hello Python\n",
      "1: Hello Python\n",
      "2: Hello Python\n",
      "3: Hello Python\n",
      "4: Hello Python\n",
      "5: Hello Python\n",
      "6: Hello Python\n",
      "7: Hello Python\n",
      "8: Hello Python\n",
      "9: Hello Python\n",
      "10: Hello Python\n",
      "11: Hello Python\n",
      "12: Hello Python\n",
      "13: Hello Python\n",
      "14: Hello Python\n",
      "15: Hello Python\n",
      "16: Hello Python\n",
      "17: Hello Python\n",
      "18: Hello Python\n",
      "19: Hello Python\n",
      "20: Hello Python\n",
      "21: Hello Python\n",
      "22: Hello Python\n",
      "23: Hello Python\n",
      "24: Hello Python\n",
      "25: Hello Python\n",
      "26: Hello Python\n",
      "27: Hello Python\n",
      "28: Hello Python\n",
      "29: Hello Python\n",
      "30: Hello Python\n",
      "31: Hello Python\n",
      "32: Hello Python\n",
      "33: Hello Python\n",
      "34: Hello Python\n",
      "35: Hello Python\n",
      "36: Hello Python\n",
      "37: Hello Python\n",
      "38: Hello Python\n",
      "39: Hello Python\n",
      "40: Hello Python\n",
      "41: Hello Python\n",
      "42: Hello Python\n",
      "43: Hello Python\n",
      "44: Hello Python\n",
      "45: Hello Python\n",
      "46: Hello Python\n",
      "47: Hello Python\n",
      "48: Hello Python\n",
      "49: Hello Python\n",
      "50: Hello Python\n",
      "51: Hello Python\n",
      "52: Hello Python\n",
      "53: Hello Python\n",
      "54: Hello Python\n",
      "55: Hello Python\n",
      "56: Hello Python\n",
      "57: Hello Python\n",
      "58: Hello Python\n",
      "59: Hello Python\n",
      "60: Hello Python\n",
      "61: Hello Python\n",
      "62: Hello Python\n",
      "63: Hello Python\n",
      "64: Hello Python\n",
      "65: Hello Python\n",
      "66: Hello Python\n",
      "67: Hello Python\n",
      "68: Hello Python\n",
      "69: Hello Python\n",
      "70: Hello Python\n",
      "71: Hello Python\n",
      "72: Hello Python\n",
      "73: Hello Python\n",
      "74: Hello Python\n",
      "75: Hello Python\n",
      "76: Hello Python\n",
      "77: Hello Python\n",
      "78: Hello Python\n",
      "79: Hello Python\n",
      "80: Hello Python\n",
      "81: Hello Python\n",
      "82: Hello Python\n",
      "83: Hello Python\n",
      "84: Hello Python\n",
      "85: Hello Python\n",
      "86: Hello Python\n",
      "87: Hello Python\n",
      "88: Hello Python\n",
      "89: Hello Python\n",
      "90: Hello Python\n",
      "91: Hello Python\n",
      "92: Hello Python\n",
      "93: Hello Python\n",
      "94: Hello Python\n",
      "95: Hello Python\n",
      "96: Hello Python\n",
      "97: Hello Python\n",
      "98: Hello Python\n",
      "99: Hello Python\n"
     ]
    }
   ],
   "source": [
    "with open('helloFile.txt', 'r', encoding='utf-8') as file:\n",
    "    for line in file:\n",
    "        print(line.strip('\\n'))"
   ]
  }
 ],
 "metadata": {
  "kernelspec": {
   "display_name": "Python 3",
   "language": "python",
   "name": "python3"
  },
  "language_info": {
   "codemirror_mode": {
    "name": "ipython",
    "version": 3
   },
   "file_extension": ".py",
   "mimetype": "text/x-python",
   "name": "python",
   "nbconvert_exporter": "python",
   "pygments_lexer": "ipython3",
   "version": "3.6.10"
  },
  "latex_envs": {
   "LaTeX_envs_menu_present": true,
   "autoclose": false,
   "autocomplete": true,
   "bibliofile": "biblio.bib",
   "cite_by": "apalike",
   "current_citInitial": 1,
   "eqLabelWithNumbers": true,
   "eqNumInitial": 1,
   "hotkeys": {
    "equation": "Ctrl-E",
    "itemize": "Ctrl-I"
   },
   "labels_anchors": false,
   "latex_user_defs": false,
   "report_style_numbering": false,
   "user_envs_cfg": false
  },
  "toc": {
   "base_numbering": 1,
   "nav_menu": {},
   "number_sections": true,
   "sideBar": true,
   "skip_h1_title": false,
   "title_cell": "Table of Contents",
   "title_sidebar": "Contents",
   "toc_cell": false,
   "toc_position": {},
   "toc_section_display": true,
   "toc_window_display": false
  },
  "varInspector": {
   "cols": {
    "lenName": 16,
    "lenType": 16,
    "lenVar": 40
   },
   "kernels_config": {
    "python": {
     "delete_cmd_postfix": "",
     "delete_cmd_prefix": "del ",
     "library": "var_list.py",
     "varRefreshCmd": "print(var_dic_list())"
    },
    "r": {
     "delete_cmd_postfix": ") ",
     "delete_cmd_prefix": "rm(",
     "library": "var_list.r",
     "varRefreshCmd": "cat(var_dic_list()) "
    }
   },
   "types_to_exclude": [
    "module",
    "function",
    "builtin_function_or_method",
    "instance",
    "_Feature"
   ],
   "window_display": false
  }
 },
 "nbformat": 4,
 "nbformat_minor": 4
}
