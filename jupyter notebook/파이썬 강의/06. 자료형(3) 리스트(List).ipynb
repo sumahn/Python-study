{
 "cells": [
  {
   "cell_type": "markdown",
   "metadata": {},
   "source": [
    "## 리스트(List)"
   ]
  },
  {
   "cell_type": "code",
   "execution_count": 11,
   "metadata": {
    "ExecuteTime": {
     "end_time": "2020-11-11T04:45:45.196183Z",
     "start_time": "2020-11-11T04:45:45.192193Z"
    }
   },
   "outputs": [],
   "source": [
    "menus = ['짜장면', '짬뽕', '탕수육']"
   ]
  },
  {
   "cell_type": "code",
   "execution_count": 12,
   "metadata": {
    "ExecuteTime": {
     "end_time": "2020-11-11T04:45:45.450677Z",
     "start_time": "2020-11-11T04:45:45.444663Z"
    }
   },
   "outputs": [
    {
     "data": {
      "text/plain": [
       "['짜장면', '짬뽕', '탕수육']"
      ]
     },
     "execution_count": 12,
     "metadata": {},
     "output_type": "execute_result"
    }
   ],
   "source": [
    "menus"
   ]
  },
  {
   "cell_type": "code",
   "execution_count": 13,
   "metadata": {
    "ExecuteTime": {
     "end_time": "2020-11-11T04:45:45.712308Z",
     "start_time": "2020-11-11T04:45:45.705294Z"
    }
   },
   "outputs": [
    {
     "data": {
      "text/plain": [
       "list"
      ]
     },
     "execution_count": 13,
     "metadata": {},
     "output_type": "execute_result"
    }
   ],
   "source": [
    "type(menus)"
   ]
  },
  {
   "cell_type": "code",
   "execution_count": 14,
   "metadata": {
    "ExecuteTime": {
     "end_time": "2020-11-11T04:45:45.953666Z",
     "start_time": "2020-11-11T04:45:45.948620Z"
    }
   },
   "outputs": [],
   "source": [
    "menus.append('기스면')"
   ]
  },
  {
   "cell_type": "code",
   "execution_count": 15,
   "metadata": {
    "ExecuteTime": {
     "end_time": "2020-11-11T04:45:46.180374Z",
     "start_time": "2020-11-11T04:45:46.174421Z"
    }
   },
   "outputs": [
    {
     "data": {
      "text/plain": [
       "['짜장면', '짬뽕', '탕수육', '기스면']"
      ]
     },
     "execution_count": 15,
     "metadata": {},
     "output_type": "execute_result"
    }
   ],
   "source": [
    "menus"
   ]
  },
  {
   "cell_type": "code",
   "execution_count": 16,
   "metadata": {
    "ExecuteTime": {
     "end_time": "2020-11-11T04:45:46.434228Z",
     "start_time": "2020-11-11T04:45:46.429240Z"
    }
   },
   "outputs": [],
   "source": [
    "menus.insert(1, '삼선짜장') #앞에 들어갈 위치, 뒤에 들어갈 원소"
   ]
  },
  {
   "cell_type": "code",
   "execution_count": 17,
   "metadata": {
    "ExecuteTime": {
     "end_time": "2020-11-11T04:45:46.822623Z",
     "start_time": "2020-11-11T04:45:46.816331Z"
    }
   },
   "outputs": [
    {
     "data": {
      "text/plain": [
       "['짜장면', '삼선짜장', '짬뽕', '탕수육', '기스면']"
      ]
     },
     "execution_count": 17,
     "metadata": {},
     "output_type": "execute_result"
    }
   ],
   "source": [
    "menus"
   ]
  },
  {
   "cell_type": "code",
   "execution_count": 18,
   "metadata": {
    "ExecuteTime": {
     "end_time": "2020-11-11T04:46:03.821055Z",
     "start_time": "2020-11-11T04:46:03.815072Z"
    }
   },
   "outputs": [],
   "source": [
    "menus.extend(['라조기', '깐풍기']) #리스트와 리스트 결합 함수"
   ]
  },
  {
   "cell_type": "code",
   "execution_count": 19,
   "metadata": {
    "ExecuteTime": {
     "end_time": "2020-11-11T04:46:06.090214Z",
     "start_time": "2020-11-11T04:46:06.082208Z"
    }
   },
   "outputs": [
    {
     "data": {
      "text/plain": [
       "['짜장면', '삼선짜장', '짬뽕', '탕수육', '기스면', '라조기', '깐풍기']"
      ]
     },
     "execution_count": 19,
     "metadata": {},
     "output_type": "execute_result"
    }
   ],
   "source": [
    "menus"
   ]
  },
  {
   "cell_type": "code",
   "execution_count": 21,
   "metadata": {
    "ExecuteTime": {
     "end_time": "2020-11-11T04:46:22.580580Z",
     "start_time": "2020-11-11T04:46:22.575560Z"
    }
   },
   "outputs": [
    {
     "data": {
      "text/plain": [
       "4"
      ]
     },
     "execution_count": 21,
     "metadata": {},
     "output_type": "execute_result"
    }
   ],
   "source": [
    "menus.index('기스면') # 원소의 위치를 알려주는 함수"
   ]
  },
  {
   "cell_type": "code",
   "execution_count": 22,
   "metadata": {
    "ExecuteTime": {
     "end_time": "2020-11-11T04:47:39.125595Z",
     "start_time": "2020-11-11T04:47:39.118615Z"
    }
   },
   "outputs": [
    {
     "data": {
      "text/plain": [
       "4"
      ]
     },
     "execution_count": 22,
     "metadata": {},
     "output_type": "execute_result"
    }
   ],
   "source": [
    "menus.index('기스면', 2) #2번 자리 이후만 검색하겠다."
   ]
  },
  {
   "cell_type": "code",
   "execution_count": 23,
   "metadata": {
    "ExecuteTime": {
     "end_time": "2020-11-11T04:48:18.815336Z",
     "start_time": "2020-11-11T04:48:18.808272Z"
    }
   },
   "outputs": [
    {
     "data": {
      "text/plain": [
       "4"
      ]
     },
     "execution_count": 23,
     "metadata": {},
     "output_type": "execute_result"
    }
   ],
   "source": [
    "menus.index('기스면',2, 5) #2~5번 자리만 검색하겠다."
   ]
  },
  {
   "cell_type": "code",
   "execution_count": 24,
   "metadata": {
    "ExecuteTime": {
     "end_time": "2020-11-11T04:49:15.182652Z",
     "start_time": "2020-11-11T04:49:15.177749Z"
    }
   },
   "outputs": [],
   "source": [
    "menus.append('기스면')"
   ]
  },
  {
   "cell_type": "code",
   "execution_count": 25,
   "metadata": {
    "ExecuteTime": {
     "end_time": "2020-11-11T04:49:24.827532Z",
     "start_time": "2020-11-11T04:49:24.821518Z"
    }
   },
   "outputs": [
    {
     "data": {
      "text/plain": [
       "2"
      ]
     },
     "execution_count": 25,
     "metadata": {},
     "output_type": "execute_result"
    }
   ],
   "source": [
    "menus.count('기스면') #원소가 몇 개 있는가"
   ]
  },
  {
   "cell_type": "code",
   "execution_count": 26,
   "metadata": {
    "ExecuteTime": {
     "end_time": "2020-11-11T04:49:30.595015Z",
     "start_time": "2020-11-11T04:49:30.587189Z"
    }
   },
   "outputs": [
    {
     "data": {
      "text/plain": [
       "1"
      ]
     },
     "execution_count": 26,
     "metadata": {},
     "output_type": "execute_result"
    }
   ],
   "source": [
    "menus.count(\"짜장면\")"
   ]
  },
  {
   "cell_type": "code",
   "execution_count": 28,
   "metadata": {
    "ExecuteTime": {
     "end_time": "2020-11-11T04:50:32.533409Z",
     "start_time": "2020-11-11T04:50:32.526426Z"
    }
   },
   "outputs": [
    {
     "data": {
      "text/plain": [
       "'깐풍기'"
      ]
     },
     "execution_count": 28,
     "metadata": {},
     "output_type": "execute_result"
    }
   ],
   "source": [
    "menus.pop() #끝에서부터 끌어내오기"
   ]
  },
  {
   "cell_type": "code",
   "execution_count": 35,
   "metadata": {
    "ExecuteTime": {
     "end_time": "2020-11-11T04:51:14.478326Z",
     "start_time": "2020-11-11T04:51:14.332440Z"
    }
   },
   "outputs": [
    {
     "ename": "ValueError",
     "evalue": "list.remove(x): x not in list",
     "output_type": "error",
     "traceback": [
      "\u001b[1;31m---------------------------------------------------------------------------\u001b[0m",
      "\u001b[1;31mValueError\u001b[0m                                Traceback (most recent call last)",
      "\u001b[1;32m<ipython-input-35-52c60b15e791>\u001b[0m in \u001b[0;36m<module>\u001b[1;34m\u001b[0m\n\u001b[1;32m----> 1\u001b[1;33m \u001b[0mmenus\u001b[0m\u001b[1;33m.\u001b[0m\u001b[0mremove\u001b[0m\u001b[1;33m(\u001b[0m\u001b[1;34m'라조기'\u001b[0m\u001b[1;33m)\u001b[0m \u001b[1;31m#원소 제거\u001b[0m\u001b[1;33m\u001b[0m\u001b[1;33m\u001b[0m\u001b[0m\n\u001b[0m",
      "\u001b[1;31mValueError\u001b[0m: list.remove(x): x not in list"
     ]
    }
   ],
   "source": [
    "menus.remove('라조기') #원소 제거"
   ]
  },
  {
   "cell_type": "code",
   "execution_count": 30,
   "metadata": {
    "ExecuteTime": {
     "end_time": "2020-11-11T04:50:43.360858Z",
     "start_time": "2020-11-11T04:50:43.354875Z"
    }
   },
   "outputs": [
    {
     "data": {
      "text/plain": [
       "['짜장면', '삼선짜장', '짬뽕', '탕수육', '기스면']"
      ]
     },
     "execution_count": 30,
     "metadata": {},
     "output_type": "execute_result"
    }
   ],
   "source": [
    "menus"
   ]
  },
  {
   "cell_type": "code",
   "execution_count": 33,
   "metadata": {
    "ExecuteTime": {
     "end_time": "2020-11-11T04:51:08.965596Z",
     "start_time": "2020-11-11T04:51:08.961607Z"
    }
   },
   "outputs": [],
   "source": [
    "menus.sort()  #순서대로 정렬"
   ]
  },
  {
   "cell_type": "code",
   "execution_count": 34,
   "metadata": {
    "ExecuteTime": {
     "end_time": "2020-11-11T04:51:10.245079Z",
     "start_time": "2020-11-11T04:51:10.236108Z"
    }
   },
   "outputs": [
    {
     "data": {
      "text/plain": [
       "['기스면', '삼선짜장', '짜장면', '짬뽕', '탕수육']"
      ]
     },
     "execution_count": 34,
     "metadata": {},
     "output_type": "execute_result"
    }
   ],
   "source": [
    "menus "
   ]
  },
  {
   "cell_type": "code",
   "execution_count": 36,
   "metadata": {
    "ExecuteTime": {
     "end_time": "2020-11-11T04:51:24.132188Z",
     "start_time": "2020-11-11T04:51:24.126206Z"
    }
   },
   "outputs": [],
   "source": [
    "menus.reverse() #역순 정렬"
   ]
  },
  {
   "cell_type": "code",
   "execution_count": 37,
   "metadata": {
    "ExecuteTime": {
     "end_time": "2020-11-11T04:51:26.425586Z",
     "start_time": "2020-11-11T04:51:26.418605Z"
    }
   },
   "outputs": [
    {
     "data": {
      "text/plain": [
       "['탕수육', '짬뽕', '짜장면', '삼선짜장', '기스면']"
      ]
     },
     "execution_count": 37,
     "metadata": {},
     "output_type": "execute_result"
    }
   ],
   "source": [
    "menus"
   ]
  },
  {
   "cell_type": "code",
   "execution_count": null,
   "metadata": {},
   "outputs": [],
   "source": []
  }
 ],
 "metadata": {
  "kernelspec": {
   "display_name": "Python 3",
   "language": "python",
   "name": "python3"
  },
  "language_info": {
   "codemirror_mode": {
    "name": "ipython",
    "version": 3
   },
   "file_extension": ".py",
   "mimetype": "text/x-python",
   "name": "python",
   "nbconvert_exporter": "python",
   "pygments_lexer": "ipython3",
   "version": "3.6.10"
  },
  "latex_envs": {
   "LaTeX_envs_menu_present": true,
   "autoclose": false,
   "autocomplete": true,
   "bibliofile": "biblio.bib",
   "cite_by": "apalike",
   "current_citInitial": 1,
   "eqLabelWithNumbers": true,
   "eqNumInitial": 1,
   "hotkeys": {
    "equation": "Ctrl-E",
    "itemize": "Ctrl-I"
   },
   "labels_anchors": false,
   "latex_user_defs": false,
   "report_style_numbering": false,
   "user_envs_cfg": false
  },
  "toc": {
   "base_numbering": 1,
   "nav_menu": {},
   "number_sections": true,
   "sideBar": true,
   "skip_h1_title": false,
   "title_cell": "Table of Contents",
   "title_sidebar": "Contents",
   "toc_cell": false,
   "toc_position": {},
   "toc_section_display": true,
   "toc_window_display": false
  },
  "varInspector": {
   "cols": {
    "lenName": 16,
    "lenType": 16,
    "lenVar": 40
   },
   "kernels_config": {
    "python": {
     "delete_cmd_postfix": "",
     "delete_cmd_prefix": "del ",
     "library": "var_list.py",
     "varRefreshCmd": "print(var_dic_list())"
    },
    "r": {
     "delete_cmd_postfix": ") ",
     "delete_cmd_prefix": "rm(",
     "library": "var_list.r",
     "varRefreshCmd": "cat(var_dic_list()) "
    }
   },
   "types_to_exclude": [
    "module",
    "function",
    "builtin_function_or_method",
    "instance",
    "_Feature"
   ],
   "window_display": false
  }
 },
 "nbformat": 4,
 "nbformat_minor": 4
}
