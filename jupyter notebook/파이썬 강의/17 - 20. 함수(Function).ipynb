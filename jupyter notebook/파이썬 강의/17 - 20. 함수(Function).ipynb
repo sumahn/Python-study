{
 "cells": [
  {
   "cell_type": "markdown",
   "metadata": {},
   "source": [
    "## 함수(1)"
   ]
  },
  {
   "cell_type": "code",
   "execution_count": 1,
   "metadata": {
    "ExecuteTime": {
     "end_time": "2020-11-17T07:12:42.401385Z",
     "start_time": "2020-11-17T07:12:42.396398Z"
    }
   },
   "outputs": [
    {
     "name": "stdout",
     "output_type": "stream",
     "text": [
      "Hello World\n"
     ]
    }
   ],
   "source": [
    "print(\"Hello World\")"
   ]
  },
  {
   "cell_type": "code",
   "execution_count": 2,
   "metadata": {
    "ExecuteTime": {
     "end_time": "2020-11-17T07:13:47.318716Z",
     "start_time": "2020-11-17T07:13:47.313734Z"
    }
   },
   "outputs": [],
   "source": [
    "def HelloPrint():\n",
    "    print(\"Hello World\")"
   ]
  },
  {
   "cell_type": "code",
   "execution_count": 3,
   "metadata": {
    "ExecuteTime": {
     "end_time": "2020-11-17T07:13:50.795428Z",
     "start_time": "2020-11-17T07:13:50.789444Z"
    }
   },
   "outputs": [
    {
     "name": "stdout",
     "output_type": "stream",
     "text": [
      "Hello World\n"
     ]
    }
   ],
   "source": [
    "HelloPrint()"
   ]
  },
  {
   "cell_type": "code",
   "execution_count": 6,
   "metadata": {
    "ExecuteTime": {
     "end_time": "2020-11-17T07:15:18.159202Z",
     "start_time": "2020-11-17T07:15:18.154249Z"
    }
   },
   "outputs": [],
   "source": [
    "def add(a, b):\n",
    "    c = a + b\n",
    "    return c"
   ]
  },
  {
   "cell_type": "code",
   "execution_count": 10,
   "metadata": {
    "ExecuteTime": {
     "end_time": "2020-11-17T07:15:34.742649Z",
     "start_time": "2020-11-17T07:15:34.736659Z"
    }
   },
   "outputs": [],
   "source": [
    "result = add(10, 20)"
   ]
  },
  {
   "cell_type": "code",
   "execution_count": 12,
   "metadata": {
    "ExecuteTime": {
     "end_time": "2020-11-17T07:15:53.922902Z",
     "start_time": "2020-11-17T07:15:53.917884Z"
    }
   },
   "outputs": [
    {
     "name": "stdout",
     "output_type": "stream",
     "text": [
      "30\n"
     ]
    }
   ],
   "source": [
    "print(result)"
   ]
  },
  {
   "cell_type": "code",
   "execution_count": 13,
   "metadata": {
    "ExecuteTime": {
     "end_time": "2020-11-17T07:17:36.479630Z",
     "start_time": "2020-11-17T07:17:36.473645Z"
    }
   },
   "outputs": [],
   "source": [
    "def mul(a, b):\n",
    "    c = a + b\n",
    "    d = a - b\n",
    "    e = a * b\n",
    "    f = a / b\n",
    "    return c, d, e, f"
   ]
  },
  {
   "cell_type": "code",
   "execution_count": 16,
   "metadata": {
    "ExecuteTime": {
     "end_time": "2020-11-17T07:17:54.358279Z",
     "start_time": "2020-11-17T07:17:54.350301Z"
    }
   },
   "outputs": [
    {
     "data": {
      "text/plain": [
       "(30, -10, 200, 0.5)"
      ]
     },
     "execution_count": 16,
     "metadata": {},
     "output_type": "execute_result"
    }
   ],
   "source": [
    "mul(10, 20)"
   ]
  },
  {
   "cell_type": "code",
   "execution_count": 17,
   "metadata": {
    "ExecuteTime": {
     "end_time": "2020-11-17T07:18:13.686513Z",
     "start_time": "2020-11-17T07:18:13.680528Z"
    }
   },
   "outputs": [],
   "source": [
    "r1, r2, r3, r4 = mul(10, 20)"
   ]
  },
  {
   "cell_type": "code",
   "execution_count": 18,
   "metadata": {
    "ExecuteTime": {
     "end_time": "2020-11-17T07:18:36.412518Z",
     "start_time": "2020-11-17T07:18:36.407500Z"
    }
   },
   "outputs": [
    {
     "name": "stdout",
     "output_type": "stream",
     "text": [
      "30 -10 200 0.5\n"
     ]
    }
   ],
   "source": [
    "print(r1, r2, r3, r4)"
   ]
  },
  {
   "cell_type": "code",
   "execution_count": 19,
   "metadata": {
    "ExecuteTime": {
     "end_time": "2020-11-17T07:19:21.981467Z",
     "start_time": "2020-11-17T07:19:21.975483Z"
    }
   },
   "outputs": [],
   "source": [
    "x = [10, 20, 30]"
   ]
  },
  {
   "cell_type": "code",
   "execution_count": 20,
   "metadata": {
    "ExecuteTime": {
     "end_time": "2020-11-17T07:19:23.212449Z",
     "start_time": "2020-11-17T07:19:23.205468Z"
    }
   },
   "outputs": [
    {
     "data": {
      "text/plain": [
       "[10, 20, 30]"
      ]
     },
     "execution_count": 20,
     "metadata": {},
     "output_type": "execute_result"
    }
   ],
   "source": [
    "x"
   ]
  },
  {
   "cell_type": "code",
   "execution_count": 21,
   "metadata": {
    "ExecuteTime": {
     "end_time": "2020-11-17T07:20:07.935532Z",
     "start_time": "2020-11-17T07:20:07.929549Z"
    }
   },
   "outputs": [],
   "source": [
    "def muladd(a, b, c):\n",
    "    d = a + b + c\n",
    "    return d"
   ]
  },
  {
   "cell_type": "code",
   "execution_count": 23,
   "metadata": {
    "ExecuteTime": {
     "end_time": "2020-11-17T07:20:32.249753Z",
     "start_time": "2020-11-17T07:20:32.244803Z"
    }
   },
   "outputs": [],
   "source": [
    "result = muladd(*x)"
   ]
  },
  {
   "cell_type": "markdown",
   "metadata": {},
   "source": [
    "앞에 *를 붙이는 것을 unpacking이라고 한다."
   ]
  },
  {
   "cell_type": "code",
   "execution_count": 24,
   "metadata": {
    "ExecuteTime": {
     "end_time": "2020-11-17T07:20:34.878909Z",
     "start_time": "2020-11-17T07:20:34.871446Z"
    }
   },
   "outputs": [
    {
     "data": {
      "text/plain": [
       "60"
      ]
     },
     "execution_count": 24,
     "metadata": {},
     "output_type": "execute_result"
    }
   ],
   "source": [
    "result"
   ]
  },
  {
   "cell_type": "markdown",
   "metadata": {},
   "source": [
    "## 함수(2)"
   ]
  },
  {
   "cell_type": "code",
   "execution_count": 30,
   "metadata": {
    "ExecuteTime": {
     "end_time": "2020-11-17T07:24:08.748487Z",
     "start_time": "2020-11-17T07:24:08.743501Z"
    }
   },
   "outputs": [],
   "source": [
    "x = [10, 20]"
   ]
  },
  {
   "cell_type": "code",
   "execution_count": 28,
   "metadata": {
    "ExecuteTime": {
     "end_time": "2020-11-17T07:22:55.471346Z",
     "start_time": "2020-11-17T07:22:55.467339Z"
    }
   },
   "outputs": [],
   "source": [
    "def add(a, b, c):\n",
    "    e = a + b + c\n",
    "    return e"
   ]
  },
  {
   "cell_type": "code",
   "execution_count": 31,
   "metadata": {
    "ExecuteTime": {
     "end_time": "2020-11-17T07:24:13.650397Z",
     "start_time": "2020-11-17T07:24:13.636438Z"
    }
   },
   "outputs": [
    {
     "ename": "TypeError",
     "evalue": "add() missing 1 required positional argument: 'c'",
     "output_type": "error",
     "traceback": [
      "\u001b[1;31m---------------------------------------------------------------------------\u001b[0m",
      "\u001b[1;31mTypeError\u001b[0m                                 Traceback (most recent call last)",
      "\u001b[1;32m<ipython-input-31-f071e1cd4aa6>\u001b[0m in \u001b[0;36m<module>\u001b[1;34m\u001b[0m\n\u001b[1;32m----> 1\u001b[1;33m \u001b[0madd\u001b[0m\u001b[1;33m(\u001b[0m\u001b[1;33m*\u001b[0m\u001b[0mx\u001b[0m\u001b[1;33m)\u001b[0m\u001b[1;33m\u001b[0m\u001b[1;33m\u001b[0m\u001b[0m\n\u001b[0m",
      "\u001b[1;31mTypeError\u001b[0m: add() missing 1 required positional argument: 'c'"
     ]
    }
   ],
   "source": [
    "add(*x)"
   ]
  },
  {
   "cell_type": "markdown",
   "metadata": {},
   "source": [
    "3개의 인자값이 필요한데 2개밖에 존재하지 않아서 에러가 난다."
   ]
  },
  {
   "cell_type": "code",
   "execution_count": 32,
   "metadata": {
    "ExecuteTime": {
     "end_time": "2020-11-17T07:27:40.932261Z",
     "start_time": "2020-11-17T07:27:40.925285Z"
    }
   },
   "outputs": [],
   "source": [
    "def add(*p):\n",
    "    # 개수 상관없이 다 받아주도록 하는 것.\n",
    "    d = 0\n",
    "    for i in p:\n",
    "        d = d+i\n",
    "    return d"
   ]
  },
  {
   "cell_type": "code",
   "execution_count": 34,
   "metadata": {
    "ExecuteTime": {
     "end_time": "2020-11-17T07:27:50.493789Z",
     "start_time": "2020-11-17T07:27:50.489801Z"
    }
   },
   "outputs": [
    {
     "data": {
      "text/plain": [
       "30"
      ]
     },
     "execution_count": 34,
     "metadata": {},
     "output_type": "execute_result"
    }
   ],
   "source": [
    "add(*x)"
   ]
  },
  {
   "cell_type": "code",
   "execution_count": 35,
   "metadata": {
    "ExecuteTime": {
     "end_time": "2020-11-17T07:29:05.817571Z",
     "start_time": "2020-11-17T07:29:05.812582Z"
    }
   },
   "outputs": [],
   "source": [
    "x = [10, 20, 30, 40, 50]"
   ]
  },
  {
   "cell_type": "code",
   "execution_count": 36,
   "metadata": {
    "ExecuteTime": {
     "end_time": "2020-11-17T07:29:08.616841Z",
     "start_time": "2020-11-17T07:29:08.609827Z"
    }
   },
   "outputs": [
    {
     "data": {
      "text/plain": [
       "150"
      ]
     },
     "execution_count": 36,
     "metadata": {},
     "output_type": "execute_result"
    }
   ],
   "source": [
    "add(*x)"
   ]
  },
  {
   "cell_type": "code",
   "execution_count": 37,
   "metadata": {
    "ExecuteTime": {
     "end_time": "2020-11-17T07:30:55.315647Z",
     "start_time": "2020-11-17T07:30:55.308668Z"
    }
   },
   "outputs": [],
   "source": [
    "def GreatWall(menu, count, size):\n",
    "    print(\"메뉴:\", menu)\n",
    "    print(\"수량:\", count)\n",
    "    print(\"크기:\", size)"
   ]
  },
  {
   "cell_type": "code",
   "execution_count": 38,
   "metadata": {
    "ExecuteTime": {
     "end_time": "2020-11-17T07:31:25.885783Z",
     "start_time": "2020-11-17T07:31:25.878800Z"
    }
   },
   "outputs": [
    {
     "name": "stdout",
     "output_type": "stream",
     "text": [
      "메뉴: 짜장면\n",
      "수량: 2\n",
      "크기: 보통\n"
     ]
    }
   ],
   "source": [
    "GreatWall('짜장면', 2, \"보통\")"
   ]
  },
  {
   "cell_type": "code",
   "execution_count": 39,
   "metadata": {
    "ExecuteTime": {
     "end_time": "2020-11-17T07:32:45.857584Z",
     "start_time": "2020-11-17T07:32:45.851587Z"
    }
   },
   "outputs": [
    {
     "name": "stdout",
     "output_type": "stream",
     "text": [
      "메뉴: 짜장면\n",
      "수량: 5\n",
      "크기: 보통\n"
     ]
    }
   ],
   "source": [
    "GreatWall(menu=\"짜장면\", size=\"보통\",count=5)"
   ]
  },
  {
   "cell_type": "code",
   "execution_count": 40,
   "metadata": {
    "ExecuteTime": {
     "end_time": "2020-11-17T07:34:24.790418Z",
     "start_time": "2020-11-17T07:34:24.785394Z"
    }
   },
   "outputs": [],
   "source": [
    "def GreatWall(menu, count=1, size=\"보통\"):\n",
    "    # 기본값 지정\n",
    "    print(\"메뉴:\", menu)\n",
    "    print(\"수량:\", count)\n",
    "    print(\"크기:\", size)"
   ]
  },
  {
   "cell_type": "code",
   "execution_count": 41,
   "metadata": {
    "ExecuteTime": {
     "end_time": "2020-11-17T07:34:31.287704Z",
     "start_time": "2020-11-17T07:34:31.282729Z"
    }
   },
   "outputs": [
    {
     "name": "stdout",
     "output_type": "stream",
     "text": [
      "메뉴: 탕수육\n",
      "수량: 1\n",
      "크기: 보통\n"
     ]
    }
   ],
   "source": [
    "GreatWall(\"탕수육\")"
   ]
  },
  {
   "cell_type": "code",
   "execution_count": 44,
   "metadata": {
    "ExecuteTime": {
     "end_time": "2020-11-17T07:35:15.738055Z",
     "start_time": "2020-11-17T07:35:15.731116Z"
    }
   },
   "outputs": [
    {
     "name": "stdout",
     "output_type": "stream",
     "text": [
      "메뉴: 짬뽕\n",
      "수량: 3\n",
      "크기: 보통\n"
     ]
    }
   ],
   "source": [
    "GreatWall(menu=\"짬뽕\", count=3)"
   ]
  },
  {
   "cell_type": "code",
   "execution_count": 45,
   "metadata": {
    "ExecuteTime": {
     "end_time": "2020-11-17T07:36:29.670528Z",
     "start_time": "2020-11-17T07:36:29.665541Z"
    }
   },
   "outputs": [],
   "source": [
    "x = {\"menu\":\"짜장면\", \n",
    "    \"count\": 3,\n",
    "    \"size\": \"곱배기\"}"
   ]
  },
  {
   "cell_type": "code",
   "execution_count": 49,
   "metadata": {
    "ExecuteTime": {
     "end_time": "2020-11-17T07:37:27.746997Z",
     "start_time": "2020-11-17T07:37:27.743030Z"
    }
   },
   "outputs": [
    {
     "name": "stdout",
     "output_type": "stream",
     "text": [
      "메뉴: 짜장면\n",
      "수량: 3\n",
      "크기: 곱배기\n"
     ]
    }
   ],
   "source": [
    "GreatWall(**x) # dictionary 쓸 때는 **를 써야 값이 매핑됨."
   ]
  }
 ],
 "metadata": {
  "kernelspec": {
   "display_name": "Python 3",
   "language": "python",
   "name": "python3"
  },
  "language_info": {
   "codemirror_mode": {
    "name": "ipython",
    "version": 3
   },
   "file_extension": ".py",
   "mimetype": "text/x-python",
   "name": "python",
   "nbconvert_exporter": "python",
   "pygments_lexer": "ipython3",
   "version": "3.6.10"
  },
  "latex_envs": {
   "LaTeX_envs_menu_present": true,
   "autoclose": false,
   "autocomplete": true,
   "bibliofile": "biblio.bib",
   "cite_by": "apalike",
   "current_citInitial": 1,
   "eqLabelWithNumbers": true,
   "eqNumInitial": 1,
   "hotkeys": {
    "equation": "Ctrl-E",
    "itemize": "Ctrl-I"
   },
   "labels_anchors": false,
   "latex_user_defs": false,
   "report_style_numbering": false,
   "user_envs_cfg": false
  },
  "toc": {
   "base_numbering": 1,
   "nav_menu": {},
   "number_sections": true,
   "sideBar": true,
   "skip_h1_title": false,
   "title_cell": "Table of Contents",
   "title_sidebar": "Contents",
   "toc_cell": false,
   "toc_position": {},
   "toc_section_display": true,
   "toc_window_display": false
  },
  "varInspector": {
   "cols": {
    "lenName": 16,
    "lenType": 16,
    "lenVar": 40
   },
   "kernels_config": {
    "python": {
     "delete_cmd_postfix": "",
     "delete_cmd_prefix": "del ",
     "library": "var_list.py",
     "varRefreshCmd": "print(var_dic_list())"
    },
    "r": {
     "delete_cmd_postfix": ") ",
     "delete_cmd_prefix": "rm(",
     "library": "var_list.r",
     "varRefreshCmd": "cat(var_dic_list()) "
    }
   },
   "types_to_exclude": [
    "module",
    "function",
    "builtin_function_or_method",
    "instance",
    "_Feature"
   ],
   "window_display": false
  }
 },
 "nbformat": 4,
 "nbformat_minor": 4
}
