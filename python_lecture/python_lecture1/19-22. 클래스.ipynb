{
 "cells": [
  {
   "cell_type": "markdown",
   "metadata": {},
   "source": [
    "## CLASS(1)"
   ]
  },
  {
   "cell_type": "markdown",
   "metadata": {},
   "source": [
    "Class는 객체를 만들어내는 설계 도면이다.<br/>Class라는 설계 도면을 가지고 Instance를 찍어내서 작업한다.<br/>재사용성이 중요하다.<br/>하나의 Class에서 다른 속성을 추가하거나 제거하여 Sub class를 만들어낼 수 있다.<br/>Sub Class에서 또 다시 Instance를 찍어내서 사용한다.<br/>이런 식으로 프로그래밍하는 것을 객체 지향 프로그래밍(OOP; Object Oriented Programming)이라고 한다.<br/>파이썬은 OOP적인 관점에서 잘 되어 있는 언어이다.<br/> Property와 Method를 지정하는 것이 필요하다. "
   ]
  },
  {
   "cell_type": "markdown",
   "metadata": {},
   "source": [
    "## CLASS(2)"
   ]
  },
  {
   "cell_type": "code",
   "execution_count": 1,
   "metadata": {
    "ExecuteTime": {
     "end_time": "2020-11-18T07:54:09.121462Z",
     "start_time": "2020-11-18T07:54:09.118476Z"
    }
   },
   "outputs": [],
   "source": [
    "class Person:\n",
    "    \n",
    "    # Class 안에 있는 function을 method라고 한다.\n",
    "    def greeting(self):\n",
    "        # Class 안에 method를 만들 때는 keyword로 self가 들어가야 한다.\n",
    "        # Person이라는 class 안에 있는 method라는 뜻으로 self가 들어간다. \n",
    "        print(\"안녕하세요\")"
   ]
  },
  {
   "cell_type": "code",
   "execution_count": 2,
   "metadata": {
    "ExecuteTime": {
     "end_time": "2020-11-18T07:54:52.399697Z",
     "start_time": "2020-11-18T07:54:52.394711Z"
    }
   },
   "outputs": [],
   "source": [
    "suman = Person()\n",
    "# suman이라는 instance 형성\n",
    "# 실제 만들어낸 객체"
   ]
  },
  {
   "cell_type": "code",
   "execution_count": 3,
   "metadata": {
    "ExecuteTime": {
     "end_time": "2020-11-18T07:55:16.341700Z",
     "start_time": "2020-11-18T07:55:16.335717Z"
    }
   },
   "outputs": [
    {
     "name": "stdout",
     "output_type": "stream",
     "text": [
      "안녕하세요\n"
     ]
    }
   ],
   "source": [
    "suman.greeting()"
   ]
  },
  {
   "cell_type": "code",
   "execution_count": 8,
   "metadata": {
    "ExecuteTime": {
     "end_time": "2020-11-18T07:57:49.310809Z",
     "start_time": "2020-11-18T07:57:49.305824Z"
    }
   },
   "outputs": [],
   "source": [
    "class Person:\n",
    "    \n",
    "    def greeting(self):\n",
    "        print(\"안녕하세요.\")\n",
    "        \n",
    "    def sing(self):\n",
    "        self.greeting()\n",
    "        print(\"랄랄라~\")"
   ]
  },
  {
   "cell_type": "code",
   "execution_count": 9,
   "metadata": {
    "ExecuteTime": {
     "end_time": "2020-11-18T07:57:49.776311Z",
     "start_time": "2020-11-18T07:57:49.771324Z"
    }
   },
   "outputs": [],
   "source": [
    "suman = Person()"
   ]
  },
  {
   "cell_type": "code",
   "execution_count": 10,
   "metadata": {
    "ExecuteTime": {
     "end_time": "2020-11-18T07:57:50.061764Z",
     "start_time": "2020-11-18T07:57:50.054745Z"
    }
   },
   "outputs": [
    {
     "name": "stdout",
     "output_type": "stream",
     "text": [
      "안녕하세요.\n",
      "랄랄라~\n"
     ]
    }
   ],
   "source": [
    "suman.sing()"
   ]
  },
  {
   "cell_type": "code",
   "execution_count": 11,
   "metadata": {
    "ExecuteTime": {
     "end_time": "2020-11-18T08:00:09.098257Z",
     "start_time": "2020-11-18T08:00:09.092278Z"
    }
   },
   "outputs": [],
   "source": [
    "class Person:\n",
    "    \n",
    "    # 미리 어떤 값을 지정해주는 것을 초기화(initialize)시켜준다고 하는데 __init__을 활용한다.\n",
    "    def __init__(self):\n",
    "        # 초기화시킬 것들을 지정해준다.\n",
    "        # 특별히 호출하지 않아도 instance를 만들 때마다 자동으로 호출된다.\n",
    "        self.name = \"나\"\n",
    "        self.age = 25\n",
    "        self.place = \"서울\"\n",
    "    def greeting(self):\n",
    "        print(\"안녕하세요.\")\n",
    "        \n",
    "    def sing(self):\n",
    "        self.greeting()\n",
    "        print(\"랄랄라~\")"
   ]
  },
  {
   "cell_type": "code",
   "execution_count": 12,
   "metadata": {
    "ExecuteTime": {
     "end_time": "2020-11-18T08:00:15.511749Z",
     "start_time": "2020-11-18T08:00:15.508754Z"
    }
   },
   "outputs": [],
   "source": [
    "suman = Person()"
   ]
  },
  {
   "cell_type": "code",
   "execution_count": 14,
   "metadata": {
    "ExecuteTime": {
     "end_time": "2020-11-18T08:00:32.627704Z",
     "start_time": "2020-11-18T08:00:32.620724Z"
    }
   },
   "outputs": [
    {
     "data": {
      "text/plain": [
       "'나'"
      ]
     },
     "execution_count": 14,
     "metadata": {},
     "output_type": "execute_result"
    }
   ],
   "source": [
    "suman.name"
   ]
  },
  {
   "cell_type": "code",
   "execution_count": 15,
   "metadata": {
    "ExecuteTime": {
     "end_time": "2020-11-18T08:01:05.828236Z",
     "start_time": "2020-11-18T08:01:05.824247Z"
    }
   },
   "outputs": [
    {
     "data": {
      "text/plain": [
       "25"
      ]
     },
     "execution_count": 15,
     "metadata": {},
     "output_type": "execute_result"
    }
   ],
   "source": [
    "suman.age"
   ]
  },
  {
   "cell_type": "code",
   "execution_count": 16,
   "metadata": {
    "ExecuteTime": {
     "end_time": "2020-11-18T08:02:21.179925Z",
     "start_time": "2020-11-18T08:02:21.174950Z"
    }
   },
   "outputs": [],
   "source": [
    "class Person:\n",
    "    \n",
    "    # parameter 지정해주기\n",
    "    def __init__(self, name, age, place):\n",
    "        \n",
    "        self.name = name\n",
    "        self.age = age\n",
    "        self.place = place\n",
    "    def greeting(self):\n",
    "        print(\"안녕하세요.\")\n",
    "        \n",
    "    def sing(self):\n",
    "        self.greeting()\n",
    "        print(\"랄랄라~\")"
   ]
  },
  {
   "cell_type": "code",
   "execution_count": 20,
   "metadata": {
    "ExecuteTime": {
     "end_time": "2020-11-18T08:04:21.695380Z",
     "start_time": "2020-11-18T08:04:21.689407Z"
    }
   },
   "outputs": [],
   "source": [
    "suman = Person(\"수만\", 25, \"서울\")\n",
    "mina = Person(\"민아\", 22, \"서울\")\n",
    "minho = Person(\"민호\", 30, \"송도\")"
   ]
  },
  {
   "cell_type": "markdown",
   "metadata": {},
   "source": [
    "## CLASS(3)"
   ]
  },
  {
   "cell_type": "code",
   "execution_count": 50,
   "metadata": {
    "ExecuteTime": {
     "end_time": "2020-11-18T08:14:03.483374Z",
     "start_time": "2020-11-18T08:14:03.477369Z"
    }
   },
   "outputs": [],
   "source": [
    "class Person:\n",
    "    \n",
    "    # 속성을 class 바로 밑에 정의하는 게 관례처럼 되어 있다. \n",
    "    sex = \"\" # public\n",
    "    __items = []\n",
    "    \n",
    "    # __를 추가하면 외부에서 접근 불가(private)\n",
    "    def __init__(self, name, age, place):\n",
    "        self.name = name\n",
    "        self.__age = age\n",
    "        self.place = place\n",
    "        \n",
    "    def addItem(self, item):\n",
    "        self.__items.append(item)\n",
    "        print(item, \"을(를) 추가했습니다.\")\n",
    "        \n",
    "    def getItem(self):\n",
    "        print(self.__items)\n",
    "        \n",
    "    def getAge(self):\n",
    "        print(self.__age - 5)"
   ]
  },
  {
   "cell_type": "code",
   "execution_count": 51,
   "metadata": {
    "ExecuteTime": {
     "end_time": "2020-11-18T08:14:05.110138Z",
     "start_time": "2020-11-18T08:14:05.106147Z"
    }
   },
   "outputs": [],
   "source": [
    "suman = Person(\"수만\", 25, \"서울\")"
   ]
  },
  {
   "cell_type": "code",
   "execution_count": 41,
   "metadata": {
    "ExecuteTime": {
     "end_time": "2020-11-18T08:12:06.070538Z",
     "start_time": "2020-11-18T08:12:06.060601Z"
    }
   },
   "outputs": [
    {
     "ename": "AttributeError",
     "evalue": "'Person' object has no attribute '__items'",
     "output_type": "error",
     "traceback": [
      "\u001b[1;31m---------------------------------------------------------------------------\u001b[0m",
      "\u001b[1;31mAttributeError\u001b[0m                            Traceback (most recent call last)",
      "\u001b[1;32m<ipython-input-41-e435e18a4360>\u001b[0m in \u001b[0;36m<module>\u001b[1;34m\u001b[0m\n\u001b[1;32m----> 1\u001b[1;33m \u001b[0msuman\u001b[0m\u001b[1;33m.\u001b[0m\u001b[0m__items\u001b[0m\u001b[1;33m.\u001b[0m\u001b[0mappend\u001b[0m\u001b[1;33m(\u001b[0m\u001b[1;34m\"랩탑\"\u001b[0m\u001b[1;33m)\u001b[0m\u001b[1;33m\u001b[0m\u001b[1;33m\u001b[0m\u001b[0m\n\u001b[0m",
      "\u001b[1;31mAttributeError\u001b[0m: 'Person' object has no attribute '__items'"
     ]
    }
   ],
   "source": [
    "suman.__items.append(\"랩탑\")"
   ]
  },
  {
   "cell_type": "code",
   "execution_count": 43,
   "metadata": {
    "ExecuteTime": {
     "end_time": "2020-11-18T08:12:14.426469Z",
     "start_time": "2020-11-18T08:12:14.412507Z"
    }
   },
   "outputs": [
    {
     "ename": "AttributeError",
     "evalue": "'Person' object has no attribute '__items'",
     "output_type": "error",
     "traceback": [
      "\u001b[1;31m---------------------------------------------------------------------------\u001b[0m",
      "\u001b[1;31mAttributeError\u001b[0m                            Traceback (most recent call last)",
      "\u001b[1;32m<ipython-input-43-a430701efb6e>\u001b[0m in \u001b[0;36m<module>\u001b[1;34m\u001b[0m\n\u001b[1;32m----> 1\u001b[1;33m \u001b[0msuman\u001b[0m\u001b[1;33m.\u001b[0m\u001b[0m__items\u001b[0m\u001b[1;33m\u001b[0m\u001b[1;33m\u001b[0m\u001b[0m\n\u001b[0m",
      "\u001b[1;31mAttributeError\u001b[0m: 'Person' object has no attribute '__items'"
     ]
    }
   ],
   "source": [
    "suman.__items"
   ]
  },
  {
   "cell_type": "code",
   "execution_count": 44,
   "metadata": {
    "ExecuteTime": {
     "end_time": "2020-11-18T08:12:15.827811Z",
     "start_time": "2020-11-18T08:12:15.822852Z"
    }
   },
   "outputs": [
    {
     "name": "stdout",
     "output_type": "stream",
     "text": [
      "휴대폰 을(를) 추가했습니다.\n"
     ]
    }
   ],
   "source": [
    "suman.addItem(\"휴대폰\")"
   ]
  },
  {
   "cell_type": "code",
   "execution_count": 52,
   "metadata": {
    "ExecuteTime": {
     "end_time": "2020-11-18T08:14:11.472501Z",
     "start_time": "2020-11-18T08:14:11.468494Z"
    }
   },
   "outputs": [
    {
     "name": "stdout",
     "output_type": "stream",
     "text": [
      "20\n"
     ]
    }
   ],
   "source": [
    "suman.getAge()"
   ]
  },
  {
   "cell_type": "markdown",
   "metadata": {},
   "source": [
    "### 정적 메소드(Static Method)"
   ]
  },
  {
   "cell_type": "code",
   "execution_count": 56,
   "metadata": {
    "ExecuteTime": {
     "end_time": "2020-11-18T08:23:33.124539Z",
     "start_time": "2020-11-18T08:23:33.120550Z"
    }
   },
   "outputs": [],
   "source": [
    "#instace를 따로 만들 필요가 없을 때\n",
    "class calc:\n",
    "    @staticmethod\n",
    "    def add(a, b):\n",
    "        return a+b\n",
    "    # staticmethod에서는 self가 필요없다."
   ]
  },
  {
   "cell_type": "code",
   "execution_count": 57,
   "metadata": {
    "ExecuteTime": {
     "end_time": "2020-11-18T08:23:35.293010Z",
     "start_time": "2020-11-18T08:23:35.288018Z"
    }
   },
   "outputs": [
    {
     "data": {
      "text/plain": [
       "30"
      ]
     },
     "execution_count": 57,
     "metadata": {},
     "output_type": "execute_result"
    }
   ],
   "source": [
    "calc.add(10, 20)"
   ]
  },
  {
   "cell_type": "markdown",
   "metadata": {},
   "source": [
    "## CLASS(3)"
   ]
  },
  {
   "cell_type": "markdown",
   "metadata": {},
   "source": [
    "### 상속"
   ]
  },
  {
   "cell_type": "code",
   "execution_count": 97,
   "metadata": {
    "ExecuteTime": {
     "end_time": "2020-11-18T08:35:55.529681Z",
     "start_time": "2020-11-18T08:35:55.523706Z"
    }
   },
   "outputs": [],
   "source": [
    "class Person:\n",
    "    \n",
    "    def __init__(self, name, age):\n",
    "        self.name = name\n",
    "        self.age = age\n",
    "        \n",
    "    def greeting(self):\n",
    "        print(\"안녕하세요 {0}입니다.\".format(self.name))        "
   ]
  },
  {
   "cell_type": "code",
   "execution_count": 83,
   "metadata": {
    "ExecuteTime": {
     "end_time": "2020-11-18T08:35:02.243328Z",
     "start_time": "2020-11-18T08:35:02.239369Z"
    }
   },
   "outputs": [],
   "source": [
    "p1 = Person(\"수만\", 25)"
   ]
  },
  {
   "cell_type": "code",
   "execution_count": 84,
   "metadata": {
    "ExecuteTime": {
     "end_time": "2020-11-18T08:35:02.781334Z",
     "start_time": "2020-11-18T08:35:02.777314Z"
    }
   },
   "outputs": [
    {
     "name": "stdout",
     "output_type": "stream",
     "text": [
      "안녕하세요 수만입니다.\n"
     ]
    }
   ],
   "source": [
    "p1.greeting()"
   ]
  },
  {
   "cell_type": "code",
   "execution_count": 85,
   "metadata": {
    "ExecuteTime": {
     "end_time": "2020-11-18T08:35:05.680136Z",
     "start_time": "2020-11-18T08:35:05.677109Z"
    }
   },
   "outputs": [],
   "source": [
    "# Subclass 만들기\n",
    "class Student(Person):\n",
    "    pass\n",
    "# Person과 똑같은 class 만들기"
   ]
  },
  {
   "cell_type": "code",
   "execution_count": 88,
   "metadata": {
    "ExecuteTime": {
     "end_time": "2020-11-18T08:35:13.805472Z",
     "start_time": "2020-11-18T08:35:13.801478Z"
    }
   },
   "outputs": [],
   "source": [
    "s1 = Student(\"김학생\", 18)"
   ]
  },
  {
   "cell_type": "code",
   "execution_count": 89,
   "metadata": {
    "ExecuteTime": {
     "end_time": "2020-11-18T08:35:14.721531Z",
     "start_time": "2020-11-18T08:35:14.717541Z"
    }
   },
   "outputs": [
    {
     "name": "stdout",
     "output_type": "stream",
     "text": [
      "안녕하세요 김학생입니다.\n"
     ]
    }
   ],
   "source": [
    "s1.greeting()"
   ]
  },
  {
   "cell_type": "code",
   "execution_count": 90,
   "metadata": {
    "ExecuteTime": {
     "end_time": "2020-11-18T08:35:16.101819Z",
     "start_time": "2020-11-18T08:35:16.097830Z"
    }
   },
   "outputs": [],
   "source": [
    "class Student(Person):\n",
    "    \n",
    "    def study(self):\n",
    "        print(\"열공중\")"
   ]
  },
  {
   "cell_type": "code",
   "execution_count": 91,
   "metadata": {
    "ExecuteTime": {
     "end_time": "2020-11-18T08:35:17.430016Z",
     "start_time": "2020-11-18T08:35:17.427024Z"
    }
   },
   "outputs": [],
   "source": [
    "s1 = Student(\"김학생\", 18)"
   ]
  },
  {
   "cell_type": "code",
   "execution_count": 92,
   "metadata": {
    "ExecuteTime": {
     "end_time": "2020-11-18T08:35:18.144907Z",
     "start_time": "2020-11-18T08:35:18.140949Z"
    }
   },
   "outputs": [
    {
     "name": "stdout",
     "output_type": "stream",
     "text": [
      "열공중\n"
     ]
    }
   ],
   "source": [
    "s1.study()"
   ]
  },
  {
   "cell_type": "code",
   "execution_count": 93,
   "metadata": {
    "ExecuteTime": {
     "end_time": "2020-11-18T08:35:19.491576Z",
     "start_time": "2020-11-18T08:35:19.483561Z"
    }
   },
   "outputs": [
    {
     "ename": "AttributeError",
     "evalue": "'Person' object has no attribute 'study'",
     "output_type": "error",
     "traceback": [
      "\u001b[1;31m---------------------------------------------------------------------------\u001b[0m",
      "\u001b[1;31mAttributeError\u001b[0m                            Traceback (most recent call last)",
      "\u001b[1;32m<ipython-input-93-d1371f03a8b6>\u001b[0m in \u001b[0;36m<module>\u001b[1;34m\u001b[0m\n\u001b[1;32m----> 1\u001b[1;33m \u001b[0mp1\u001b[0m\u001b[1;33m.\u001b[0m\u001b[0mstudy\u001b[0m\u001b[1;33m(\u001b[0m\u001b[1;33m)\u001b[0m\u001b[1;33m\u001b[0m\u001b[1;33m\u001b[0m\u001b[0m\n\u001b[0m",
      "\u001b[1;31mAttributeError\u001b[0m: 'Person' object has no attribute 'study'"
     ]
    }
   ],
   "source": [
    "p1.study()"
   ]
  },
  {
   "cell_type": "code",
   "execution_count": 101,
   "metadata": {
    "ExecuteTime": {
     "end_time": "2020-11-18T08:36:11.831903Z",
     "start_time": "2020-11-18T08:36:11.826906Z"
    }
   },
   "outputs": [],
   "source": [
    "# Person은 Superclass, 부모클래스라고 하고, Student는 Subclass, 자식클래스라고 함.\n",
    "\n",
    "class Student(Person):\n",
    "    \n",
    "    def __init__(self, name, age, student_id):\n",
    "        self.name = name\n",
    "        self.__age = age\n",
    "        self.__student_id = student_id\n",
    "        \n",
    "    def greeting(self):\n",
    "        # Superclass에 있는 인사 불러오기\n",
    "        super().greeting()\n",
    "        print(\"안녕하세요 학생입니다.\")\n",
    "    def study(self):\n",
    "        print(\"{0}이는 열공중\".format(self.name))\n",
    "        "
   ]
  },
  {
   "cell_type": "code",
   "execution_count": 102,
   "metadata": {
    "ExecuteTime": {
     "end_time": "2020-11-18T08:36:12.631564Z",
     "start_time": "2020-11-18T08:36:12.627551Z"
    }
   },
   "outputs": [],
   "source": [
    "s2 = Student(\"김학생\", 18, \"12345\")"
   ]
  },
  {
   "cell_type": "code",
   "execution_count": 103,
   "metadata": {
    "ExecuteTime": {
     "end_time": "2020-11-18T08:36:12.917515Z",
     "start_time": "2020-11-18T08:36:12.913502Z"
    }
   },
   "outputs": [
    {
     "name": "stdout",
     "output_type": "stream",
     "text": [
      "안녕하세요 김학생입니다.\n",
      "안녕하세요 학생입니다.\n"
     ]
    }
   ],
   "source": [
    "s2.greeting()"
   ]
  },
  {
   "cell_type": "code",
   "execution_count": 104,
   "metadata": {
    "ExecuteTime": {
     "end_time": "2020-11-18T08:37:22.876643Z",
     "start_time": "2020-11-18T08:37:22.872671Z"
    }
   },
   "outputs": [],
   "source": [
    "class CollegeStudent(Student):\n",
    "    \n",
    "    community = \"\""
   ]
  },
  {
   "cell_type": "code",
   "execution_count": 105,
   "metadata": {
    "ExecuteTime": {
     "end_time": "2020-11-18T08:38:14.575603Z",
     "start_time": "2020-11-18T08:38:14.571576Z"
    }
   },
   "outputs": [],
   "source": [
    "c1 = CollegeStudent(\"김대학생\", 25, \"12345\")"
   ]
  },
  {
   "cell_type": "code",
   "execution_count": 106,
   "metadata": {
    "ExecuteTime": {
     "end_time": "2020-11-18T08:38:17.965635Z",
     "start_time": "2020-11-18T08:38:17.961678Z"
    }
   },
   "outputs": [
    {
     "name": "stdout",
     "output_type": "stream",
     "text": [
      "안녕하세요 김대학생입니다.\n",
      "안녕하세요 학생입니다.\n"
     ]
    }
   ],
   "source": [
    "c1.greeting()"
   ]
  },
  {
   "cell_type": "code",
   "execution_count": 107,
   "metadata": {
    "ExecuteTime": {
     "end_time": "2020-11-18T08:40:18.894671Z",
     "start_time": "2020-11-18T08:40:18.891679Z"
    }
   },
   "outputs": [],
   "source": [
    "class University:\n",
    "    Uni_name = \" \"\n",
    "    Uni_address = \" \""
   ]
  },
  {
   "cell_type": "code",
   "execution_count": 108,
   "metadata": {
    "ExecuteTime": {
     "end_time": "2020-11-18T08:40:37.640149Z",
     "start_time": "2020-11-18T08:40:37.635199Z"
    }
   },
   "outputs": [],
   "source": [
    "# 다중 상속\n",
    "class CollegeStudent(Student, University):\n",
    "    pass\n",
    "\n",
    "# 다중 상속은 최대한 줄이는 것이 좋음.\n",
    "# 속성끼리 꼬일 수 있음."
   ]
  },
  {
   "cell_type": "code",
   "execution_count": 109,
   "metadata": {
    "ExecuteTime": {
     "end_time": "2020-11-18T08:40:54.875950Z",
     "start_time": "2020-11-18T08:40:54.870003Z"
    }
   },
   "outputs": [],
   "source": [
    "c1 = CollegeStudent(\"김대학생\", 20, \"12345\")"
   ]
  },
  {
   "cell_type": "code",
   "execution_count": 110,
   "metadata": {
    "ExecuteTime": {
     "end_time": "2020-11-18T08:41:09.610063Z",
     "start_time": "2020-11-18T08:41:09.607045Z"
    }
   },
   "outputs": [],
   "source": [
    "c1.Uni_name = \"경포대\""
   ]
  },
  {
   "cell_type": "code",
   "execution_count": 111,
   "metadata": {
    "ExecuteTime": {
     "end_time": "2020-11-18T08:41:20.645032Z",
     "start_time": "2020-11-18T08:41:20.638019Z"
    }
   },
   "outputs": [
    {
     "data": {
      "text/plain": [
       "'경포대'"
      ]
     },
     "execution_count": 111,
     "metadata": {},
     "output_type": "execute_result"
    }
   ],
   "source": [
    "c1.Uni_name"
   ]
  },
  {
   "cell_type": "code",
   "execution_count": 112,
   "metadata": {
    "ExecuteTime": {
     "end_time": "2020-11-18T08:41:28.768757Z",
     "start_time": "2020-11-18T08:41:28.762777Z"
    }
   },
   "outputs": [
    {
     "name": "stdout",
     "output_type": "stream",
     "text": [
      "안녕하세요 김대학생입니다.\n",
      "안녕하세요 학생입니다.\n"
     ]
    }
   ],
   "source": [
    "c1.greeting()"
   ]
  }
 ],
 "metadata": {
  "kernelspec": {
   "display_name": "Python 3",
   "language": "python",
   "name": "python3"
  },
  "language_info": {
   "codemirror_mode": {
    "name": "ipython",
    "version": 3
   },
   "file_extension": ".py",
   "mimetype": "text/x-python",
   "name": "python",
   "nbconvert_exporter": "python",
   "pygments_lexer": "ipython3",
   "version": "3.6.10"
  },
  "latex_envs": {
   "LaTeX_envs_menu_present": true,
   "autoclose": false,
   "autocomplete": true,
   "bibliofile": "biblio.bib",
   "cite_by": "apalike",
   "current_citInitial": 1,
   "eqLabelWithNumbers": true,
   "eqNumInitial": 1,
   "hotkeys": {
    "equation": "Ctrl-E",
    "itemize": "Ctrl-I"
   },
   "labels_anchors": false,
   "latex_user_defs": false,
   "report_style_numbering": false,
   "user_envs_cfg": false
  },
  "toc": {
   "base_numbering": 1,
   "nav_menu": {},
   "number_sections": true,
   "sideBar": true,
   "skip_h1_title": false,
   "title_cell": "Table of Contents",
   "title_sidebar": "Contents",
   "toc_cell": false,
   "toc_position": {},
   "toc_section_display": true,
   "toc_window_display": false
  },
  "varInspector": {
   "cols": {
    "lenName": 16,
    "lenType": 16,
    "lenVar": 40
   },
   "kernels_config": {
    "python": {
     "delete_cmd_postfix": "",
     "delete_cmd_prefix": "del ",
     "library": "var_list.py",
     "varRefreshCmd": "print(var_dic_list())"
    },
    "r": {
     "delete_cmd_postfix": ") ",
     "delete_cmd_prefix": "rm(",
     "library": "var_list.r",
     "varRefreshCmd": "cat(var_dic_list()) "
    }
   },
   "types_to_exclude": [
    "module",
    "function",
    "builtin_function_or_method",
    "instance",
    "_Feature"
   ],
   "window_display": false
  }
 },
 "nbformat": 4,
 "nbformat_minor": 4
}
