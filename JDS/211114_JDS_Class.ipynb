{
 "cells": [
  {
   "cell_type": "markdown",
   "id": "cd3924fb",
   "metadata": {},
   "source": [
    "# Class"
   ]
  },
  {
   "cell_type": "markdown",
   "id": "27b03c0f",
   "metadata": {},
   "source": [
    "- **Classes provide a means of bunding data and functionality together.**\n",
    "\n",
    "- **쉽게 생각하면 공통되거나 유사한 것을 반환하는 함수를 묶은 틀**\n",
    "\n",
    "- **단기적인 과제에 대해서는 잘 사용하지 않고, 프로젝트나 계속 사용할 필요가 있을 때 주로 사용함.**\n",
    "\n",
    "- **loss를 구하는 metric에 대한 class를 정의하고 자주 사용하곤 함.**\n",
    "\n",
    "- **객체지향형 프로그래밍**"
   ]
  },
  {
   "cell_type": "markdown",
   "id": "398155b1",
   "metadata": {},
   "source": [
    "#### 1. Python에서는 Class를 생성하면 기본적으로 여러 가지 method를 제공함"
   ]
  },
  {
   "cell_type": "code",
   "execution_count": 1,
   "id": "b6f17066",
   "metadata": {},
   "outputs": [],
   "source": [
    "class Example:\n",
    "    pass"
   ]
  },
  {
   "cell_type": "code",
   "execution_count": 2,
   "id": "2341562e",
   "metadata": {},
   "outputs": [
    {
     "data": {
      "text/plain": [
       "['__class__',\n",
       " '__delattr__',\n",
       " '__dict__',\n",
       " '__dir__',\n",
       " '__doc__',\n",
       " '__eq__',\n",
       " '__format__',\n",
       " '__ge__',\n",
       " '__getattribute__',\n",
       " '__gt__',\n",
       " '__hash__',\n",
       " '__init__',\n",
       " '__init_subclass__',\n",
       " '__le__',\n",
       " '__lt__',\n",
       " '__module__',\n",
       " '__ne__',\n",
       " '__new__',\n",
       " '__reduce__',\n",
       " '__reduce_ex__',\n",
       " '__repr__',\n",
       " '__setattr__',\n",
       " '__sizeof__',\n",
       " '__str__',\n",
       " '__subclasshook__',\n",
       " '__weakref__']"
      ]
     },
     "execution_count": 2,
     "metadata": {},
     "output_type": "execute_result"
    }
   ],
   "source": [
    "dir(Example)"
   ]
  },
  {
   "cell_type": "markdown",
   "id": "b2dbbd8e",
   "metadata": {},
   "source": [
    "#### 2. PEP Guide 에 따라 Class의 첫 문자는 대문자로 사용"
   ]
  },
  {
   "cell_type": "markdown",
   "id": "afec38fc",
   "metadata": {},
   "source": [
    "#### 3. 객체 선언"
   ]
  },
  {
   "cell_type": "code",
   "execution_count": 3,
   "id": "4124fb05",
   "metadata": {},
   "outputs": [],
   "source": [
    "ex = Example()"
   ]
  },
  {
   "cell_type": "code",
   "execution_count": 4,
   "id": "ccc23713",
   "metadata": {},
   "outputs": [
    {
     "data": {
      "text/plain": [
       "['__class__',\n",
       " '__delattr__',\n",
       " '__dict__',\n",
       " '__dir__',\n",
       " '__doc__',\n",
       " '__eq__',\n",
       " '__format__',\n",
       " '__ge__',\n",
       " '__getattribute__',\n",
       " '__gt__',\n",
       " '__hash__',\n",
       " '__init__',\n",
       " '__init_subclass__',\n",
       " '__le__',\n",
       " '__lt__',\n",
       " '__module__',\n",
       " '__ne__',\n",
       " '__new__',\n",
       " '__reduce__',\n",
       " '__reduce_ex__',\n",
       " '__repr__',\n",
       " '__setattr__',\n",
       " '__sizeof__',\n",
       " '__str__',\n",
       " '__subclasshook__',\n",
       " '__weakref__']"
      ]
     },
     "execution_count": 4,
     "metadata": {},
     "output_type": "execute_result"
    }
   ],
   "source": [
    "dir(ex)"
   ]
  },
  {
   "cell_type": "code",
   "execution_count": 5,
   "id": "c7349383",
   "metadata": {},
   "outputs": [
    {
     "data": {
      "text/plain": [
       "__main__.Example"
      ]
     },
     "execution_count": 5,
     "metadata": {},
     "output_type": "execute_result"
    }
   ],
   "source": [
    "type(ex)"
   ]
  },
  {
   "cell_type": "markdown",
   "id": "dc0df206",
   "metadata": {},
   "source": [
    "### Attribute "
   ]
  },
  {
   "cell_type": "markdown",
   "id": "3361ff25",
   "metadata": {},
   "source": [
    "- **(ex)직사각형을 만들어야 한다.**"
   ]
  },
  {
   "cell_type": "code",
   "execution_count": 15,
   "id": "7a4ca7d9",
   "metadata": {},
   "outputs": [],
   "source": [
    "class Rectangle:\n",
    "    # 초기화\n",
    "    def __init__(self, width, height, color):\n",
    "#         self.width = width\n",
    "        self.height = height\n",
    "        self.color = color"
   ]
  },
  {
   "cell_type": "code",
   "execution_count": 16,
   "id": "697cc79e",
   "metadata": {},
   "outputs": [],
   "source": [
    "square1 = Rectangle(12, 12, \"red\")"
   ]
  },
  {
   "cell_type": "code",
   "execution_count": 17,
   "id": "2bcfa337",
   "metadata": {},
   "outputs": [
    {
     "data": {
      "text/plain": [
       "['__class__',\n",
       " '__delattr__',\n",
       " '__dict__',\n",
       " '__dir__',\n",
       " '__doc__',\n",
       " '__eq__',\n",
       " '__format__',\n",
       " '__ge__',\n",
       " '__getattribute__',\n",
       " '__gt__',\n",
       " '__hash__',\n",
       " '__init__',\n",
       " '__init_subclass__',\n",
       " '__le__',\n",
       " '__lt__',\n",
       " '__module__',\n",
       " '__ne__',\n",
       " '__new__',\n",
       " '__reduce__',\n",
       " '__reduce_ex__',\n",
       " '__repr__',\n",
       " '__setattr__',\n",
       " '__sizeof__',\n",
       " '__str__',\n",
       " '__subclasshook__',\n",
       " '__weakref__',\n",
       " 'color',\n",
       " 'height']"
      ]
     },
     "execution_count": 17,
     "metadata": {},
     "output_type": "execute_result"
    }
   ],
   "source": [
    "# self.attribute 추가됨\n",
    "\n",
    "dir(square1)"
   ]
  },
  {
   "cell_type": "markdown",
   "id": "48a13857",
   "metadata": {},
   "source": [
    "#### 1. object의 attribute에 접근하는 법\n",
    "\n",
    "- **{instance명}.{attribute명}**"
   ]
  },
  {
   "cell_type": "code",
   "execution_count": 18,
   "id": "68656b7b",
   "metadata": {},
   "outputs": [
    {
     "data": {
      "text/plain": [
       "'red'"
      ]
     },
     "execution_count": 18,
     "metadata": {},
     "output_type": "execute_result"
    }
   ],
   "source": [
    "square1.color"
   ]
  },
  {
   "cell_type": "markdown",
   "id": "7aa14741",
   "metadata": {},
   "source": [
    "### Method"
   ]
  },
  {
   "cell_type": "markdown",
   "id": "833b2b2f",
   "metadata": {},
   "source": [
    "- **Class 내에서 정의되는 함수**\n",
    "\n",
    "- **항상 첫번째 파라미터로 self사용**\n",
    "\n",
    "- **self는 현재의 객체를 의미**"
   ]
  },
  {
   "cell_type": "code",
   "execution_count": 19,
   "id": "3607b564",
   "metadata": {},
   "outputs": [],
   "source": [
    "class Rectangle:\n",
    "    # 초기화\n",
    "    def __init__(self, width, height, color):\n",
    "        self.width = width\n",
    "        self.height = height\n",
    "        self.color = color\n",
    "        \n",
    "    # 넓이 구하기\n",
    "    def calc_area(self):\n",
    "        return self.width*self.height\n",
    "    \n",
    "    # 넓이 조정\n",
    "    def set_area(self, w1, h1):\n",
    "        self.width = w1\n",
    "        self.height = h1"
   ]
  },
  {
   "cell_type": "markdown",
   "id": "c5b8557e",
   "metadata": {},
   "source": [
    "#### Method 호출\n",
    "\n",
    "  <img src=\"https://www.fun-coding.org/00_Images/self.png\" />\n",
    "\n",
    "\n",
    "- **method 호출시 첫번째 인자로 객체 자신이 넣어지기 때문에 self를 method의 첫번째 인자로 넣어야 함**"
   ]
  },
  {
   "cell_type": "code",
   "execution_count": null,
   "id": "6f46bd9e",
   "metadata": {},
   "outputs": [],
   "source": [
    "square2 = Rectangle(12, 13, \"blue\")\n",
    "\n",
    "square2.calc_area()"
   ]
  },
  {
   "cell_type": "code",
   "execution_count": null,
   "id": "53f267a0",
   "metadata": {},
   "outputs": [],
   "source": [
    "square2.set_area(5,5)\n",
    "\n",
    "square2.calc_area()"
   ]
  },
  {
   "cell_type": "markdown",
   "id": "aec249e7",
   "metadata": {},
   "source": [
    "## Inheritance(상속)"
   ]
  },
  {
   "cell_type": "markdown",
   "id": "0a771389",
   "metadata": {},
   "source": [
    "#### 클래스를 다룰 때 중요한 것 두 가지\n",
    "\n",
    " - **추상화(Abstraction)** : 여러 클래스에 중복되는 attribute, method를 하나의 클래스로 만드는 것\n",
    " \n",
    " - **상속(Inheritance)** : 기본 클래스의 공통적인 attribute나 method는 물려받고 다른 부분만 정의하는 것\n",
    " \n",
    "   - super class / child(sub) class"
   ]
  },
  {
   "cell_type": "markdown",
   "id": "216d6fb8",
   "metadata": {},
   "source": [
    "#### 예를 들어 삼각형, 사각형, 원을 만든다고 했을 때,\n",
    "\n",
    " - 사각형: 이름, 색, 너비/높이, 넓이\n",
    " \n",
    " - 삼각형: 이름, 색, 길이, 높이, 넓이\n",
    " \n",
    " - 원: 이름, 색, 반지름, 넓이\n",
    " \n",
    " \n",
    " \n",
    "이름, 색을 공통적으로 들어가니까 부모 클래스에 이름, 색을 정의하고 사각형, 삼각형, 원 클래스로 전달하면 됨"
   ]
  },
  {
   "cell_type": "code",
   "execution_count": 20,
   "id": "fd0dd7d6",
   "metadata": {},
   "outputs": [],
   "source": [
    "class Figure:\n",
    "    def __init__(self, name, color):\n",
    "        self.name = name\n",
    "        self.color = color"
   ]
  },
  {
   "cell_type": "code",
   "execution_count": 22,
   "id": "b32c83d5",
   "metadata": {},
   "outputs": [],
   "source": [
    "class Rectangle(Figure):  \n",
    "    def set_area(self, width, height):\n",
    "        self.width = width\n",
    "        self.height = height\n",
    "    \n",
    "    def get_info(self):\n",
    "        print( self.name, self.color, self.width * self.height)\n",
    "        \n",
    "#     만약 __init__(self, width, height)로 self.width와 self.height를 정의한다면?\n",
    "\n",
    "## Method Override"
   ]
  },
  {
   "cell_type": "markdown",
   "id": "edb22d12",
   "metadata": {},
   "source": [
    "* https://goo.gl/AXau2u"
   ]
  },
  {
   "cell_type": "markdown",
   "id": "06f497a0",
   "metadata": {},
   "source": [
    "#### 상속 관계 확인"
   ]
  },
  {
   "cell_type": "code",
   "execution_count": 26,
   "id": "c920969d",
   "metadata": {},
   "outputs": [],
   "source": [
    "figure1 = Figure(\"figure1\", \"black\")\n",
    "square1 = Rectangle(\"square1\",\"red\")"
   ]
  },
  {
   "cell_type": "code",
   "execution_count": 27,
   "id": "549493b6",
   "metadata": {},
   "outputs": [
    {
     "name": "stdout",
     "output_type": "stream",
     "text": [
      "True\n",
      "True\n",
      "False\n",
      "True\n"
     ]
    }
   ],
   "source": [
    "print(isinstance(figure1, Figure)) # True\n",
    "print(isinstance(square1, Figure)) # True \n",
    "print(isinstance(figure1, Rectangle)) # False\n",
    "print(isinstance(square1, Rectangle)) # True"
   ]
  },
  {
   "cell_type": "markdown",
   "id": "c6be6842",
   "metadata": {},
   "source": [
    "### SubClass에서 SuperClass method 호출"
   ]
  },
  {
   "cell_type": "markdown",
   "id": "2cbd7ed9",
   "metadata": {},
   "source": [
    "##### super()\n",
    "\n",
    "**super().{method 명}**"
   ]
  },
  {
   "cell_type": "code",
   "execution_count": 28,
   "id": "e8b8f0e1",
   "metadata": {},
   "outputs": [],
   "source": [
    "class Person:\n",
    "    def work(self):\n",
    "        print(\"Work hard!\")\n",
    "        \n",
    "class Student(Person):\n",
    "    def work(self):\n",
    "        print(\"Study hard!\")\n",
    "        \n",
    "    def part_time(self):\n",
    "        super().work()"
   ]
  },
  {
   "cell_type": "code",
   "execution_count": 29,
   "id": "2a19f8ac",
   "metadata": {},
   "outputs": [
    {
     "name": "stdout",
     "output_type": "stream",
     "text": [
      "Study hard!\n",
      "Work hard!\n"
     ]
    }
   ],
   "source": [
    "student1 = Student()\n",
    "student1.work()\n",
    "student1.part_time()"
   ]
  },
  {
   "cell_type": "markdown",
   "id": "59a8e257",
   "metadata": {},
   "source": [
    "## Class Variables & Instance Variables"
   ]
  },
  {
   "cell_type": "markdown",
   "id": "36a15394",
   "metadata": {},
   "source": [
    "#### Class variable: 클래스 정의에서 메서드 밖에 존재하는 변수\n",
    "\n",
    " - **해당 클래스를 사용하는 모두에게 공용으로 사용되는 변수**\n",
    " \n",
    " - **Class variable은 클래스 내외부에서 {Class 명}.{variable 명}으로 접근 가능**\n",
    " \n",
    " \n",
    "#### Instance variable: 클래스 정의에서 메서드 안에서 사용되면서 self.{variable 명} 으로 사용되는 변수\n",
    "\n",
    " - **각 instance별로 다른 값을 취함**\n",
    " \n",
    " - **클래스 내부에서는 self.{variable 명}으로, 외부에서는 {instance 명}.{variable 명}으로 접근**"
   ]
  },
  {
   "cell_type": "code",
   "execution_count": 31,
   "id": "6594bfca",
   "metadata": {},
   "outputs": [],
   "source": [
    "class Figure:\n",
    "    count = 0 # Class variable\n",
    "    \n",
    "    # initialization\n",
    "    def __init__(self, width, height):\n",
    "        self.width = width\n",
    "        self.height = height\n",
    "        \n",
    "        # Class variable access\n",
    "        Figure.count +=1\n",
    "    \n",
    "    def __del__(self):\n",
    "        Figure.count -= 1\n",
    "        \n",
    "    def calc_area(self):\n",
    "        return self.width * self.height"
   ]
  },
  {
   "cell_type": "code",
   "execution_count": 32,
   "id": "229454b5",
   "metadata": {},
   "outputs": [
    {
     "name": "stdout",
     "output_type": "stream",
     "text": [
      "0\n",
      "1\n",
      "2\n",
      "2\n",
      "4\n",
      "1\n",
      "0\n"
     ]
    }
   ],
   "source": [
    "print(Figure.count) # 0\n",
    "figure1 = Figure(2, 3)\n",
    "print(Figure.count) # 1\n",
    "figure2 = Figure(4, 5)\n",
    "print(Figure.count) # 2\n",
    "print(figure1.width) # 2\n",
    "print(figure2.width) # 4\n",
    "del figure1\n",
    "print(Figure.count) # 1\n",
    "del figure2\n",
    "print(Figure.count) # 0 "
   ]
  },
  {
   "cell_type": "markdown",
   "id": "ab248292",
   "metadata": {},
   "source": [
    "## Static method, Class method"
   ]
  },
  {
   "cell_type": "markdown",
   "id": "5b4401e5",
   "metadata": {},
   "source": [
    "### static method\n",
    "\n",
    " - **객체와 독립적**\n",
    " \n",
    " - **self 파라미터 x**\n",
    " \n",
    " - **객체 속성에 접근 x**\n",
    " \n",
    " - **@staticmethod를 붙여야 함**\n",
    " \n",
    " \n",
    "### class method\n",
    " - **해당 클래스 안에서 호출**\n",
    " \n",
    " - **self 파라미터 대신, cls 파라미터 사용**\n",
    " \n",
    " - **객체 속성/메서드는 접근 불가**\n",
    " \n",
    " - **@classmethod를 붙여야 함**"
   ]
  },
  {
   "cell_type": "code",
   "execution_count": 43,
   "id": "9f635d15",
   "metadata": {},
   "outputs": [],
   "source": [
    "class Figure:\n",
    "    count = 0 # Class variable\n",
    "    \n",
    "    # initialization\n",
    "    def __init__(self, width, height):\n",
    "        self.width = width\n",
    "        self.height = height\n",
    "        \n",
    "        # Class variable access\n",
    "        Figure.count +=1\n",
    "    \n",
    "        \n",
    "    def calc_area(self):\n",
    "        return self.width * self.height\n",
    "    \n",
    "    @staticmethod\n",
    "    def print_count():\n",
    "        print(Figure.count)\n",
    "        \n",
    "#     @staticmethod\n",
    "#     def print_width():\n",
    "#         print( self.width )      "
   ]
  },
  {
   "cell_type": "code",
   "execution_count": 44,
   "id": "5bbf311b",
   "metadata": {},
   "outputs": [
    {
     "name": "stdout",
     "output_type": "stream",
     "text": [
      "1\n",
      "None\n"
     ]
    }
   ],
   "source": [
    "figure1 = Figure(1,2)\n",
    "# print(Figure.count)\n",
    "print(figure1.print_count())\n",
    "# print(figure1.print_width())"
   ]
  },
  {
   "cell_type": "code",
   "execution_count": 46,
   "id": "834382b6",
   "metadata": {},
   "outputs": [],
   "source": [
    "class Figure1:\n",
    "    count = 0 # Class variable\n",
    "    \n",
    "    # initialization\n",
    "    def __init__(self, width, height):\n",
    "        self.width = width\n",
    "        self.height = height\n",
    "        \n",
    "        # Class variable access\n",
    "        Figure1.count +=1\n",
    "    \n",
    "        \n",
    "    def calc_area(self):\n",
    "        return self.width * self.height\n",
    "    \n",
    "    @classmethod\n",
    "    def print_count(cls):\n",
    "        return cls.count        "
   ]
  },
  {
   "cell_type": "code",
   "execution_count": 47,
   "id": "38d5063d",
   "metadata": {},
   "outputs": [
    {
     "name": "stdout",
     "output_type": "stream",
     "text": [
      "2\n",
      "2\n",
      "2\n"
     ]
    }
   ],
   "source": [
    "figure1 = Figure1(1,2)\n",
    "figure2 = Figure1(4,5)\n",
    "print(Figure1.count)\n",
    "print(Figure1.print_count())\n",
    "print(figure1.print_count())"
   ]
  },
  {
   "cell_type": "markdown",
   "id": "24d0ee05",
   "metadata": {},
   "source": [
    "### 비교"
   ]
  },
  {
   "cell_type": "code",
   "execution_count": 54,
   "id": "989ca56e",
   "metadata": {},
   "outputs": [],
   "source": [
    "class Figure:\n",
    "    @classmethod\n",
    "    def set_name(cls, name):\n",
    "        cls.name = name\n",
    "        \n",
    "class Circle(Figure):\n",
    "    pass"
   ]
  },
  {
   "cell_type": "code",
   "execution_count": 49,
   "id": "224adc11",
   "metadata": {},
   "outputs": [],
   "source": [
    "class Figure1:\n",
    "    @staticmethod\n",
    "    def set_name(name):\n",
    "        Figure1.name = name\n",
    "        \n",
    "class Circle1(Figure1):\n",
    "    pass"
   ]
  },
  {
   "cell_type": "code",
   "execution_count": 55,
   "id": "51dd9046",
   "metadata": {},
   "outputs": [
    {
     "name": "stdout",
     "output_type": "stream",
     "text": [
      "figure figure\n",
      "figure circle\n",
      "figure figure\n",
      "circle circle\n"
     ]
    }
   ],
   "source": [
    "Figure.set_name(\"figure\")\n",
    "print( Figure.name, Circle.name ) # figure ,figure\n",
    "\n",
    "Circle.set_name(\"circle\")\n",
    "print( Figure.name, Circle.name ) # figure, circle\n",
    "\n",
    "\n",
    "Figure1.set_name(\"figure\")\n",
    "print( Figure1.name, Circle1.name ) # figure, figure\n",
    "\n",
    "Circle1.set_name(\"circle\")\n",
    "print( Figure1.name, Circle1.name ) # circle, circle "
   ]
  },
  {
   "cell_type": "markdown",
   "id": "6ffc819b",
   "metadata": {},
   "source": [
    "# Decorator"
   ]
  },
  {
   "cell_type": "markdown",
   "id": "5c037565",
   "metadata": {},
   "source": [
    "## 1. Nested function\n",
    "\n",
    " - **함수 내부에 또 다른 함수 정의**"
   ]
  },
  {
   "cell_type": "code",
   "execution_count": 56,
   "id": "e3fe516a",
   "metadata": {},
   "outputs": [],
   "source": [
    "def outer_func():\n",
    "    print('Call outer_func function')\n",
    "    \n",
    "    def inner_func():\n",
    "        return \"Call inner_func function\"\n",
    "    \n",
    "    \n",
    "    print(inner_func())"
   ]
  },
  {
   "cell_type": "code",
   "execution_count": 57,
   "id": "40285d11",
   "metadata": {},
   "outputs": [
    {
     "name": "stdout",
     "output_type": "stream",
     "text": [
      "Call outer_func function\n",
      "Call inner_func function\n"
     ]
    }
   ],
   "source": [
    "outer_func()"
   ]
  },
  {
   "cell_type": "markdown",
   "id": "e9b5eb58",
   "metadata": {},
   "source": [
    "## 2. First-class function\n",
    "\n",
    " - **함수 자체를 변수에 저장 가능**\n",
    " \n",
    " - **함수의 인자에 다른 함수를 인자로 전달 가능**\n",
    " \n",
    " - **함수의 return 값으로 함수를 전달 가능**\n",
    " \n",
    " - **파이썬의 모든 것은 객체이기 때문에 파이썬의 모든 함수들은 First-class 함수로 사용 가능함**"
   ]
  },
  {
   "cell_type": "code",
   "execution_count": 58,
   "id": "ee046f55",
   "metadata": {},
   "outputs": [],
   "source": [
    "def calc_square(digit):\n",
    "    return digit*digit"
   ]
  },
  {
   "cell_type": "code",
   "execution_count": 59,
   "id": "cbb1f828",
   "metadata": {},
   "outputs": [],
   "source": [
    "# 1. func1이라는 변수에 함수를 할당 가능\n",
    "func1 = calc_square"
   ]
  },
  {
   "cell_type": "code",
   "execution_count": 60,
   "id": "5a1f4b16",
   "metadata": {},
   "outputs": [
    {
     "data": {
      "text/plain": [
       "16"
      ]
     },
     "execution_count": 60,
     "metadata": {},
     "output_type": "execute_result"
    }
   ],
   "source": [
    "# 함수처럼 사용 가능\n",
    "func1(4)"
   ]
  },
  {
   "cell_type": "code",
   "execution_count": 61,
   "id": "ce1e5ab1",
   "metadata": {},
   "outputs": [],
   "source": [
    "def calc_square(digit):\n",
    "    return digit * digit\n",
    "\n",
    "def calc_plus(digit):\n",
    "    return digit + digit\n",
    "\n",
    "def calc_quad(digit):\n",
    "    return digit * digit * digit * digit"
   ]
  },
  {
   "cell_type": "code",
   "execution_count": 62,
   "id": "2d9d958d",
   "metadata": {},
   "outputs": [],
   "source": [
    "# 2. 함수를 다른 함수에 인자로 전달 가능\n",
    "\n",
    "def list_square(function, digit_list):\n",
    "    result = list()\n",
    "    for digit in digit_list:\n",
    "        result.append(function(digit)) \n",
    "    print (result)"
   ]
  },
  {
   "cell_type": "code",
   "execution_count": 63,
   "id": "e41c2c44",
   "metadata": {},
   "outputs": [],
   "source": [
    "# 3. 함수의 결과값으로 함수를 리턴할 수 있음\n",
    "\n",
    "def logger(msg):\n",
    "    message = msg\n",
    "    def msg_creator():    # <--- 함수 안에 함수를 만들 수도 있음\n",
    "        print ('[My Name]: ', msg)\n",
    "    return msg_creator"
   ]
  },
  {
   "cell_type": "code",
   "execution_count": 64,
   "id": "4ae4bd14",
   "metadata": {},
   "outputs": [],
   "source": [
    "log1 = logger(\"SM\")"
   ]
  },
  {
   "cell_type": "code",
   "execution_count": 65,
   "id": "e9603139",
   "metadata": {},
   "outputs": [
    {
     "name": "stdout",
     "output_type": "stream",
     "text": [
      "[My Name]:  SM\n"
     ]
    }
   ],
   "source": [
    "log1()"
   ]
  },
  {
   "cell_type": "markdown",
   "id": "25cda07c",
   "metadata": {},
   "source": [
    "## 3. Closure function\n",
    "\n",
    " - **함수와 해당 함수가 가지고 있는 데이터를 함께 복사, 저장해서 별도 함수로 활용하는 기법, First-class 함수와 동일**\n",
    " \n",
    " - **외부 함수가 소멸되더라도 외부 함수 안에 있는 로컬 변수 값과 중첩함수를 사용할 수 있음**\n",
    " \n",
    " - **closure는 객체와 유사**\n",
    " \n",
    " - **method가 적으면 closure 사용, method가 많으면 class 사용**"
   ]
  },
  {
   "cell_type": "code",
   "execution_count": 66,
   "id": "f1edddb3",
   "metadata": {},
   "outputs": [],
   "source": [
    "def outer_func(num):\n",
    "    # 중첩 함수에서 외부 함수의 변수에 접근 가능\n",
    "    def inner_func():\n",
    "        print(num)\n",
    "        return '안녕'\n",
    "    \n",
    "    return inner_func                 # 중첩 함수 이름을 리턴합니다."
   ]
  },
  {
   "cell_type": "code",
   "execution_count": 67,
   "id": "da20db68",
   "metadata": {},
   "outputs": [
    {
     "name": "stdout",
     "output_type": "stream",
     "text": [
      "10\n"
     ]
    },
    {
     "data": {
      "text/plain": [
       "'안녕'"
      ]
     },
     "execution_count": 67,
     "metadata": {},
     "output_type": "execute_result"
    }
   ],
   "source": [
    "# closure\n",
    "closure_func = outer_func(10)\n",
    "closure_func()"
   ]
  },
  {
   "cell_type": "code",
   "execution_count": 68,
   "id": "5d398c91",
   "metadata": {},
   "outputs": [
    {
     "name": "stdout",
     "output_type": "stream",
     "text": [
      "10\n"
     ]
    },
    {
     "data": {
      "text/plain": [
       "'안녕'"
      ]
     },
     "execution_count": 68,
     "metadata": {},
     "output_type": "execute_result"
    }
   ],
   "source": [
    "# 삭제해도 사용 가능\n",
    "del outer_func\n",
    "\n",
    "closure_func()"
   ]
  },
  {
   "cell_type": "code",
   "execution_count": 69,
   "id": "c6699d39",
   "metadata": {},
   "outputs": [],
   "source": [
    "def calc_square(digit):\n",
    "    return digit * digit\n",
    "\n",
    "def calc_power_3(digit):\n",
    "    return digit * digit * digit\n",
    "\n",
    "def calc_quad(digit):\n",
    "    return digit * digit * digit * digit"
   ]
  },
  {
   "cell_type": "code",
   "execution_count": 70,
   "id": "19d49327",
   "metadata": {},
   "outputs": [],
   "source": [
    "def calc_power(n):\n",
    "    def power(digit):\n",
    "        return digit ** n\n",
    "    return power"
   ]
  },
  {
   "cell_type": "code",
   "execution_count": 71,
   "id": "cfdf0375",
   "metadata": {},
   "outputs": [],
   "source": [
    "power2 = calc_power(2)\n",
    "power3 = calc_power(3)\n",
    "power4 = calc_power(4)"
   ]
  },
  {
   "cell_type": "code",
   "execution_count": 72,
   "id": "d7fc6576",
   "metadata": {},
   "outputs": [
    {
     "name": "stdout",
     "output_type": "stream",
     "text": [
      "4 8 16\n"
     ]
    }
   ],
   "source": [
    "print( power2(2) , power3(2), power4(2) )"
   ]
  },
  {
   "cell_type": "markdown",
   "id": "1a71c1ca",
   "metadata": {},
   "source": [
    "## 4. Decorator"
   ]
  },
  {
   "cell_type": "markdown",
   "id": "80e540be",
   "metadata": {},
   "source": [
    " - **함수 앞뒤에 기능을 추가해서 손쉽게 활용할 수 있는 기법**\n",
    " \n",
    " - **Closure function 활용**"
   ]
  },
  {
   "cell_type": "code",
   "execution_count": 73,
   "id": "d6a3d2ce",
   "metadata": {},
   "outputs": [],
   "source": [
    "# 데코레이터 작성하기\n",
    "import datetime\n",
    "def datetime_decorator(func):           \n",
    "    def wrapper():                      \n",
    "        print ('time ' + str(datetime.datetime.now())) \n",
    "        func()                          \n",
    "        print (datetime.datetime.now()) \n",
    "    return wrapper                      "
   ]
  },
  {
   "cell_type": "code",
   "execution_count": 74,
   "id": "4f71f2e8",
   "metadata": {},
   "outputs": [
    {
     "name": "stdout",
     "output_type": "stream",
     "text": [
      "time 2021-11-14 21:55:25.748964\n",
      "sm login\n",
      "2021-11-14 21:55:25.749626\n"
     ]
    }
   ],
   "source": [
    "@datetime_decorator\n",
    "def logger_login_sm():\n",
    "    print(\"sm login\")\n",
    "    \n",
    "logger_login_sm()"
   ]
  },
  {
   "cell_type": "markdown",
   "id": "e95e4b3c",
   "metadata": {},
   "source": [
    "### 파라미터가 있을 때"
   ]
  },
  {
   "cell_type": "code",
   "execution_count": 75,
   "id": "1f62c351",
   "metadata": {},
   "outputs": [],
   "source": [
    "def outer_func(function):\n",
    "    def inner_func(digit1, digit2):\n",
    "        if digit2 == 0:\n",
    "            print('cannot be divided with zero')\n",
    "            return\n",
    "        function(digit1, digit2)\n",
    "    return inner_func"
   ]
  },
  {
   "cell_type": "code",
   "execution_count": 76,
   "id": "56bb6da5",
   "metadata": {},
   "outputs": [],
   "source": [
    "@outer_func\n",
    "def divide(digit1, digit2):\n",
    "    print( digit1 / digit2)"
   ]
  },
  {
   "cell_type": "code",
   "execution_count": 77,
   "id": "a8289121",
   "metadata": {},
   "outputs": [
    {
     "name": "stdout",
     "output_type": "stream",
     "text": [
      "cannot be divided with zero\n"
     ]
    }
   ],
   "source": [
    "divide(10, 0)"
   ]
  },
  {
   "cell_type": "code",
   "execution_count": 78,
   "id": "0941f7f3",
   "metadata": {},
   "outputs": [
    {
     "name": "stdout",
     "output_type": "stream",
     "text": [
      "5.0\n"
     ]
    }
   ],
   "source": [
    "divide(10,2)"
   ]
  },
  {
   "cell_type": "markdown",
   "id": "4617ba7b",
   "metadata": {},
   "source": [
    "### 파라미터와 관계없이 모든 함수에 적용 가능한 decorator\n",
    "\n",
    " - **파라미터는 어떤 형태이든 (args, **kwargs) 로 표현 가능"
   ]
  },
  {
   "cell_type": "code",
   "execution_count": 79,
   "id": "89384642",
   "metadata": {},
   "outputs": [],
   "source": [
    "# 데코레이터 작성하기\n",
    "def general_decorator(function):\n",
    "    def wrapper(*args, **kwargs):\n",
    "        print('function is decorated')\n",
    "        return function(*args, **kwargs)\n",
    "    return wrapper"
   ]
  },
  {
   "cell_type": "code",
   "execution_count": 80,
   "id": "ff9ef60c",
   "metadata": {},
   "outputs": [],
   "source": [
    "# 데코레이터 적용하기\n",
    "@general_decorator\n",
    "def calc_square(digit):\n",
    "    return digit * digit\n",
    "\n",
    "@general_decorator\n",
    "def calc_plus(digit1, digit2):\n",
    "    return digit1 + digit2\n",
    "\n",
    "@general_decorator\n",
    "def calc_quad(digit1, digit2, digit3, digit4):\n",
    "    return digit1 * digit2 * digit3 * digit4"
   ]
  },
  {
   "cell_type": "code",
   "execution_count": 81,
   "id": "81b24031",
   "metadata": {},
   "outputs": [
    {
     "name": "stdout",
     "output_type": "stream",
     "text": [
      "function is decorated\n",
      "4\n",
      "function is decorated\n",
      "5\n",
      "function is decorated\n",
      "120\n"
     ]
    }
   ],
   "source": [
    "# 함수 호출하기\n",
    "print (calc_square(2))\n",
    "print (calc_plus(2, 3))\n",
    "print (calc_quad(2, 3, 4, 5))"
   ]
  },
  {
   "cell_type": "markdown",
   "id": "768180ae",
   "metadata": {},
   "source": [
    "### Method Decorator"
   ]
  },
  {
   "cell_type": "markdown",
   "id": "15f862a8",
   "metadata": {},
   "source": [
    " - **self를 decorator 작성 시에 포함시켜야 함**"
   ]
  },
  {
   "cell_type": "code",
   "execution_count": 82,
   "id": "0ef47f8f",
   "metadata": {},
   "outputs": [],
   "source": [
    "def h1_tag(function):\n",
    "    def func_wrapper(self, *args, **kwargs):\n",
    "        return \"<h1>{}<h1>\".format(function(self,*args, **kwargs))\n",
    "    return func_wrapper"
   ]
  },
  {
   "cell_type": "code",
   "execution_count": 83,
   "id": "1e4a0e13",
   "metadata": {},
   "outputs": [],
   "source": [
    "class Person:\n",
    "    def __init__(self, first_name, last_name):\n",
    "        self.first_name = first_name\n",
    "        self.last_name = last_name\n",
    "        \n",
    "    @h1_tag\n",
    "    def get_name(self):\n",
    "        return self.first_name + ' ' + self.last_name"
   ]
  },
  {
   "cell_type": "code",
   "execution_count": 84,
   "id": "8eddafb2",
   "metadata": {},
   "outputs": [
    {
     "name": "stdout",
     "output_type": "stream",
     "text": [
      "<h1>SM Cha<h1>\n"
     ]
    }
   ],
   "source": [
    "SM = Person(\"SM\", \"Cha\")\n",
    "print(SM.get_name())"
   ]
  },
  {
   "cell_type": "markdown",
   "id": "269ed79a",
   "metadata": {},
   "source": [
    "### 파라미터가 있는 Decorator"
   ]
  },
  {
   "cell_type": "code",
   "execution_count": 85,
   "id": "a5733943",
   "metadata": {},
   "outputs": [],
   "source": [
    "# 중첩 함수의 하나 더 깊게 두어 생성\n",
    "def decorator1(num):\n",
    "    def outer_wrapper(function):\n",
    "        def inner_wrapper(*args, **kwargs):\n",
    "            print('decorator1 {}'.format(num))\n",
    "            return function(*args, **kwargs)\n",
    "        return inner_wrapper\n",
    "    return outer_wrapper"
   ]
  },
  {
   "cell_type": "code",
   "execution_count": 86,
   "id": "fd47d1b0",
   "metadata": {},
   "outputs": [],
   "source": [
    "@decorator1(1)\n",
    "def print_hello():\n",
    "    print('hello')"
   ]
  },
  {
   "cell_type": "code",
   "execution_count": 87,
   "id": "cdfaaf88",
   "metadata": {},
   "outputs": [
    {
     "name": "stdout",
     "output_type": "stream",
     "text": [
      "decorator1 1\n",
      "hello\n"
     ]
    }
   ],
   "source": [
    "# 이거랑 같음\n",
    "def print_hello():\n",
    "    print ('hello')\n",
    "\n",
    "print_hello2 = decorator1(1)(print_hello)\n",
    "print_hello2()"
   ]
  },
  {
   "cell_type": "code",
   "execution_count": 88,
   "id": "f6135946",
   "metadata": {},
   "outputs": [],
   "source": [
    "# 이렇게 써도 됨\n",
    "@decorator1(num=2)\n",
    "def print_hello():\n",
    "    print('hello')"
   ]
  }
 ],
 "metadata": {
  "kernelspec": {
   "display_name": "Python 3 (ipykernel)",
   "language": "python",
   "name": "python3"
  },
  "language_info": {
   "codemirror_mode": {
    "name": "ipython",
    "version": 3
   },
   "file_extension": ".py",
   "mimetype": "text/x-python",
   "name": "python",
   "nbconvert_exporter": "python",
   "pygments_lexer": "ipython3",
   "version": "3.9.7"
  }
 },
 "nbformat": 4,
 "nbformat_minor": 5
}
