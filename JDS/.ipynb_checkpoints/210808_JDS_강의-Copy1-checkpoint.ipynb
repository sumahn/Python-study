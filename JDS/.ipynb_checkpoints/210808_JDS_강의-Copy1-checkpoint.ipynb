{
 "cells": [
  {
   "cell_type": "markdown",
   "id": "f1c9bbc4",
   "metadata": {},
   "source": [
    "## 1. 데이터베이스에 대한 이해(복습)\n",
    "\n",
    "![nn](img/data_process.jpg)\n",
    "\n",
    "\n",
    "\n",
    "### 1.1 데이터베이스를 어떻게 관리할 것인가?\n",
    "\n",
    " - RDBMS(Relational Data Base Management System)\n",
    " - MySQL, SQLlite, Oracle ...\n",
    " - 요즘엔 redis, hbase(for hadoop), cassandra, mongoDB와 같은 NoSQL(Not only SQL) Database가 많이 사용된다.(빅데이터에 적합하기 때문)"
   ]
  },
  {
   "cell_type": "markdown",
   "id": "dbc90186",
   "metadata": {},
   "source": [
    "### 1.2 RDBMS(Relational Database Management System, 관계형 데이터베이스 관리 시스템)\n",
    " \n",
    " - 데이터베이스의 한 종류로, 가장 많이 사용됨\n",
    " - 역사가 오래되어, 가장 신뢰성이 높고, 데이터 분류, 정렬, 탐색 속도가 빠름\n",
    " <br><br>\n",
    " - 관계형 데이터베이스 = 테이블!\n",
    " - 2차원 테이블(Table) 형식을 이용하여 데이터를 정의하고 설명하는 데이터 모델\n",
    " - 관계형 데이터베이스에서는 데이터를 속성(Attribute)과 데이터 값(Attribute Value)으로 구조화(2차원 Table 형태로 만들어짐)\n",
    " - 데이터를 구조화한다는 것은 속성(Attribute)과 데이터 값(Attribute Value) 사이에서 관계(Relation)을 찾아내고 이를 테이블 모양의 구조로 도식화함의 의미함\n",
    " - 주요 용어\n",
    " <img src=\"https://www.fun-coding.org/00_Images/rdbms_term1.png\" />\n",
    "   - Primary Key and Foreign Key\n",
    "     - Primary Key(기본키): Primary Key는 한 테이블(Table)의 각 로우(Row)를 유일하게 식별해주는 컬럼(Column)으로, <br>\n",
    "       각 테이블마다 Primary Key가 존재해야 하며, NULL 값을 허용하지 않고, 각 로우(Row)마다 유일한 값이어야 한다.\n",
    "     - Foreign Key(외래키 또는 외부키): Foreign Key는 한 테이블의 필드(Attribute) 중 다른 테이블의 행(Row)을 식별할 수 있는 키\n",
    " <img src=\"https://www.fun-coding.org/00_Images/rdbms_keys.png\" />"
   ]
  },
  {
   "cell_type": "markdown",
   "id": "0e76a8ab",
   "metadata": {},
   "source": [
    "### 1.3 데이터베이스 스키마(Schema)\n",
    " \n",
    " - 데이터베이스의 테이블 구조 및 형식, 관계 등의 정보를 형식 언어(formal language)로 기술한 것\n",
    "   1. 관계형 데이터베이스를 사용하여 데이터를 저장할 때 가장 먼저 할 일은 데이터의 공통 속성을 식별하여 컬럼(Column)으로 정의하고, 테이블(Table)을 만드는 것\n",
    "   2. 통상적으로 하나의 테이블이 아닌 여러 개의 테이블로 만들고, 각 테이블 구조, 형식, 관계를 정의함\n",
    "   3. 이를 스키마라고 하며, 일종의 데이터베이스 설계도로 이해하면 됨\n",
    "   4. 데이터베이스마다 스키마를 만드는 언어가 존재하며, 해당 스키마만 있으면 동일한 구조의 데이터베이스를 만들 수 있음<br>\n",
    "      (데이터베이스 백업과는 달리 데이터 구조만 동일하게 만들 수 있음)\n",
    " <img src=\"https://www.fun-coding.org/00_Images/schema.png\" />\n",
    "      "
   ]
  },
  {
   "cell_type": "markdown",
   "id": "340a17cd",
   "metadata": {},
   "source": [
    "### 1.4 SQL(Structured Query Language)\n",
    " \n",
    " - 관계형 데이터베이스 관리 시스템에서 데이터를 관리하기 위해 사용되는 표준 프로그래밍 언어(Language)\n",
    " - 데이터베이스 스키마 생성 및 수정, 테이블 관리, 데이터 추가, 수정, 삭제, 조회 등, 데이터베이스와 관련된 거의 모든 작업을 위해 사용되는 언어\n",
    " - 데이터베이스마다 문법에 약간의 차이가 있지만, 표준 SQL을 기본으로 하므로, 관계형 데이터베이스를 다루기 위해서는 필수적으로 알아야 함\n",
    " - SQL은 크게 세 가지 종류로 나뉨\n",
    "   - 데이터 정의 언어(DDL, Data Definition Language)\n",
    "   - 데이터 처리 언어(DML, Data Manipulation Language)\n",
    "   - 데이터 제어 언어(DCL, Data Control Language)\n",
    " \n",
    "#### 1.4.1 데이터 정의 언어(DDL, Data Definition Language): 데이터 구조 정의\n",
    " - 테이블(TABLE), 인덱스(INDEX) 등의 개체를 만들고 관리하는데 사용되는 명령\n",
    " - CREATE, ALTER, DROP 등이 있음\n",
    " \n",
    "#### 1.4.2 데이터 조작 언어(DML, Data Manipulation Language): 데이터 CRUD [Create(생성), Read(읽기), Update(갱신), Delete(삭제)]\n",
    " - INSERT\t테이블(Table)에 하나 이상의 데이터 추가.\n",
    " - UPDATE\t테이블(Table)에 저장된 하나 이상의 데이터 수정.\n",
    " - DELETE\t테이블(Table)의 데이터 삭제.\n",
    " - SELECT\t테이블(Table)에 저장된 데이터 조회.\n",
    " \n",
    "#### 1.4.2 데이터 제어 언어(DCL, Data Control Language): 데이터 핸들링 권한 설정, 데이터 무결성 처리 등 수행\n",
    " - GRANT\t데이터베이스 개체(테이블, 인덱스 등)에 대한 사용 권한 설정.\n",
    " - BEGIN\t트랜잭션(Transaction) 시작.\n",
    " - COMMIT\t트랜잭션(Transaction) 내의 실행 결과 적용.\n",
    " - ROLLBACK\t트랜잭션(Transaction)의 실행 취소.\n"
   ]
  },
  {
   "cell_type": "markdown",
   "id": "ffaac71f",
   "metadata": {},
   "source": [
    "## 2. pymysql 모듈로 mysql 사용하기\n",
    "\n",
    "### 2.1 pymysql 라이브러리 소개 및 설치\n",
    "\n",
    " * mysql을 python에서 사용할 수 있도록 하는 라이브러리(이외에도 다양한 라이브러리 존재)\n",
    " * 설치: pip install pymysql\n",
    " * 일반적인 pymysql 핸들링 코드 순서\n",
    "   1. 라이브러리: pymysql 모듈 import\n",
    "   2. mysql에 연결: pymysql.connect() 메소드 사용 (파라미터: host, port, user, passwd, db 등) \n",
    "   3. cursor 사용: connection 객체로부터 cursor() 메소드를 호출하여 cursor 객체를 가져옴\n",
    "   4. SQL 문장 전송: cursor 객체의 execute() 메소드를 사용하여 SQL 문장을 DB로 전송\n",
    "   5. 실행 확정: Connection 객체의 commit() 메소드를 사용하여 데이터 확정\n",
    "   6. 연결 종료: Connection 객체의 close() 메소드를 사용하여 연결 종료"
   ]
  },
  {
   "cell_type": "code",
   "execution_count": 1,
   "id": "8eab7e75",
   "metadata": {},
   "outputs": [],
   "source": [
    "import getpass"
   ]
  },
  {
   "cell_type": "code",
   "execution_count": 2,
   "id": "8489e889",
   "metadata": {},
   "outputs": [
    {
     "name": "stdout",
     "output_type": "stream",
     "text": [
      "········\n"
     ]
    }
   ],
   "source": [
    "# 1. 라이브러리\n",
    "import pymysql\n",
    "\n",
    "# 2. mysql에 연결\n",
    "pwd = getpass.getpass()\n",
    "db = pymysql.connect(host=\"localhost\", port=3306, user=\"root\", passwd= pwd, db = 'ecommerce', charset=\"utf8\")\n",
    "\n",
    "# 3. cursor 사용\n",
    "cursor = db.cursor()\n",
    "\n",
    "# 4-1. SQL query 작성 \n",
    "SQL = \"\"\"\n",
    "    CREATE TABLE product(\n",
    "    product_code VARCHAR(20) NOT NULL,\n",
    "    title VARCHAR(200) NOT NULL,\n",
    "    ori_price INT,\n",
    "    dis_price INT,\n",
    "    dis_percent INT,\n",
    "    delivery VARCHAR(2),\n",
    "    PRIMARY KEY(product_code)\n",
    "    )\"\"\"\n",
    "\n",
    "# 4-2. SQL query 실행\n",
    "cursor.execute(SQL)\n",
    "\n",
    "# 5. 실행 확정 \n",
    "db.commit()\n",
    "\n",
    "# 6. 연결 종료\n",
    "db.close()"
   ]
  },
  {
   "cell_type": "markdown",
   "id": "ccf791dd",
   "metadata": {},
   "source": [
    "## 3. G market의 BEST 상품들을 크롤링한 후 DB에 저장하기\n",
    "\n",
    "### 3.1 크롤링 복습\n",
    "\n",
    " * 크롤링이란?\n",
    "  - 웹 페이지의 데이터를 가져오는 작업\n",
    "  \n",
    " * bs4 모듈의 BeautifulSoup 메소드를 활용하여 soup 객체를 생성한 뒤, soup 객체에서 원하는 데이터를 추출\n",
    " * soup 객체에서 원하는 데이터를 찾기(find), 선택하기(select) 두 가지 방법이 존재함.\n",
    "```python\n",
    "soup = BeautifulSoup(res.content, \"html.parser\")\n",
    "soup.find(\"li\", attrs={\"class\":\"name\"}) # 태그와 attribute 지정하여 찾기 \n",
    "soup.select(li.name) # css selector를 이용하여 경로를 타고 들어가 선택하기\n",
    "```\n",
    "\n",
    " * 이번에는 select 메소드를 통해 경로 찾아 들어가보기"
   ]
  },
  {
   "cell_type": "markdown",
   "id": "61c07bb3",
   "metadata": {},
   "source": [
    "### 3.2 크롤링할 데이터 탐색\n",
    "\n",
    " * 어떤 데이터를 크롤링하여 DB에 어떤 형태로 저장할지 미리 구상하자.\n",
    " * gmarket url= https://www.gmarket.co.kr/\n",
    " * 메인 카테고리와 세부 카테고리, 상품명, 상품 코드, 판매자를 크롤링 해보자. "
   ]
  },
  {
   "cell_type": "code",
   "execution_count": 11,
   "id": "b3457f83",
   "metadata": {},
   "outputs": [],
   "source": [
    "import requests\n",
    "from bs4 import BeautifulSoup\n",
    "\n",
    "# 서버로부터 데이터 요청\n",
    "url = \"http://corners.gmarket.co.kr/BestSellers\"\n",
    "res = requests.get(url)\n",
    "\n",
    "# 파싱 후 soup 객체로 지정\n",
    "soup = BeautifulSoup(res.content, \"html.parser\")"
   ]
  },
  {
   "cell_type": "markdown",
   "id": "439c051f",
   "metadata": {},
   "source": [
    "### 3.3 main_category 크롤링"
   ]
  },
  {
   "cell_type": "code",
   "execution_count": 10,
   "id": "807102ae",
   "metadata": {},
   "outputs": [
    {
     "name": "stdout",
     "output_type": "stream",
     "text": [
      "ALL\n",
      "패션의류\n",
      "신발/잡화\n",
      "화장품/헤어\n",
      "유아동/출산\n",
      "식품\n",
      "생활/주방/건강\n",
      "가구/침구\n",
      "스포츠/자동차\n",
      "컴퓨터/전자\n",
      "도서/음반\n",
      "여행\n",
      "e쿠폰/티켓\n"
     ]
    }
   ],
   "source": [
    "# soup 객체로부터 데이터 탐색 \n",
    "## 1. 메인 카테고리 \n",
    "categories = soup.select('div.gbest-cate ul.by-group li a')\n",
    "for category in categories:\n",
    "    get_category(\"http://corners.gmarket.co.kr/\"+category[\"href\"], category.get_text())"
   ]
  },
  {
   "cell_type": "markdown",
   "id": "3a302ae5",
   "metadata": {},
   "source": [
    "### 3.4 sub_category 크롤링"
   ]
  },
  {
   "cell_type": "markdown",
   "id": "3edb0c0c",
   "metadata": {},
   "source": [
    " - main_category에서 링크를 얻은 후에 세부 카테고리로 들어갈 수 있음. "
   ]
  },
  {
   "cell_type": "code",
   "execution_count": 12,
   "id": "631842c3",
   "metadata": {},
   "outputs": [],
   "source": [
    "def get_category(category_link, category_name):\n",
    "    res = requests.get(category_link)\n",
    "    soup = BeautifulSoup(res.content, \"hteml.parser\")\n",
    "    \n",
    "    sub_categories = soup.select(\"div.navi.group ul li a\")\n",
    "    for sub_category in sub_categories:\n",
    "        res = requests.get('http://corners.gmarket.co.kr/' + sub_category['href'])\n",
    "        soup = BeautifulSoup(res.content, 'html.parser')\n",
    "        get_items(soup, category_name, sub_category.get_text())"
   ]
  },
  {
   "cell_type": "markdown",
   "id": "8a25537c",
   "metadata": {},
   "source": [
    "### 3.5 상품명 등 세부 정보 가져오기"
   ]
  },
  {
   "cell_type": "markdown",
   "id": "8398ba5c",
   "metadata": {},
   "source": [
    " * 세부 정보 얻으려고 했더니 세부 카테고리로 또 링크타고 들어가서 거기서 수집해야 함.\n",
    " * 세부 정보 받아서 dictionary 형태로 저장하면 좋을듯\n",
    " \n",
    "   1. 세부 카테고리 링크타고 들어가기\n",
    "   2. 세부 정보 수집\n",
    "   3. dictionary에 세부 정보 저장"
   ]
  },
  {
   "cell_type": "code",
   "execution_count": null,
   "id": "116d2992",
   "metadata": {},
   "outputs": [],
   "source": [
    "def get_items(html, category_name, sub_category_name):\n",
    "    # soup 객체를 가져오면 좋을듯\n",
    "    best_items = html.select('div.best-list')\n",
    "    \n",
    "    \n",
    "    # 각 item 별로 세부 정보 가져오기\n",
    "    for index, item in enumerate(best_items.select('li')):\n",
    "        \n",
    "        data_dict = dict()\n",
    "        \n",
    "        # 1. 상품명, 원래 가격, 할인 가격, 할인율, 랭킹 \n",
    "        title = item.select_one('a.itemname')\n",
    "        ori_price = item.select_one('div.ori-price span')\n",
    "        dis_price = item.select_one('div.s-price strong span')\n",
    "        dis_percent = item.select_one('div.s-price em')\n",
    "        ranking = index + 1\n",
    "        \n",
    "        # 2. 세부 정보가 없는 경우\n",
    "        # 2-1. 원래 가격이 없는 경우\n",
    "        if ori_price == None or ori_price.get_text() == '':\n",
    "            ori_price = dis_price\n",
    "        \n",
    "        # 2-2. 할인 가격이 없는 경우\n",
    "        if dis_price == None or dis_price.get_text() == '':\n",
    "            ori_price, dis_price = 0, 0\n",
    "        else:\n",
    "            ori_price = ori_price.get_text().replace(',', '').replace('원', '')\n",
    "            dis_price = dis_price.get_text().replace(',', '').replace('원', '')\n",
    "            \n",
    "        # 2-3. 할인율이 없는 경우 \n",
    "        if dis_percent == None or dis_percent.get_text() == '':\n",
    "            dis_percent = 0\n",
    "        else:\n",
    "            dis_percent = dis_percent.get_text().replace('%', '')\n",
    "            \n",
    "        # 2. 상품 링크 \n",
    "        product_link = item.select_one('div.thumb a')\n",
    "        \n",
    "        # 3. 상품 코드 \n",
    "        item_code = product_link.attrs['href'].split('=')[1].replace('&ver', '')\n",
    "        \n",
    "        # 4. 판매자명 가져오기\n",
    "        res = requests.get(product_link.attrs['href'])\n",
    "        soup = BeautifulSoup(res.content, 'html.parser')\n",
    "        provider = soup.select_one('div.item-topinfo_headline p span a')\n",
    "        \n",
    "        # 4-1. 판매자명이 없는 경우 \n",
    "        if provider == None or provider.get_text() == '':\n",
    "            provider = ''\n",
    "        else:\n",
    "            provider = providr.get_text()\n",
    "            \n",
    "        # 5. 데이터 저장하기 \n",
    "        data_dict['ranking'] = ranking \n",
    "        data_dict['title'] = title \n",
    "        data_dict['item_code'] = item_code\n",
    "        data_dict['category_name'] = category_name \n",
    "        data_dict['sub_category_name'] = sub_category_name \n",
    "        data_dict['ori_price'] = ori_price \n",
    "        data_dict['dis_price'] = dis_price \n",
    "        data_dict['dis_percent'] = dis_percent \n",
    "        \n",
    "        ## 여기서 한번에 저장한 다음에 SQL로 넘어가면 좋을텐데 SQL 구문 여러 줄을 한번에 실행하는 것이 안됨\n",
    "        ## 여기서 바로바로 넘기자.\n",
    "        \n",
    "        save_data(data_dict)\n",
    "        \n",
    "            "
   ]
  },
  {
   "cell_type": "markdown",
   "id": "99fb9305",
   "metadata": {},
   "source": [
    "### 3.6 SQL로 저장하기"
   ]
  },
  {
   "cell_type": "code",
   "execution_count": null,
   "id": "3fd4a063",
   "metadata": {},
   "outputs": [],
   "source": [
    "def save_data(item_info):\n",
    "    \n",
    "    import pymysql\n",
    "    import getpass\n",
    "    \n",
    "    pwd = getpass.getpass()\n",
    "    db = pymysql.connect(host=\"localhost\", port=3306, user=\"root\", passwd = pwd, db='bestproducts', charset='utf8')\n",
    "    cursor = db.cursor()\n",
    "    \n",
    "    # 중복 데이터가 생기지 않게 item_code가 없는 것만 데이터 넣기\n",
    "    sql = \"\"\"SELECT COUNT(*) FROM items WHERE item_code = '\"\"\" + item_info['item_code'] + \"\"\"';\"\"\"\n",
    "    cursor.execute(sql)\n",
    "    result = cursor.fetchone()\n",
    "    if result[0] = 0:\n",
    "        sql = \"\"\"\n",
    "        INSERT INTO items VALUES(\n",
    "        '\"\"\" + item_info['item_code'] + \"\"\"',\n",
    "        '\"\"\" + item_info['title'] + \"\"\"',\n",
    "        \"\"\" + str(item_info['ori_price']) + \"\"\",\n",
    "        \"\"\" + str(item_info['dis_price']) + \"\"\",\n",
    "        \"\"\" + str(item_info['dis_percent']) + \"\"\",\n",
    "        '\"\"\" + item_info['provider'] + \"\"\"')\"\"\"\n",
    "        \n",
    "        sql.replace('\\n', '').strip().replace('    ', '')\n",
    "        cursor.execute(sql)\n",
    "        \n",
    "    sql = \"\"\"\n",
    "    INSERT INTO ranking (main_category, sub_category, item_ranking, item_code) VALUES('\n",
    "    \"\"\" + item_info['category_name'] + \"\"\"',\n",
    "    '\"\"\" + item_info['sub_category_name'] + \"\"\"',\n",
    "    '\"\"\" + str(item_info['ranking']) + \"\"\"',\n",
    "    '\"\"\" + item_info['item_code'] + \"\"\"')\"\"\"\n",
    "    sql.replace('\\n','').strip().replace('    ', '')\n",
    "    cursor.execute(sql)"
   ]
  }
 ],
 "metadata": {
  "kernelspec": {
   "display_name": "Python 3",
   "language": "python",
   "name": "python3"
  },
  "language_info": {
   "codemirror_mode": {
    "name": "ipython",
    "version": 3
   },
   "file_extension": ".py",
   "mimetype": "text/x-python",
   "name": "python",
   "nbconvert_exporter": "python",
   "pygments_lexer": "ipython3",
   "version": "3.8.8"
  }
 },
 "nbformat": 4,
 "nbformat_minor": 5
}
