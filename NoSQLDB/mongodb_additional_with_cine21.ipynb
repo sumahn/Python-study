{
 "cells": [
  {
   "cell_type": "markdown",
   "source": [
    "## 1. mongodb 문법 실습\n",
    "\n",
    "* cine21 배우 랭킹 사이트 크롤링\n",
    "  - 사이트 주소: http://www.cine21.com/rank/person/\n",
    "  - 요청 방식 확인 방법: 크롬 개발자 모드로 들어가서, Network -> content 페이지의 요청 방식 확인\n",
    "    - Request URL: http://www.cine21.com/rank/person/content\n",
    "    - Request Method: POST\n",
    "    - Form data\n",
    "      - section = 'actor'\n",
    "      - period_start = '2018-08'\n",
    "      - gender = 'all'\n",
    "      - page = 3 "
   ],
   "metadata": {}
  },
  {
   "cell_type": "markdown",
   "source": [
    "#### 배우 랭킹 및 상세 정보 크롤링 및 mongodb 저장 (full source)"
   ],
   "metadata": {}
  },
  {
   "cell_type": "code",
   "execution_count": 1,
   "source": [
    "from bs4 import BeautifulSoup\n",
    "import requests\n",
    "import pymongo\n",
    "import re\n",
    "\n",
    "conn = pymongo.MongoClient()\n",
    "actor_db = conn.cine21\n",
    "actor_collection = actor_db.actor_collection\n",
    "\n",
    "actors_info_list = list()\n",
    "\n",
    "cine21_url = 'http://www.cine21.com/rank/person/content'\n",
    "post_data = dict()\n",
    "post_data['section'] = 'actor'\n",
    "post_data['period_start'] = '2018-08'\n",
    "post_data['gender'] = 'all'\n",
    "\n",
    "for index in range(1, 21):\n",
    "    post_data['page'] = index\n",
    "\n",
    "    res = requests.post(cine21_url, data=post_data)\n",
    "    soup = BeautifulSoup(res.content, 'html.parser')\n",
    "\n",
    "    actors = soup.select('li.people_li div.name')\n",
    "    hits = soup.select('ul.num_info > li > strong')\n",
    "    movies = soup.select('ul.mov_list')\n",
    "    rankings = soup.select('li.people_li > span.grade')\n",
    "    \n",
    "    for index, actor in enumerate(actors):\n",
    "        actor_name = re.sub('\\(\\w*\\)', '', actor.text)\n",
    "        actor_hits = int(hits[index].text.replace(',', ''))\n",
    "        movie_titles = movies[index].select('li a span')\n",
    "        movie_title_list = list()\n",
    "        for movie_title in movie_titles:\n",
    "            movie_title_list.append(movie_title.text)\n",
    "        actor_info_dict = dict()\n",
    "        actor_info_dict['배우이름'] = actor_name\n",
    "        actor_info_dict['흥행지수'] = actor_hits\n",
    "        actor_info_dict['출연영화'] = movie_title_list\n",
    "        actor_info_dict['랭킹'] = rankings[index].text\n",
    "\n",
    "        actor_link = 'http://www.cine21.com' + actor.select_one('a').attrs['href']\n",
    "        response_actor = requests.get(actor_link)\n",
    "        soup_actor = BeautifulSoup(response_actor.content, 'html.parser')\n",
    "        default_info = soup_actor.select_one('ul.default_info')\n",
    "        actor_details = default_info.select('li')\n",
    "\n",
    "        for actor_item in actor_details:\n",
    "            actor_item_field = actor_item.select_one('span.tit').text\n",
    "            actor_item_value = re.sub('<span.*?>.*?</span>', '', str(actor_item))\n",
    "            actor_item_value = re.sub('<.*?>', '', actor_item_value)\n",
    "            actor_info_dict[actor_item_field] = actor_item_value\n",
    "        actors_info_list.append(actor_info_dict)\n",
    "        \n",
    "actor_collection.insert_many(actors_info_list)"
   ],
   "outputs": [
    {
     "output_type": "execute_result",
     "data": {
      "text/plain": [
       "<pymongo.results.InsertManyResult at 0x7f9748a59fc0>"
      ]
     },
     "metadata": {},
     "execution_count": 1
    }
   ],
   "metadata": {}
  },
  {
   "cell_type": "markdown",
   "source": [
    "#### mongodb 접속 기본 코드"
   ],
   "metadata": {}
  },
  {
   "cell_type": "code",
   "execution_count": 2,
   "source": [
    "from bs4 import BeautifulSoup\n",
    "import requests\n",
    "import pymongo\n",
    "import re\n",
    "\n",
    "conn = pymongo.MongoClient()\n",
    "actor_db = conn.cine21\n",
    "actor_collection = actor_db.actor_collection\n",
    "\n",
    "actor_collection.find_one({})\n",
    "docs = actor_collection.find({}).limit(3)\n",
    "for doc in docs:\n",
    "    print (doc)\n",
    "actor = actor_collection"
   ],
   "outputs": [
    {
     "output_type": "stream",
     "name": "stdout",
     "text": [
      "{'_id': ObjectId('61122bbaff5c0ecb955459d4'), '배우이름': '하정우', '흥행지수': 23123, '출연영화': ['신과 함께-인과 연', '백두산', 'PMC: 더 벙커', '클로젯', '신과 함께-죄와 벌', '멋진 하루'], '랭킹': '1', '다른 이름': '김성훈; 河正宇', '직업': '배우', '생년월일': '1978-03-11', '성별': '남', '홈페이지': '\\nhttps://www.facebook.com/ft.hajungwoo\\n', '신장/체중': '184cm, 75kg', '학교': '중앙대학교 연극학 학사', '취미': '피아노, 검도, 수영'}\n",
      "{'_id': ObjectId('61122bbaff5c0ecb955459d5'), '배우이름': '마동석', '흥행지수': 20710, '출연영화': ['나쁜 녀석들: 더 무비', '신과 함께-인과 연', '성난황소', '동네사람들', '원더풀 고스트', '노리개: 그녀의 눈물'], '랭킹': '2', '다른 이름': 'Ma Dongseok', '직업': '배우', '생년월일': '1971-03-01', '성별': '남', '홈페이지': '\\nhttps://www.instagram.com/madongseok_/\\nhttps://twitter.com/madongseok12\\n', '신장/체중': '178cm, 100kg'}\n",
      "{'_id': ObjectId('61122bbaff5c0ecb955459d6'), '배우이름': '이병헌', '흥행지수': 17424, '출연영화': ['백두산', '남산의 부장들', '내부자들', '그것만이 내 세상', '광해, 왕이 된 남자', '번지점프를 하다'], '랭킹': '3', '다른 이름': 'Byung-hun Lee;BH Lee', '직업': '배우', '생년월일': '1970-07-12', '성별': '남', '홈페이지': '\\nhttp://www.leebyunghun.kr/\\n', '신장/체중': '177cm, 72kg', '학교': '한양대학교 불어문학과', '취미': '모자수집, 여행', '특기': '태권도, 스노우보드, 수영, 팔씨름'}\n"
     ]
    }
   ],
   "metadata": {}
  },
  {
   "cell_type": "markdown",
   "source": [
    "### 1.1. 컬럼명 변경 \n",
    "* 저장되 있는 mongodb 데이터의 컬럼명을 변경하는 방법\n",
    "* update_one()/update_many() 함수 활용"
   ],
   "metadata": {}
  },
  {
   "cell_type": "code",
   "execution_count": 3,
   "source": [
    "actor_collection.update_many ( {}, {'$rename': {'다른 이름':'다른이름'}} )"
   ],
   "outputs": [
    {
     "output_type": "execute_result",
     "data": {
      "text/plain": [
       "<pymongo.results.UpdateResult at 0x7f97485f2180>"
      ]
     },
     "metadata": {},
     "execution_count": 3
    }
   ],
   "metadata": {}
  },
  {
   "cell_type": "code",
   "execution_count": 4,
   "source": [
    "docs = actor_collection.find({}).limit(3)\n",
    "for doc in docs:\n",
    "    print (doc)"
   ],
   "outputs": [
    {
     "output_type": "stream",
     "name": "stdout",
     "text": [
      "{'_id': ObjectId('61122bbaff5c0ecb955459d4'), '배우이름': '하정우', '흥행지수': 23123, '출연영화': ['신과 함께-인과 연', '백두산', 'PMC: 더 벙커', '클로젯', '신과 함께-죄와 벌', '멋진 하루'], '랭킹': '1', '직업': '배우', '생년월일': '1978-03-11', '성별': '남', '홈페이지': '\\nhttps://www.facebook.com/ft.hajungwoo\\n', '신장/체중': '184cm, 75kg', '학교': '중앙대학교 연극학 학사', '취미': '피아노, 검도, 수영', '다른이름': '김성훈; 河正宇'}\n",
      "{'_id': ObjectId('61122bbaff5c0ecb955459d5'), '배우이름': '마동석', '흥행지수': 20710, '출연영화': ['나쁜 녀석들: 더 무비', '신과 함께-인과 연', '성난황소', '동네사람들', '원더풀 고스트', '노리개: 그녀의 눈물'], '랭킹': '2', '직업': '배우', '생년월일': '1971-03-01', '성별': '남', '홈페이지': '\\nhttps://www.instagram.com/madongseok_/\\nhttps://twitter.com/madongseok12\\n', '신장/체중': '178cm, 100kg', '다른이름': 'Ma Dongseok'}\n",
      "{'_id': ObjectId('61122bbaff5c0ecb955459d6'), '배우이름': '이병헌', '흥행지수': 17424, '출연영화': ['백두산', '남산의 부장들', '내부자들', '그것만이 내 세상', '광해, 왕이 된 남자', '번지점프를 하다'], '랭킹': '3', '직업': '배우', '생년월일': '1970-07-12', '성별': '남', '홈페이지': '\\nhttp://www.leebyunghun.kr/\\n', '신장/체중': '177cm, 72kg', '학교': '한양대학교 불어문학과', '취미': '모자수집, 여행', '특기': '태권도, 스노우보드, 수영, 팔씨름', '다른이름': 'Byung-hun Lee;BH Lee'}\n"
     ]
    }
   ],
   "metadata": {}
  },
  {
   "cell_type": "markdown",
   "source": [
    "#### 참고: collection 변수명 변경"
   ],
   "metadata": {}
  },
  {
   "cell_type": "code",
   "execution_count": 5,
   "source": [
    "actor = actor_collection"
   ],
   "outputs": [],
   "metadata": {}
  },
  {
   "cell_type": "markdown",
   "source": [
    "### 1.2 find의 다양한 문법 - sort"
   ],
   "metadata": {}
  },
  {
   "cell_type": "code",
   "execution_count": 6,
   "source": [
    "docs = actor_collection.find({}).sort('생년월일', pymongo.DESCENDING).limit(10)\n",
    "for doc in docs:\n",
    "    print (doc)"
   ],
   "outputs": [
    {
     "output_type": "stream",
     "name": "stdout",
     "text": [
      "{'_id': ObjectId('61122bbaff5c0ecb95545a44'), '배우이름': '정현준', '흥행지수': 2469, '출연영화': ['기생충', '이웃사촌'], '랭킹': '113', '직업': '배우', '생년월일': '2011-11-08', '성별': '남'}\n",
      "{'_id': ObjectId('61122bbaff5c0ecb95545a2d'), '배우이름': '이레', '흥행지수': 3123, '출연영화': ['증인', '반도', '너의 이름은.', '개를 훔치는 완벽한 방법', '소원'], '랭킹': '90', '직업': '배우', '생년월일': '2006-03-12', '성별': '여', '홈페이지': '\\nhttps://www.facebook.com/leere.vv/\\n'}\n",
      "{'_id': ObjectId('61122bbaff5c0ecb95545a20'), '배우이름': '이재인', '흥행지수': 3639, '출연영화': ['봉오동 전투', '사바하', '발신제한', '어른도감', '아워 바디', '아이 캔 스피크'], '랭킹': '77', '직업': '배우', '생년월일': '2004-02-06', '성별': '여'}\n",
      "{'_id': ObjectId('61122bbaff5c0ecb955459e2'), '배우이름': '김향기', '흥행지수': 9308, '출연영화': ['신과 함께-인과 연', '아이', '영주', '증인', '신과 함께-죄와 벌', '우아한 거짓말'], '랭킹': '15', '직업': '배우', '생년월일': '2000-08-09', '성별': '여', '홈페이지': '\\nhttps://twitter.com/smell2001\\n', '특기': '애교 부리기, 피아노 치기'}\n",
      "{'_id': ObjectId('61122bbaff5c0ecb95545a47'), '배우이름': '성유빈', '흥행지수': 2385, '출연영화': ['봉오동 전투', '윤희에게', '생일', '아이 캔 스피크'], '랭킹': '116', '직업': '배우', '생년월일': '2000-07-25', '성별': '남', '홈페이지': '\\nhttps://www.facebook.com/%EC%84%B1%EC%9C%A0%EB%B9%88-1650644645187320/?fref=ts\\n'}\n",
      "{'_id': ObjectId('61122bbaff5c0ecb95545a2b'), '배우이름': '정지소', '흥행지수': 3290, '출연영화': ['기생충', '방법: 재차의'], '랭킹': '88', '직업': '배우', '생년월일': '1999-09-17', '성별': '여', '다른이름': '현승민'}\n",
      "{'_id': ObjectId('61122bbaff5c0ecb95545a55'), '배우이름': '최성은', '흥행지수': 2123, '출연영화': ['시동'], '랭킹': '130', '직업': '배우', '생년월일': '1996-06-17', '성별': '여'}\n",
      "{'_id': ObjectId('61122bbaff5c0ecb95545a41'), '배우이름': '장성범', '흥행지수': 2487, '출연영화': ['너의 결혼식', '국가부도의 날', '썬키스 패밀리'], '랭킹': '110', '직업': '배우', '생년월일': '1995-07-18', '성별': '남'}\n",
      "{'_id': ObjectId('61122bbaff5c0ecb95545a01'), '배우이름': '배수지', '흥행지수': 4814, '출연영화': ['백두산', '건축학개론'], '랭킹': '46', '직업': '가수', '생년월일': '1994-10-10', '성별': '여', '홈페이지': '\\nhttps://twitter.com/missa_suzy\\nhttps://www.instagram.com/skuukzky/\\n', '신장/체중': '166cm, 47kg', '학교': '서울 공연예술고등학교', '소속사': 'JYP엔터테인먼트', '다른이름': '배수지;미쓰에이;'}\n",
      "{'_id': ObjectId('61122bbaff5c0ecb955459e9'), '배우이름': '공명', '흥행지수': 7817, '출연영화': ['극한직업', '기방도령', '도희야', '이것이 우리의 끝이다'], '랭킹': '22', '직업': '배우', '생년월일': '1994-05-26', '성별': '남', '홈페이지': '\\nhttps://instagram.com/gongmyoung0526/\\n', '다른이름': '서프라이즈; 김동현'}\n"
     ]
    }
   ],
   "metadata": {}
  },
  {
   "cell_type": "markdown",
   "source": [
    "### 1.3 find의 다양한 문법 - exists"
   ],
   "metadata": {}
  },
  {
   "cell_type": "code",
   "execution_count": 7,
   "source": [
    "docs = actor.find({'특기': {'$exists':True}}).sort('흥행지수').limit(5)\n",
    "for doc in docs:\n",
    "    print (doc)"
   ],
   "outputs": [
    {
     "output_type": "stream",
     "name": "stdout",
     "text": [
      "{'_id': ObjectId('61122bbaff5c0ecb95545a5e'), '배우이름': '류승범', '흥행지수': 1899, '출연영화': ['타짜: 원 아이드 잭', '죽거나 혹은 나쁘거나', '아치와 씨팍', '와이키키 브라더스', '복수는 나의 것', '부당거래'], '랭킹': '139', '직업': '배우', '생년월일': '1980-08-09', '성별': '남', '신장/체중': '178cm, 68kg', '학교': '대동상업고등학교 중퇴', '취미': '영화보기, 스노우보드', '특기': '디제잉', '소속사': '웰메이드스타엠'}\n",
      "{'_id': ObjectId('61122bbaff5c0ecb95545a5d'), '배우이름': '송하윤', '흥행지수': 1936, '출연영화': ['완벽한 타인', '제보자'], '랭킹': '138', '직업': '배우', '생년월일': '1986-12-02', '성별': '여', '홈페이지': '\\nhttps://www.instagram.com/hayoonsong1202/\\n', '신장/체중': '160cm, 40kg', '학교': '구정고등학교', '특기': '피아노', '다른이름': '김미선; 김별'}\n",
      "{'_id': ObjectId('61122bbaff5c0ecb95545a5c'), '배우이름': '엄정화', '흥행지수': 1959, '출연영화': ['오케이 마담', '해운대'], '랭킹': '137', '직업': '배우', '생년월일': '1969-08-17', '성별': '여', '홈페이지': '\\nhttps://www.instagram.com/umaizing/\\nhttps://twitter.com/love_tangle\\n', '신장/체중': '164cm, 47kg', '학교': '북원여자고등학교', '취미': '향수병 모으기, 영화보기, 책보기', '특기': '메모하기'}\n",
      "{'_id': ObjectId('61122bbaff5c0ecb95545a58'), '배우이름': '김혜수', '흥행지수': 2066, '출연영화': ['내가 죽던 날', '국가부도의 날', '타짜', '도둑들'], '랭킹': '133', '직업': '배우', '생년월일': '1970-09-05', '성별': '여', '신장/체중': '171cm, 49kg', '학교': '동국대 연극영화 - 성균관대언론정보대학원 석사', '취미': '영화 감상, 사진집 모으기, 태권도, 수영, 테니스, 볼링', '특기': '태권도'}\n",
      "{'_id': ObjectId('61122bbaff5c0ecb95545a51'), '배우이름': '현빈', '흥행지수': 2196, '출연영화': ['창궐', '협상', '만추', '공조'], '랭킹': '126', '원어명': '玄彬', '직업': '배우', '생년월일': '1982-09-25', '성별': '남', '홈페이지': '\\nhttp://www.hyun-bin.co.kr\\n', '신장/체중': '184cm, 74kg', '학교': '중앙대학교 연극영화 졸업, 중앙대학교 예술 대학원 공연영상학과 재학 중', '취미': '수영, 농구, 야구', '특기': '스노우보드, 사진', '소속사': '에이엠엔터테인먼트', '다른이름': '김태평'}\n"
     ]
    }
   ],
   "metadata": {}
  },
  {
   "cell_type": "markdown",
   "source": [
    "<div class=\"alert alert-block alert-warning\">\n",
    "<font color=\"blue\" size=\"4em\">실습</font><br>\n",
    "생년월일이 없는 doc의 actor_name 만 출력하기\n",
    "</div>"
   ],
   "metadata": {}
  },
  {
   "cell_type": "code",
   "execution_count": 8,
   "source": [
    "docs = actor.find({'생년월일': {'$exists':False}}, {'배우이름':1, '_id':0})\n",
    "for doc in docs:\n",
    "    print (doc)"
   ],
   "outputs": [
    {
     "output_type": "stream",
     "name": "stdout",
     "text": [
      "{'배우이름': '이정재'}\n",
      "{'배우이름': '염정아'}\n",
      "{'배우이름': '김의성'}\n",
      "{'배우이름': '배성우'}\n",
      "{'배우이름': '이봉련'}\n",
      "{'배우이름': '정만식'}\n",
      "{'배우이름': '김소진'}\n",
      "{'배우이름': '정우성'}\n",
      "{'배우이름': '김성규'}\n",
      "{'배우이름': '김병순'}\n",
      "{'배우이름': '고아성'}\n",
      "{'배우이름': '이솜'}\n"
     ]
    }
   ],
   "metadata": {}
  },
  {
   "cell_type": "markdown",
   "source": [
    "### 1.4 find의 다양한 문법 - 필드값 범위로 검색"
   ],
   "metadata": {}
  },
  {
   "cell_type": "code",
   "execution_count": 9,
   "source": [
    "docs = actor.find({'흥행지수': {'$gte': 10000}, '출연영화':'극한직업'}, {'배우이름':1, '출연영화':1, '_id':0}).sort('배우이름').limit(3)\n",
    "for doc in docs:\n",
    "    print(doc)"
   ],
   "outputs": [
    {
     "output_type": "stream",
     "name": "stdout",
     "text": [
      "{'배우이름': '류승룡', '출연영화': ['극한직업', '명량', '광해, 왕이 된 남자', '표적', '7번방의 선물', '열혈남아']}\n",
      "{'배우이름': '이하늬', '출연영화': ['극한직업', '블랙머니', '연가시', '달빛궁궐', '조작된 도시']}\n",
      "{'배우이름': '진선규', '출연영화': ['극한직업', '사바하', '롱 리브 더 킹: 목포 영웅', '돈', '동네사람들', '퍼펙트맨']}\n"
     ]
    }
   ],
   "metadata": {}
  },
  {
   "cell_type": "markdown",
   "source": [
    "### find의 다양한 문법 - or"
   ],
   "metadata": {}
  },
  {
   "cell_type": "code",
   "execution_count": 10,
   "source": [
    "docs = actor.find({'$or': [{'출연영화':'극한직업'}, {'출연영화':'더 킹'}] }, {'배우이름':1, '출연영화':1, '_id':0})\n",
    "for doc in docs:\n",
    "    print(doc)"
   ],
   "outputs": [
    {
     "output_type": "stream",
     "name": "stdout",
     "text": [
      "{'배우이름': '진선규', '출연영화': ['극한직업', '사바하', '롱 리브 더 킹: 목포 영웅', '돈', '동네사람들', '퍼펙트맨']}\n",
      "{'배우이름': '이하늬', '출연영화': ['극한직업', '블랙머니', '연가시', '달빛궁궐', '조작된 도시']}\n",
      "{'배우이름': '류승룡', '출연영화': ['극한직업', '명량', '광해, 왕이 된 남자', '표적', '7번방의 선물', '열혈남아']}\n",
      "{'배우이름': '신하균', '출연영화': ['극한직업', '나의 특별한 형제', '박쥐', '복수는 나의 것', '미스터 주: 사라진 VIP', '지구를 지켜라!']}\n",
      "{'배우이름': '이동휘', '출연영화': ['극한직업', '어린 의뢰인', '국도극장', '럭키', '새해전야', '베테랑']}\n",
      "{'배우이름': '공명', '출연영화': ['극한직업', '기방도령', '도희야', '이것이 우리의 끝이다']}\n",
      "{'배우이름': '오정세', '출연영화': ['극한직업', '스윙키즈', '그대 이름은 장미', '나는 나를 해고하지 않는다', '부당거래', '사이비']}\n",
      "{'배우이름': '김종수', '출연영화': ['돈', '시동', '극한직업', '증인', '협상', '삼진그룹 영어토익반']}\n",
      "{'배우이름': '김의성', '출연영화': ['극한직업', '창궐', '어쩌다, 결혼', '돌멩이', '더 킹', '내부자들']}\n",
      "{'배우이름': '김아중', '출연영화': ['나쁜 녀석들: 더 무비', '더 킹']}\n",
      "{'배우이름': '배성우', '출연영화': ['변신', '안시성', '내부자들', '지푸라기라도 잡고 싶은 짐승들', '더 킹', '특종: 량첸살인기']}\n",
      "{'배우이름': '송영규', '출연영화': ['극한직업', '야구소녀']}\n",
      "{'배우이름': '조인성', '출연영화': ['안시성', '모가디슈', '클래식', '더 킹']}\n",
      "{'배우이름': '류준열', '출연영화': ['봉오동 전투', '독전', '뺑반', '더 킹', '택시운전사', '리틀 포레스트']}\n",
      "{'배우이름': '김민재', '출연영화': ['돈', '성난황소', '악질경찰', '반도', '무뢰한', '더 킹']}\n",
      "{'배우이름': '양현민', '출연영화': ['극한직업', '힘내세요, 병헌씨']}\n",
      "{'배우이름': '허준석', '출연영화': ['극한직업', '침입자', '홈', '애정만세', '힘내세요, 병헌씨']}\n"
     ]
    }
   ],
   "metadata": {}
  },
  {
   "cell_type": "code",
   "execution_count": 11,
   "source": [
    "docs = actor.find({ '흥행지수': {'$gte': 10000}, '$or': [{'출연영화':'극한직업'}, {'출연영화':'더 킹'}] }, {'배우이름':1, '출연영화':1, '_id':0})\n",
    "for doc in docs:\n",
    "    print(doc)"
   ],
   "outputs": [
    {
     "output_type": "stream",
     "name": "stdout",
     "text": [
      "{'배우이름': '진선규', '출연영화': ['극한직업', '사바하', '롱 리브 더 킹: 목포 영웅', '돈', '동네사람들', '퍼펙트맨']}\n",
      "{'배우이름': '이하늬', '출연영화': ['극한직업', '블랙머니', '연가시', '달빛궁궐', '조작된 도시']}\n",
      "{'배우이름': '류승룡', '출연영화': ['극한직업', '명량', '광해, 왕이 된 남자', '표적', '7번방의 선물', '열혈남아']}\n"
     ]
    }
   ],
   "metadata": {}
  },
  {
   "cell_type": "markdown",
   "source": [
    "### find의 다양한 문법 - nor\n",
    "* not or"
   ],
   "metadata": {}
  },
  {
   "cell_type": "code",
   "execution_count": 12,
   "source": [
    "docs = actor.find({'$nor': [{'흥행지수': { '$gte': 10000}}, {'흥행지수': { '$lte': 2000}}]}, {'배우이름':1, '흥행지수':1, '_id':0}).limit(3)\n",
    "for doc in docs:\n",
    "    print (doc)"
   ],
   "outputs": [
    {
     "output_type": "stream",
     "name": "stdout",
     "text": [
      "{'배우이름': '김향기', '흥행지수': 9308}\n",
      "{'배우이름': '신하균', '흥행지수': 9066}\n",
      "{'배우이름': '이동휘', '흥행지수': 8849}\n"
     ]
    }
   ],
   "metadata": {}
  },
  {
   "cell_type": "markdown",
   "source": [
    "### find의 다양한 문법 - in, nin\n",
    "* in: 들어가 있다.\n",
    "* nin: not in - 들어가 있지 않다."
   ],
   "metadata": {}
  },
  {
   "cell_type": "code",
   "execution_count": 13,
   "source": [
    "docs = actor.find({'흥행지수': { '$in': [9182, 8439]}}, {'배우이름':1, '흥행지수':1, '_id':0})\n",
    "for doc in docs:\n",
    "    print (doc)"
   ],
   "outputs": [],
   "metadata": {}
  },
  {
   "cell_type": "code",
   "execution_count": 14,
   "source": [
    "docs = actor.find({'흥행지수': { '$nin': [9182, 8439]}}, {'배우이름':1, '흥행지수':1, '_id':0}).limit(3)\n",
    "for doc in docs:\n",
    "    print (doc)"
   ],
   "outputs": [
    {
     "output_type": "stream",
     "name": "stdout",
     "text": [
      "{'배우이름': '하정우', '흥행지수': 23123}\n",
      "{'배우이름': '마동석', '흥행지수': 20710}\n",
      "{'배우이름': '이병헌', '흥행지수': 17424}\n"
     ]
    }
   ],
   "metadata": {}
  },
  {
   "cell_type": "markdown",
   "source": [
    "<div class=\"alert alert-block alert-warning\">\n",
    "<font color=\"blue\" size=\"4em\">실습</font><br>\n",
    "흥행지수 가 9182, 8439가 아니고, 10000 이하인 데이터를 3개만 검색하세요. (nor, in, gt 활용, 배우이름과 흥행지수만 출력)\n",
    "</div>"
   ],
   "metadata": {}
  },
  {
   "cell_type": "code",
   "execution_count": 15,
   "source": [
    "docs = actor.find({'$nor': [{'흥행지수': { '$in': [9182, 8439]}}, {'흥행지수': { '$gt': 10000}}]}, {'배우이름':1, '흥행지수':1, '_id':0}).limit(3)\n",
    "for doc in docs:\n",
    "    print (doc)"
   ],
   "outputs": [
    {
     "output_type": "stream",
     "name": "stdout",
     "text": [
      "{'배우이름': '김향기', '흥행지수': 9308}\n",
      "{'배우이름': '신하균', '흥행지수': 9066}\n",
      "{'배우이름': '이동휘', '흥행지수': 8849}\n"
     ]
    }
   ],
   "metadata": {}
  },
  {
   "cell_type": "markdown",
   "source": [
    "### find의 다양한 문법 - skip, limit\n",
    "* skip(n): 검색 결과 n개만큼 건너뜀\n",
    "* limit(n): 검색 결과 n개만 표시"
   ],
   "metadata": {}
  },
  {
   "cell_type": "code",
   "execution_count": 16,
   "source": [
    "docs = actor.find({'흥행지수': {'$gte': 10000}}).limit(3)\n",
    "for doc in docs:\n",
    "    print (doc)"
   ],
   "outputs": [
    {
     "output_type": "stream",
     "name": "stdout",
     "text": [
      "{'_id': ObjectId('61122bbaff5c0ecb955459d4'), '배우이름': '하정우', '흥행지수': 23123, '출연영화': ['신과 함께-인과 연', '백두산', 'PMC: 더 벙커', '클로젯', '신과 함께-죄와 벌', '멋진 하루'], '랭킹': '1', '직업': '배우', '생년월일': '1978-03-11', '성별': '남', '홈페이지': '\\nhttps://www.facebook.com/ft.hajungwoo\\n', '신장/체중': '184cm, 75kg', '학교': '중앙대학교 연극학 학사', '취미': '피아노, 검도, 수영', '다른이름': '김성훈; 河正宇'}\n",
      "{'_id': ObjectId('61122bbaff5c0ecb955459d5'), '배우이름': '마동석', '흥행지수': 20710, '출연영화': ['나쁜 녀석들: 더 무비', '신과 함께-인과 연', '성난황소', '동네사람들', '원더풀 고스트', '노리개: 그녀의 눈물'], '랭킹': '2', '직업': '배우', '생년월일': '1971-03-01', '성별': '남', '홈페이지': '\\nhttps://www.instagram.com/madongseok_/\\nhttps://twitter.com/madongseok12\\n', '신장/체중': '178cm, 100kg', '다른이름': 'Ma Dongseok'}\n",
      "{'_id': ObjectId('61122bbaff5c0ecb955459d6'), '배우이름': '이병헌', '흥행지수': 17424, '출연영화': ['백두산', '남산의 부장들', '내부자들', '그것만이 내 세상', '광해, 왕이 된 남자', '번지점프를 하다'], '랭킹': '3', '직업': '배우', '생년월일': '1970-07-12', '성별': '남', '홈페이지': '\\nhttp://www.leebyunghun.kr/\\n', '신장/체중': '177cm, 72kg', '학교': '한양대학교 불어문학과', '취미': '모자수집, 여행', '특기': '태권도, 스노우보드, 수영, 팔씨름', '다른이름': 'Byung-hun Lee;BH Lee'}\n"
     ]
    }
   ],
   "metadata": {}
  },
  {
   "cell_type": "code",
   "execution_count": 17,
   "source": [
    "docs = actor.find({'흥행지수': {'$gte': 10000}}).skip(3)\n",
    "for doc in docs:\n",
    "    print (doc)"
   ],
   "outputs": [
    {
     "output_type": "stream",
     "name": "stdout",
     "text": [
      "{'_id': ObjectId('61122bbaff5c0ecb955459d7'), '배우이름': '주지훈', '흥행지수': 15752, '출연영화': ['신과 함께-인과 연', '공작', '암수살인', '신과 함께-죄와 벌', '아수라', '좋은 친구들'], '랭킹': '4', '원어명': '주지훈', '직업': '배우', '생년월일': '1982-05-16', '성별': '남', '홈페이지': '\\nhttps://www.instagram.com/_jujihoon/\\n', '신장/체중': '187cm, 68kg', '학교': '경기대학교 연기', '취미': '컴퓨터 게임', '특기': '속독, 노래, 춤, 합기도, 피아노', '다른이름': '주영훈'}\n",
      "{'_id': ObjectId('61122bbaff5c0ecb955459d8'), '배우이름': '이성민', '흥행지수': 15560, '출연영화': ['남산의 부장들', '목격자', '공작', '비스트', '마약왕', '뺑반'], '랭킹': '5', '직업': '배우', '생년월일': '1968-10-15', '성별': '남', '신장/체중': '178cm'}\n",
      "{'_id': ObjectId('61122bbaff5c0ecb955459d9'), '배우이름': '진선규', '흥행지수': 15508, '출연영화': ['극한직업', '사바하', '롱 리브 더 킹: 목포 영웅', '돈', '동네사람들', '퍼펙트맨'], '랭킹': '6', '직업': '배우', '생년월일': '1977-09-13', '성별': '남'}\n",
      "{'_id': ObjectId('61122bbaff5c0ecb955459da'), '배우이름': '황정민', '흥행지수': 14947, '출연영화': ['공작', '인질', '다만 악에서 구하소서', '신세계', '와이키키 브라더스', '부당거래'], '랭킹': '7', '직업': '배우', '생년월일': '1970-09-01', '성별': '남', '신장/체중': '180cm, 75kg', '학교': '서울예술대학 연극과 졸업', '특기': '농구, 악기연주', '소속사': '예당엔터테인먼트'}\n",
      "{'_id': ObjectId('61122bbaff5c0ecb955459db'), '배우이름': '조진웅', '흥행지수': 13115, '출연영화': ['공작', '광대들: 풍문조작단', '퍼펙트맨', '완벽한 타인', '블랙머니', '독전'], '랭킹': '8', '직업': '배우', '생년월일': '1976-03-03', '성별': '남', '홈페이지': '\\nhttp://www.facebook.com/saram.chojinwoong\\n', '신장/체중': '185cm, 98kg', '학교': '경성대학교 연극영화', '특기': '진도 북춤', '소속사': '㈜사람엔터테인먼트', '다른이름': '조원준'}\n",
      "{'_id': ObjectId('61122bbaff5c0ecb955459dc'), '배우이름': '이하늬', '흥행지수': 12910, '출연영화': ['극한직업', '블랙머니', '연가시', '달빛궁궐', '조작된 도시'], '랭킹': '9', '직업': '배우', '생년월일': '1983-03-02', '성별': '여', '홈페이지': '\\nhttps://www.facebook.com/saram.leehoney\\nhttps://instagram.com/honey_lee32/\\n'}\n",
      "{'_id': ObjectId('61122bbaff5c0ecb955459dd'), '배우이름': '조우진', '흥행지수': 12861, '출연영화': ['봉오동 전투', '돈', '창궐', '발신제한', '마약왕', '국가부도의 날'], '랭킹': '10', '직업': '배우', '생년월일': '1979-01-16', '성별': '남', '다른이름': '조신제'}\n",
      "{'_id': ObjectId('61122bbaff5c0ecb955459de'), '배우이름': '류승룡', '흥행지수': 11383, '출연영화': ['극한직업', '명량', '광해, 왕이 된 남자', '표적', '7번방의 선물', '열혈남아'], '랭킹': '11', '직업': '배우', '생년월일': '1970-11-29', '성별': '남', '신장/체중': '175cm, 72kg', '학교': '서울예술대학 연극', '소속사': '필름있수다', '다른이름': '류승용; 유승룡'}\n",
      "{'_id': ObjectId('61122bbaff5c0ecb955459df'), '배우이름': '유해진', '흥행지수': 11107, '출연영화': ['봉오동 전투', '완벽한 타인', '말모이', '부당거래', '타짜', '베테랑'], '랭킹': '12', '직업': '배우', '생년월일': '1969-01-04', '성별': '남', '신장/체중': '174cm, 65kg', '학교': '서울예술대학 연극과', '소속사': '심엔터테인먼트'}\n",
      "{'_id': ObjectId('61122bbaff5c0ecb955459e0'), '배우이름': '박정민', '흥행지수': 10530, '출연영화': ['시동', '사바하', '다만 악에서 구하소서', '타짜: 원 아이드 잭', '사냥의 시간', '변산'], '랭킹': '13', '직업': '배우', '생년월일': '1987-02-25', '성별': '남', '신장/체중': '178cm, 63kg', '학교': '한국예술종합학교 영상원 연극원 연기과'}\n",
      "{'_id': ObjectId('61122bbaff5c0ecb955459e1'), '배우이름': '송강호', '흥행지수': 10086, '출연영화': ['마약왕', '기생충', '나랏말싸미', '박쥐', '복수는 나의 것', '설국열차'], '랭킹': '14', '직업': '배우', '생년월일': '1967-01-17', '성별': '남', '신장/체중': '180cm, 80kg', '학교': '부산경상대학 방송연예', '소속사': '호두엔터테인먼트'}\n"
     ]
    }
   ],
   "metadata": {}
  },
  {
   "cell_type": "code",
   "execution_count": 18,
   "source": [
    "docs = actor.find({'흥행지수': {'$gte': 10000}}).skip(3).limit(3)\n",
    "for doc in docs:\n",
    "    print (doc)"
   ],
   "outputs": [
    {
     "output_type": "stream",
     "name": "stdout",
     "text": [
      "{'_id': ObjectId('61122bbaff5c0ecb955459d7'), '배우이름': '주지훈', '흥행지수': 15752, '출연영화': ['신과 함께-인과 연', '공작', '암수살인', '신과 함께-죄와 벌', '아수라', '좋은 친구들'], '랭킹': '4', '원어명': '주지훈', '직업': '배우', '생년월일': '1982-05-16', '성별': '남', '홈페이지': '\\nhttps://www.instagram.com/_jujihoon/\\n', '신장/체중': '187cm, 68kg', '학교': '경기대학교 연기', '취미': '컴퓨터 게임', '특기': '속독, 노래, 춤, 합기도, 피아노', '다른이름': '주영훈'}\n",
      "{'_id': ObjectId('61122bbaff5c0ecb955459d8'), '배우이름': '이성민', '흥행지수': 15560, '출연영화': ['남산의 부장들', '목격자', '공작', '비스트', '마약왕', '뺑반'], '랭킹': '5', '직업': '배우', '생년월일': '1968-10-15', '성별': '남', '신장/체중': '178cm'}\n",
      "{'_id': ObjectId('61122bbaff5c0ecb955459d9'), '배우이름': '진선규', '흥행지수': 15508, '출연영화': ['극한직업', '사바하', '롱 리브 더 킹: 목포 영웅', '돈', '동네사람들', '퍼펙트맨'], '랭킹': '6', '직업': '배우', '생년월일': '1977-09-13', '성별': '남'}\n"
     ]
    }
   ],
   "metadata": {}
  },
  {
   "cell_type": "markdown",
   "source": [
    "### find의 다양한 문법 - list 검색"
   ],
   "metadata": {}
  },
  {
   "cell_type": "code",
   "execution_count": 19,
   "source": [
    "docs = actor.find({'출연영화': '극한직업'})\n",
    "for doc in docs:\n",
    "    print (doc)"
   ],
   "outputs": [
    {
     "output_type": "stream",
     "name": "stdout",
     "text": [
      "{'_id': ObjectId('61122bbaff5c0ecb955459d9'), '배우이름': '진선규', '흥행지수': 15508, '출연영화': ['극한직업', '사바하', '롱 리브 더 킹: 목포 영웅', '돈', '동네사람들', '퍼펙트맨'], '랭킹': '6', '직업': '배우', '생년월일': '1977-09-13', '성별': '남'}\n",
      "{'_id': ObjectId('61122bbaff5c0ecb955459dc'), '배우이름': '이하늬', '흥행지수': 12910, '출연영화': ['극한직업', '블랙머니', '연가시', '달빛궁궐', '조작된 도시'], '랭킹': '9', '직업': '배우', '생년월일': '1983-03-02', '성별': '여', '홈페이지': '\\nhttps://www.facebook.com/saram.leehoney\\nhttps://instagram.com/honey_lee32/\\n'}\n",
      "{'_id': ObjectId('61122bbaff5c0ecb955459de'), '배우이름': '류승룡', '흥행지수': 11383, '출연영화': ['극한직업', '명량', '광해, 왕이 된 남자', '표적', '7번방의 선물', '열혈남아'], '랭킹': '11', '직업': '배우', '생년월일': '1970-11-29', '성별': '남', '신장/체중': '175cm, 72kg', '학교': '서울예술대학 연극', '소속사': '필름있수다', '다른이름': '류승용; 유승룡'}\n",
      "{'_id': ObjectId('61122bbaff5c0ecb955459e3'), '배우이름': '신하균', '흥행지수': 9066, '출연영화': ['극한직업', '나의 특별한 형제', '박쥐', '복수는 나의 것', '미스터 주: 사라진 VIP', '지구를 지켜라!'], '랭킹': '16', '직업': '배우', '생년월일': '1974-05-30', '성별': '남', '신장/체중': '175cm, 67kg', '학교': '서울예술대학 방송연예학'}\n",
      "{'_id': ObjectId('61122bbaff5c0ecb955459e4'), '배우이름': '이동휘', '흥행지수': 8849, '출연영화': ['극한직업', '어린 의뢰인', '국도극장', '럭키', '새해전야', '베테랑'], '랭킹': '17', '직업': '배우', '생년월일': '1985-07-22', '성별': '남', '홈페이지': '\\nhttps://www.instagram.com/dlehdgnl/\\n'}\n",
      "{'_id': ObjectId('61122bbaff5c0ecb955459e9'), '배우이름': '공명', '흥행지수': 7817, '출연영화': ['극한직업', '기방도령', '도희야', '이것이 우리의 끝이다'], '랭킹': '22', '직업': '배우', '생년월일': '1994-05-26', '성별': '남', '홈페이지': '\\nhttps://instagram.com/gongmyoung0526/\\n', '다른이름': '서프라이즈; 김동현'}\n",
      "{'_id': ObjectId('61122bbaff5c0ecb955459f0'), '배우이름': '오정세', '흥행지수': 6822, '출연영화': ['극한직업', '스윙키즈', '그대 이름은 장미', '나는 나를 해고하지 않는다', '부당거래', '사이비'], '랭킹': '29', '직업': '배우', '생년월일': '1977-02-26', '성별': '남', '소속사': '스타파크엔터테인먼트'}\n",
      "{'_id': ObjectId('61122bbaff5c0ecb955459f7'), '배우이름': '김종수', '흥행지수': 5839, '출연영화': ['돈', '시동', '극한직업', '증인', '협상', '삼진그룹 영어토익반'], '랭킹': '36', '직업': '배우', '생년월일': '1964-11-30', '성별': '남', '홈페이지': '\\nhttp://www.artistcompany.co.kr/portfolio-item/kim-jong-soo/\\n', '소속사': '아티스트컴퍼니'}\n",
      "{'_id': ObjectId('61122bbaff5c0ecb955459f8'), '배우이름': '김의성', '흥행지수': 5813, '출연영화': ['극한직업', '창궐', '어쩌다, 결혼', '돌멩이', '더 킹', '내부자들'], '랭킹': '37', '직업': '배우', '성별': '남', '홈페이지': '\\nhttp://www.artistcompany.co.kr/portfolio-item/kim-eui-sung/\\n', '소속사': '아티스트컴퍼니'}\n",
      "{'_id': ObjectId('61122bbaff5c0ecb95545a11'), '배우이름': '송영규', '흥행지수': 4003, '출연영화': ['극한직업', '야구소녀'], '랭킹': '62', '직업': '배우', '생년월일': '1970-04-18', '성별': '남'}\n",
      "{'_id': ObjectId('61122bbaff5c0ecb95545a2f'), '배우이름': '양현민', '흥행지수': 3053, '출연영화': ['극한직업', '힘내세요, 병헌씨'], '랭킹': '92', '직업': '배우', '생년월일': '1981-11-16', '성별': '남', '신장/체중': '177cm, 70kg'}\n",
      "{'_id': ObjectId('61122bbaff5c0ecb95545a54'), '배우이름': '허준석', '흥행지수': 2128, '출연영화': ['극한직업', '침입자', '홈', '애정만세', '힘내세요, 병헌씨'], '랭킹': '129', '직업': '배우', '생년월일': '1982-06-11', '성별': '남', '홈페이지': '\\nhttp://instagram.com/joonseok82\\n'}\n"
     ]
    }
   ],
   "metadata": {}
  },
  {
   "cell_type": "code",
   "execution_count": 20,
   "source": [
    "docs = actor.find({'$or': [{'출연영화': '극한직업'}, {'출연영화': '사바하'}]})\n",
    "for doc in docs:\n",
    "    print (doc)"
   ],
   "outputs": [
    {
     "output_type": "stream",
     "name": "stdout",
     "text": [
      "{'_id': ObjectId('61122bbaff5c0ecb955459d9'), '배우이름': '진선규', '흥행지수': 15508, '출연영화': ['극한직업', '사바하', '롱 리브 더 킹: 목포 영웅', '돈', '동네사람들', '퍼펙트맨'], '랭킹': '6', '직업': '배우', '생년월일': '1977-09-13', '성별': '남'}\n",
      "{'_id': ObjectId('61122bbaff5c0ecb955459dc'), '배우이름': '이하늬', '흥행지수': 12910, '출연영화': ['극한직업', '블랙머니', '연가시', '달빛궁궐', '조작된 도시'], '랭킹': '9', '직업': '배우', '생년월일': '1983-03-02', '성별': '여', '홈페이지': '\\nhttps://www.facebook.com/saram.leehoney\\nhttps://instagram.com/honey_lee32/\\n'}\n",
      "{'_id': ObjectId('61122bbaff5c0ecb955459de'), '배우이름': '류승룡', '흥행지수': 11383, '출연영화': ['극한직업', '명량', '광해, 왕이 된 남자', '표적', '7번방의 선물', '열혈남아'], '랭킹': '11', '직업': '배우', '생년월일': '1970-11-29', '성별': '남', '신장/체중': '175cm, 72kg', '학교': '서울예술대학 연극', '소속사': '필름있수다', '다른이름': '류승용; 유승룡'}\n",
      "{'_id': ObjectId('61122bbaff5c0ecb955459e0'), '배우이름': '박정민', '흥행지수': 10530, '출연영화': ['시동', '사바하', '다만 악에서 구하소서', '타짜: 원 아이드 잭', '사냥의 시간', '변산'], '랭킹': '13', '직업': '배우', '생년월일': '1987-02-25', '성별': '남', '신장/체중': '178cm, 63kg', '학교': '한국예술종합학교 영상원 연극원 연기과'}\n",
      "{'_id': ObjectId('61122bbaff5c0ecb955459e3'), '배우이름': '신하균', '흥행지수': 9066, '출연영화': ['극한직업', '나의 특별한 형제', '박쥐', '복수는 나의 것', '미스터 주: 사라진 VIP', '지구를 지켜라!'], '랭킹': '16', '직업': '배우', '생년월일': '1974-05-30', '성별': '남', '신장/체중': '175cm, 67kg', '학교': '서울예술대학 방송연예학'}\n",
      "{'_id': ObjectId('61122bbaff5c0ecb955459e4'), '배우이름': '이동휘', '흥행지수': 8849, '출연영화': ['극한직업', '어린 의뢰인', '국도극장', '럭키', '새해전야', '베테랑'], '랭킹': '17', '직업': '배우', '생년월일': '1985-07-22', '성별': '남', '홈페이지': '\\nhttps://www.instagram.com/dlehdgnl/\\n'}\n",
      "{'_id': ObjectId('61122bbaff5c0ecb955459e5'), '배우이름': '이정재', '흥행지수': 8614, '출연영화': ['사바하', '다만 악에서 구하소서', '신세계', '태양은 없다', '인천상륙작전', '시월애'], '랭킹': '18', '직업': '배우', '성별': '남', '홈페이지': '\\nhttp://www.artistcompany.co.kr/portfolio-item/lee-jung-jae/\\n', '소속사': '아티스트컴퍼니'}\n",
      "{'_id': ObjectId('61122bbaff5c0ecb955459e9'), '배우이름': '공명', '흥행지수': 7817, '출연영화': ['극한직업', '기방도령', '도희야', '이것이 우리의 끝이다'], '랭킹': '22', '직업': '배우', '생년월일': '1994-05-26', '성별': '남', '홈페이지': '\\nhttps://instagram.com/gongmyoung0526/\\n', '다른이름': '서프라이즈; 김동현'}\n",
      "{'_id': ObjectId('61122bbaff5c0ecb955459f0'), '배우이름': '오정세', '흥행지수': 6822, '출연영화': ['극한직업', '스윙키즈', '그대 이름은 장미', '나는 나를 해고하지 않는다', '부당거래', '사이비'], '랭킹': '29', '직업': '배우', '생년월일': '1977-02-26', '성별': '남', '소속사': '스타파크엔터테인먼트'}\n",
      "{'_id': ObjectId('61122bbaff5c0ecb955459f7'), '배우이름': '김종수', '흥행지수': 5839, '출연영화': ['돈', '시동', '극한직업', '증인', '협상', '삼진그룹 영어토익반'], '랭킹': '36', '직업': '배우', '생년월일': '1964-11-30', '성별': '남', '홈페이지': '\\nhttp://www.artistcompany.co.kr/portfolio-item/kim-jong-soo/\\n', '소속사': '아티스트컴퍼니'}\n",
      "{'_id': ObjectId('61122bbaff5c0ecb955459f8'), '배우이름': '김의성', '흥행지수': 5813, '출연영화': ['극한직업', '창궐', '어쩌다, 결혼', '돌멩이', '더 킹', '내부자들'], '랭킹': '37', '직업': '배우', '성별': '남', '홈페이지': '\\nhttp://www.artistcompany.co.kr/portfolio-item/kim-eui-sung/\\n', '소속사': '아티스트컴퍼니'}\n",
      "{'_id': ObjectId('61122bbaff5c0ecb95545a11'), '배우이름': '송영규', '흥행지수': 4003, '출연영화': ['극한직업', '야구소녀'], '랭킹': '62', '직업': '배우', '생년월일': '1970-04-18', '성별': '남'}\n",
      "{'_id': ObjectId('61122bbaff5c0ecb95545a20'), '배우이름': '이재인', '흥행지수': 3639, '출연영화': ['봉오동 전투', '사바하', '발신제한', '어른도감', '아워 바디', '아이 캔 스피크'], '랭킹': '77', '직업': '배우', '생년월일': '2004-02-06', '성별': '여'}\n",
      "{'_id': ObjectId('61122bbaff5c0ecb95545a2f'), '배우이름': '양현민', '흥행지수': 3053, '출연영화': ['극한직업', '힘내세요, 병헌씨'], '랭킹': '92', '직업': '배우', '생년월일': '1981-11-16', '성별': '남', '신장/체중': '177cm, 70kg'}\n",
      "{'_id': ObjectId('61122bbaff5c0ecb95545a35'), '배우이름': '유지태', '흥행지수': 2867, '출연영화': ['돈', '사바하', '살인마 잭의 집', '봄날은 간다', '동감', '올드보이'], '랭킹': '98', '직업': '배우', '생년월일': '1976-04-13', '성별': '남', '신장/체중': '186cm, 74kg', '학교': '단국대 연극영화과 - 중앙대첨단영상대학원 영상예술학', '취미': '사진촬영, 음악감상', '소속사': '지티비엔터테인먼트', '다른이름': '劉智泰'}\n",
      "{'_id': ObjectId('61122bbaff5c0ecb95545a54'), '배우이름': '허준석', '흥행지수': 2128, '출연영화': ['극한직업', '침입자', '홈', '애정만세', '힘내세요, 병헌씨'], '랭킹': '129', '직업': '배우', '생년월일': '1982-06-11', '성별': '남', '홈페이지': '\\nhttp://instagram.com/joonseok82\\n'}\n"
     ]
    }
   ],
   "metadata": {}
  },
  {
   "cell_type": "markdown",
   "source": [
    "### find의 다양한 문법 - list 검색 (all)"
   ],
   "metadata": {}
  },
  {
   "cell_type": "code",
   "execution_count": 21,
   "source": [
    "docs = actor.find({'출연영화': { '$all': ['변산', '사바하']}})\n",
    "for doc in docs:\n",
    "    print (doc)"
   ],
   "outputs": [
    {
     "output_type": "stream",
     "name": "stdout",
     "text": [
      "{'_id': ObjectId('61122bbaff5c0ecb955459e0'), '배우이름': '박정민', '흥행지수': 10530, '출연영화': ['시동', '사바하', '다만 악에서 구하소서', '타짜: 원 아이드 잭', '사냥의 시간', '변산'], '랭킹': '13', '직업': '배우', '생년월일': '1987-02-25', '성별': '남', '신장/체중': '178cm, 63kg', '학교': '한국예술종합학교 영상원 연극원 연기과'}\n"
     ]
    }
   ],
   "metadata": {}
  },
  {
   "cell_type": "markdown",
   "source": [
    "### find의 다양한 문법 - list 검색 (리스트 index 번호로 검색하기)"
   ],
   "metadata": {}
  },
  {
   "cell_type": "code",
   "execution_count": 22,
   "source": [
    "docs = actor.find({'출연영화.0': '사바하'})\n",
    "for doc in docs:\n",
    "    print (doc)"
   ],
   "outputs": [
    {
     "output_type": "stream",
     "name": "stdout",
     "text": [
      "{'_id': ObjectId('61122bbaff5c0ecb955459e5'), '배우이름': '이정재', '흥행지수': 8614, '출연영화': ['사바하', '다만 악에서 구하소서', '신세계', '태양은 없다', '인천상륙작전', '시월애'], '랭킹': '18', '직업': '배우', '성별': '남', '홈페이지': '\\nhttp://www.artistcompany.co.kr/portfolio-item/lee-jung-jae/\\n', '소속사': '아티스트컴퍼니'}\n"
     ]
    }
   ],
   "metadata": {}
  },
  {
   "cell_type": "markdown",
   "source": [
    "### find의 다양한 문법 - list 검색 (리스트 사이즈로 검색하기)"
   ],
   "metadata": {}
  },
  {
   "cell_type": "code",
   "execution_count": 23,
   "source": [
    "docs = actor.find({'출연영화': {'$size': 5}})\n",
    "for doc in docs:\n",
    "    print(doc)"
   ],
   "outputs": [
    {
     "output_type": "stream",
     "name": "stdout",
     "text": [
      "{'_id': ObjectId('61122bbaff5c0ecb955459dc'), '배우이름': '이하늬', '흥행지수': 12910, '출연영화': ['극한직업', '블랙머니', '연가시', '달빛궁궐', '조작된 도시'], '랭킹': '9', '직업': '배우', '생년월일': '1983-03-02', '성별': '여', '홈페이지': '\\nhttps://www.facebook.com/saram.leehoney\\nhttps://instagram.com/honey_lee32/\\n'}\n",
      "{'_id': ObjectId('61122bbaff5c0ecb955459ec'), '배우이름': '강기영', '흥행지수': 7525, '출연영화': ['엑시트', '너의 결혼식', '가장 보통의 연애', '자산어보', '퍼즐'], '랭킹': '25', '직업': '배우', '생년월일': '1983-10-14', '성별': '남', '홈페이지': '\\nhttps://instagram.com/kiyoung.kang.5/\\n'}\n",
      "{'_id': ObjectId('61122bbaff5c0ecb955459f1'), '배우이름': '최우식', '흥행지수': 6794, '출연영화': ['기생충', '물괴', '그대 이름은 장미', '마녀', '부산행'], '랭킹': '30', '직업': '배우', '생년월일': '1990-03-26', '성별': '남', '홈페이지': '\\nhttps://www.instagram.com/dntlrdl/\\n', '신장/체중': '181cm, 65kg', '학교': '중앙대학교 아시아문화학'}\n",
      "{'_id': ObjectId('61122bbaff5c0ecb95545a06'), '배우이름': '이봉련', '흥행지수': 4491, '출연영화': ['엑시트', '82년생 김지영', '마약왕', '국제수사', '생일'], '랭킹': '51', '직업': '배우', '성별': '여'}\n",
      "{'_id': ObjectId('61122bbaff5c0ecb95545a0d'), '배우이름': '최유화', '흥행지수': 4149, '출연영화': ['봉오동 전투', '타짜: 원 아이드 잭', '비밀은 없다', '최악의 하루', '사랑해! 진영아'], '랭킹': '58', '직업': '배우', '생년월일': '1985-10-10', '성별': '여', '홈페이지': '\\nhttp://twitter.com/itwasbliss\\nhttp://www.facebook.com/ft.choiyuhwa\\nhttp://instagram.com/choiyuhwa\\n', '신장/체중': '172cm'}\n",
      "{'_id': ObjectId('61122bbaff5c0ecb95545a15'), '배우이름': '강동원', '흥행지수': 3932, '출연영화': ['인랑', '반도', '의형제', '검은 사제들', '1987'], '랭킹': '66', '직업': '배우', '생년월일': '1981-01-18', '성별': '남', '홈페이지': '\\nhttp://www.gangdongwon.com\\n', '신장/체중': '186cm, 68kg', '학교': '한양대 - 상명대학교대학원 연극영화 (석사과정 재학)', '취미': '음악감상, 웹서핑, 운동, 신발 모으기', '특기': '축구'}\n",
      "{'_id': ObjectId('61122bbaff5c0ecb95545a1e'), '배우이름': '남일우', '흥행지수': 3693, '출연영화': ['신과 함께-인과 연', '친절한 금자씨', '검은 사제들', '남자가 사랑할 때', '내부자들'], '랭킹': '75', '직업': '배우', '생년월일': '1938-05-25', '성별': '남'}\n",
      "{'_id': ObjectId('61122bbaff5c0ecb95545a21'), '배우이름': '허성태', '흥행지수': 3588, '출연영화': ['히트맨', '말모이', '신의 한 수: 귀수편', '열두 번째 용의자', '블랙머니'], '랭킹': '78', '직업': '배우', '생년월일': '1977-10-20', '성별': '남'}\n",
      "{'_id': ObjectId('61122bbaff5c0ecb95545a2d'), '배우이름': '이레', '흥행지수': 3123, '출연영화': ['증인', '반도', '너의 이름은.', '개를 훔치는 완벽한 방법', '소원'], '랭킹': '90', '직업': '배우', '생년월일': '2006-03-12', '성별': '여', '홈페이지': '\\nhttps://www.facebook.com/leere.vv/\\n'}\n",
      "{'_id': ObjectId('61122bbaff5c0ecb95545a36'), '배우이름': '우현', '흥행지수': 2861, '출연영화': ['말모이', '타짜: 원 아이드 잭', '저 산 너머', '왕의 남자', '1987'], '랭킹': '99', '직업': '배우', '생년월일': '1964-01-01', '성별': '남'}\n",
      "{'_id': ObjectId('61122bbaff5c0ecb95545a3d'), '배우이름': '구교환', '흥행지수': 2610, '출연영화': ['모가디슈', '메기', '반도', '꿈의 제인', '우리 손자 베스트'], '랭킹': '106', '직업': '배우', '생년월일': '1982-12-14', '성별': '남'}\n",
      "{'_id': ObjectId('61122bbaff5c0ecb95545a54'), '배우이름': '허준석', '흥행지수': 2128, '출연영화': ['극한직업', '침입자', '홈', '애정만세', '힘내세요, 병헌씨'], '랭킹': '129', '직업': '배우', '생년월일': '1982-06-11', '성별': '남', '홈페이지': '\\nhttp://instagram.com/joonseok82\\n'}\n"
     ]
    }
   ],
   "metadata": {}
  },
  {
   "cell_type": "markdown",
   "source": [
    "### find의 다양한 문법 (elemMatch)\n",
    "* 적어도 한 개 이상의 리스트 요소가 복수 개의 조건을 동시에 만족하는 경우"
   ],
   "metadata": {}
  },
  {
   "cell_type": "code",
   "execution_count": 24,
   "source": [
    "from bs4 import BeautifulSoup\n",
    "import requests\n",
    "import pymongo\n",
    "import re\n",
    "\n",
    "conn = pymongo.MongoClient()\n",
    "actor_db = conn.cine21\n",
    "elemmatch_sample = actor_db.sample"
   ],
   "outputs": [],
   "metadata": {}
  },
  {
   "cell_type": "code",
   "execution_count": 25,
   "source": [
    "elemmatch_sample.insert_many([\n",
    "    {'results': [82, 85, 88]},\n",
    "    {'results': [75, 88, 91]}\n",
    "])"
   ],
   "outputs": [
    {
     "output_type": "execute_result",
     "data": {
      "text/plain": [
       "<pymongo.results.InsertManyResult at 0x7f97685788c0>"
      ]
     },
     "metadata": {},
     "execution_count": 25
    }
   ],
   "metadata": {}
  },
  {
   "cell_type": "code",
   "execution_count": 26,
   "source": [
    "docs = elemmatch_sample.find({'results': {'$gte': 90, '$lt':85}})\n",
    "for doc in docs:\n",
    "    print (doc)"
   ],
   "outputs": [
    {
     "output_type": "stream",
     "name": "stdout",
     "text": [
      "{'_id': ObjectId('61122d8fff5c0ecb95545a63'), 'results': [75, 88, 91]}\n"
     ]
    }
   ],
   "metadata": {}
  },
  {
   "cell_type": "code",
   "execution_count": 27,
   "source": [
    "docs = elemmatch_sample.find({'results': {'$elemMatch': {'$gte':75, '$lt':80}}})\n",
    "for doc in docs:\n",
    "    print (doc)"
   ],
   "outputs": [
    {
     "output_type": "stream",
     "name": "stdout",
     "text": [
      "{'_id': ObjectId('61122d8fff5c0ecb95545a63'), 'results': [75, 88, 91]}\n"
     ]
    }
   ],
   "metadata": {}
  },
  {
   "cell_type": "code",
   "execution_count": null,
   "source": [],
   "outputs": [],
   "metadata": {}
  },
  {
   "cell_type": "markdown",
   "source": [
    "<div class=\"alert alert-block alert-warning\">\n",
    "<font color=\"blue\" size=\"4em\">실습</font><br>\n",
    "직업이 가수인 배우 중, 흥행지수가 가장 높은 배우순으로 10명을 출력하세요\n",
    "</div>"
   ],
   "metadata": {}
  },
  {
   "cell_type": "code",
   "execution_count": 28,
   "source": [
    "docs = actor.find({'직업':'가수'}).sort('흥행지수', pymongo.DESCENDING).limit(10)\n",
    "for doc in docs:\n",
    "    print (doc)"
   ],
   "outputs": [
    {
     "output_type": "stream",
     "name": "stdout",
     "text": [
      "{'_id': ObjectId('61122bbaff5c0ecb95545a01'), '배우이름': '배수지', '흥행지수': 4814, '출연영화': ['백두산', '건축학개론'], '랭킹': '46', '직업': '가수', '생년월일': '1994-10-10', '성별': '여', '홈페이지': '\\nhttps://twitter.com/missa_suzy\\nhttps://www.instagram.com/skuukzky/\\n', '신장/체중': '166cm, 47kg', '학교': '서울 공연예술고등학교', '소속사': 'JYP엔터테인먼트', '다른이름': '배수지;미쓰에이;'}\n",
      "{'_id': ObjectId('61122bbaff5c0ecb95545a03'), '배우이름': '임윤아', '흥행지수': 4698, '출연영화': ['엑시트', '공조'], '랭킹': '48', '직업': '가수', '생년월일': '1990-05-30', '성별': '여', '홈페이지': '\\nhttps://www.instagram.com/yoona__lim/\\n', '소속사': 'SM엔터테인먼트', '다른이름': '소녀시대; girlsgeneration; girls generation'}\n"
     ]
    }
   ],
   "metadata": {}
  },
  {
   "cell_type": "markdown",
   "source": [
    "<div class=\"alert alert-block alert-warning\">\n",
    "<font color=\"blue\" size=\"4em\">실습</font><br>\n",
    "국가부도의 날에 출연한 배우를 흥행지수가 높은 순으로 10명 출력하세요 \n",
    "</div>"
   ],
   "metadata": {}
  },
  {
   "cell_type": "code",
   "execution_count": 29,
   "source": [
    "docs = actor.find({'출연영화':'국가부도의 날'}).sort('흥행지수', pymongo.DESCENDING).limit(10)\n",
    "for doc in docs:\n",
    "    print (doc)"
   ],
   "outputs": [
    {
     "output_type": "stream",
     "name": "stdout",
     "text": [
      "{'_id': ObjectId('61122bbaff5c0ecb955459dd'), '배우이름': '조우진', '흥행지수': 12861, '출연영화': ['봉오동 전투', '돈', '창궐', '발신제한', '마약왕', '국가부도의 날'], '랭킹': '10', '직업': '배우', '생년월일': '1979-01-16', '성별': '남', '다른이름': '조신제'}\n",
      "{'_id': ObjectId('61122bbaff5c0ecb955459e6'), '배우이름': '조한철', '흥행지수': 8446, '출연영화': ['신과 함께-인과 연', '백두산', '국가부도의 날', '세자매', '로망', '블랙머니'], '랭킹': '19', '직업': '배우', '생년월일': '1973-05-13', '성별': '남'}\n",
      "{'_id': ObjectId('61122bbaff5c0ecb955459ee'), '배우이름': '유아인', '흥행지수': 7335, '출연영화': ['#살아있다', '국가부도의 날', '소리도 없이', '베테랑', '우아한 거짓말', '버닝'], '랭킹': '27', '직업': '배우', '생년월일': '1986-10-06', '성별': '남', '홈페이지': '\\nhttps://www.instagram.com/hongsick/\\nhttps://twitter.com/seeksik\\n', '신장/체중': '178cm, 60kg', '학교': '단국대학교 연극', '취미': '피아노 연주, 인터넷 게임, 영화, 음악감상', '특기': '스노우보드, 수영', '다른이름': '엄홍식'}\n",
      "{'_id': ObjectId('61122bbaff5c0ecb955459f2'), '배우이름': '김홍파', '흥행지수': 6617, '출연영화': ['공작', '천문: 하늘에 묻는다', '국가부도의 날', '마약왕', '말모이', '괴기맨숀'], '랭킹': '31', '직업': '배우', '생년월일': '1962-01-05', '성별': '남'}\n",
      "{'_id': ObjectId('61122bbaff5c0ecb955459fc'), '배우이름': '허준호', '흥행지수': 5406, '출연영화': ['천문: 하늘에 묻는다', '모가디슈', '국가부도의 날', '퍼펙트맨', '인랑', '결백'], '랭킹': '41', '원어명': '許俊豪', '직업': '배우', '생년월일': '1964-03-03', '성별': '남', '신장/체중': '180cm, 75kg', '학교': '서울예술대학 연극과', '취미': '만화책 보기', '특기': '야구, 농구', '소속사': '지티비엔터테인먼트'}\n",
      "{'_id': ObjectId('61122bbaff5c0ecb95545a02'), '배우이름': '권해효', '흥행지수': 4796, '출연영화': ['국가부도의 날', '방법: 재차의', '나의 특별한 형제', '해피 투게더', '도망친 여자', '강변호텔'], '랭킹': '47', '직업': '배우', '생년월일': '1965-11-06', '성별': '남', '신장/체중': '170cm, 62kg', '학교': '한양대학교 연극영화학 졸업'}\n",
      "{'_id': ObjectId('61122bbaff5c0ecb95545a25'), '배우이름': '염혜란', '흥행지수': 3515, '출연영화': ['국가부도의 날', '내일의 기억', '이웃사촌', '미성년', '아이', '야구소녀'], '랭킹': '82', '직업': '배우', '생년월일': '1976-00-00', '성별': '여'}\n",
      "{'_id': ObjectId('61122bbaff5c0ecb95545a27'), '배우이름': '송영창', '흥행지수': 3420, '출연영화': ['마약왕', '국가부도의 날', '악질경찰', '말모이', '정직한 후보', '박쥐'], '랭킹': '84', '직업': '배우', '생년월일': '1958-04-02', '성별': '남', '학교': '중앙대학교대학원 연극영화학', '취미': '볼링, 비디오감상', '다른이름': '宋永彰'}\n",
      "{'_id': ObjectId('61122bbaff5c0ecb95545a41'), '배우이름': '장성범', '흥행지수': 2487, '출연영화': ['너의 결혼식', '국가부도의 날', '썬키스 패밀리'], '랭킹': '110', '직업': '배우', '생년월일': '1995-07-18', '성별': '남'}\n",
      "{'_id': ObjectId('61122bbaff5c0ecb95545a58'), '배우이름': '김혜수', '흥행지수': 2066, '출연영화': ['내가 죽던 날', '국가부도의 날', '타짜', '도둑들'], '랭킹': '133', '직업': '배우', '생년월일': '1970-09-05', '성별': '여', '신장/체중': '171cm, 49kg', '학교': '동국대 연극영화 - 성균관대언론정보대학원 석사', '취미': '영화 감상, 사진집 모으기, 태권도, 수영, 테니스, 볼링', '특기': '태권도'}\n"
     ]
    }
   ],
   "metadata": {}
  }
 ],
 "metadata": {
  "kernelspec": {
   "name": "python3",
   "display_name": "Python 3.8.8 64-bit ('base': conda)"
  },
  "language_info": {
   "codemirror_mode": {
    "name": "ipython",
    "version": 3
   },
   "file_extension": ".py",
   "mimetype": "text/x-python",
   "name": "python",
   "nbconvert_exporter": "python",
   "pygments_lexer": "ipython3",
   "version": "3.8.8"
  },
  "interpreter": {
   "hash": "dca0ade3e726a953b501b15e8e990130d2b7799f14cfd9f4271676035ebe5511"
  }
 },
 "nbformat": 4,
 "nbformat_minor": 2
}