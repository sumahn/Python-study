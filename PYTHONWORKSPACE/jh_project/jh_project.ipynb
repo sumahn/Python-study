{
 "cells": [
  {
   "cell_type": "markdown",
   "metadata": {},
   "source": [
    "***\n",
    "                                                                                                                데이터 출처: STATIZ   "
   ]
  },
  {
   "cell_type": "markdown",
   "metadata": {},
   "source": [
    "# 주제: 2019 KBO 포스트시즌 진출팀의 2020년 평균 타율이 같은가? "
   ]
  },
  {
   "cell_type": "markdown",
   "metadata": {},
   "source": [
    "## 가설 세우기"
   ]
  },
  {
   "cell_type": "markdown",
   "metadata": {},
   "source": [
    "__Ho: 2019 KBO 포스트시즌 진출팀들의 2020년 평균 타율은 같다.__\n",
    "***\n",
    "__Ha : not Ho__\n"
   ]
  },
  {
   "cell_type": "markdown",
   "metadata": {},
   "source": [
    "## 패키지"
   ]
  },
  {
   "cell_type": "code",
   "execution_count": 79,
   "metadata": {
    "ExecuteTime": {
     "end_time": "2020-12-19T16:33:07.890178Z",
     "start_time": "2020-12-19T16:33:07.884200Z"
    }
   },
   "outputs": [],
   "source": [
    "import requests\n",
    "from bs4 import BeautifulSoup\n",
    "import re\n",
    "import csv\n",
    "\n",
    "import pandas as pd\n",
    "from statsmodels.formula.api import ols\n",
    "from statsmodels.stats.anova import anova_lm\n",
    "\n",
    "import matplotlib.pyplot as plt\n",
    "import seaborn as sns\n",
    "%matplotlib inline"
   ]
  },
  {
   "cell_type": "markdown",
   "metadata": {},
   "source": [
    "## 웹 스크래핑"
   ]
  },
  {
   "cell_type": "code",
   "execution_count": 81,
   "metadata": {
    "ExecuteTime": {
     "end_time": "2020-12-19T16:33:43.522996Z",
     "start_time": "2020-12-19T16:33:39.897929Z"
    }
   },
   "outputs": [
    {
     "name": "stdout",
     "output_type": "stream",
     "text": [
      "현재 페이지는 1페이지입니다.\n",
      "현재 페이지는 2페이지입니다.\n",
      "----------------------------------------------------------------------------------------------------\n",
      "현재 페이지는 1페이지입니다.\n",
      "현재 페이지는 2페이지입니다.\n",
      "----------------------------------------------------------------------------------------------------\n",
      "현재 페이지는 1페이지입니다.\n",
      "현재 페이지는 2페이지입니다.\n",
      "----------------------------------------------------------------------------------------------------\n",
      "현재 페이지는 1페이지입니다.\n",
      "현재 페이지는 2페이지입니다.\n",
      "----------------------------------------------------------------------------------------------------\n",
      "작업이 완료되었습니다.\n"
     ]
    }
   ],
   "source": [
    "# 웹 스크래핑 \n",
    "\n",
    "teams = [\"두산\", \"SK\",\"키움\",\"LG\"]\n",
    "\n",
    "for team in teams:\n",
    "\n",
    "    with open(\"kbo_{}.csv\".format(team), \"w\", encoding=\"utf-8-sig\", newline=\"\") as f:\n",
    "        writer = csv.writer(f)\n",
    "        title = \"순 이름 팀 G 타석 타수 득점 안타 2타 3타 홈런 루타 타점 도루 도실 볼넷 사구 고4 삼진 병살 희타 희비 a 타율 c d e f g h j\".split(' ')\n",
    "        writer.writerow(title)\n",
    "\n",
    "        for page in range(1, 3):\n",
    "            print(\"현재 페이지는 {}페이지입니다.\".format(page))\n",
    "            headers = {\"User-Agent\":\"Mozilla/5.0 (Windows NT 10.0; Win64; x64) AppleWebKit/537.36 (KHTML, like Gecko) Chrome/87.0.4280.88 Safari/537.36\"}\n",
    "            url = \"http://www.statiz.co.kr/stat.php?opt=0&sopt=0&re=0&ys=2020&ye=2020&se=0&te={0}&tm=&ty=0&qu=auto&po=0&as=&ae=&hi=&un=&pl=&da=1&o1=WAR_ALL_ADJ&o2=TPA&de=1&lr=0&tr=&cv=&ml=1&sn=30&si=&cn={1}\".format(team, 30*(page-1))\n",
    "            res = requests.get(url, headers = headers)\n",
    "            soup = BeautifulSoup(res.content, \"lxml\")\n",
    "\n",
    "            table = soup.find(\"table\", attrs={\"id\":\"mytable\"})\n",
    "            data_rows = table.find_all(\"tr\")\n",
    "\n",
    "\n",
    "            for row in data_rows:\n",
    "                columns = row.find_all(\"td\")\n",
    "                if len(columns) <= 1 :\n",
    "                    continue\n",
    "                \n",
    "                data = [col.get_text().strip() for col in columns]\n",
    "                writer.writerow(data)\n",
    "                \n",
    "    print(\"-\"*100)\n",
    "    \n",
    "print(\"작업이 완료되었습니다.\")"
   ]
  },
  {
   "cell_type": "markdown",
   "metadata": {},
   "source": [
    "## 데이터 전처리"
   ]
  },
  {
   "cell_type": "code",
   "execution_count": 62,
   "metadata": {
    "ExecuteTime": {
     "end_time": "2020-12-19T16:13:51.926319Z",
     "start_time": "2020-12-19T16:13:51.903163Z"
    }
   },
   "outputs": [],
   "source": [
    "## select variables \n",
    "\n",
    "doosan = pd.read_csv(\"kbo_두산.csv\", usecols= [\"이름\",\"팀\",\"타석\",\"타율\"])\n",
    "doosan[\"팀\"] = \"DOOSAN\"\n",
    "\n",
    "sk = pd.read_csv(\"kbo_SK.csv\", usecols= [\"이름\",\"팀\",\"타석\",\"타율\"])\n",
    "sk[\"팀\"] = \"SK\"\n",
    "\n",
    "kium = pd.read_csv(\"kbo_키움.csv\", usecols= [\"이름\",\"팀\",\"타석\",\"타율\"])\n",
    "kium[\"팀\"] = \"KIUM\"\n",
    "\n",
    "lg = pd.read_csv(\"kbo_LG.csv\", usecols= [\"이름\",\"팀\",\"타석\",\"타율\"])\n",
    "lg[\"팀\"] = \"LG\"\n",
    "\n",
    "\n",
    "## merge data\n",
    "\n",
    "team_list = [doosan, sk, kium, lg]\n",
    "df = pd.concat(team_list)\n",
    "\n",
    "## AB < 30 -> meaningless\n",
    "df = df[lambda x:x.타석 >= 30]"
   ]
  },
  {
   "cell_type": "markdown",
   "metadata": {},
   "source": [
    "# ANOVA test"
   ]
  },
  {
   "cell_type": "markdown",
   "metadata": {
    "ExecuteTime": {
     "end_time": "2020-12-19T16:08:43.270028Z",
     "start_time": "2020-12-19T16:08:43.266040Z"
    }
   },
   "source": [
    "__Ho: 2019년 포스트시즌 진출팀의 2020년 평균 타율은 같다.__\n",
    "***\n",
    "__Ha: not Ho__"
   ]
  },
  {
   "cell_type": "markdown",
   "metadata": {},
   "source": [
    "## 팀별 타율 Boxplot"
   ]
  },
  {
   "cell_type": "code",
   "execution_count": 85,
   "metadata": {
    "ExecuteTime": {
     "end_time": "2020-12-19T16:43:19.545633Z",
     "start_time": "2020-12-19T16:43:19.374087Z"
    }
   },
   "outputs": [
    {
     "name": "stderr",
     "output_type": "stream",
     "text": [
      "C:\\ProgramData\\Anaconda3\\lib\\site-packages\\matplotlib\\backends\\backend_agg.py:238: RuntimeWarning: Glyph 54016 missing from current font.\n",
      "  font.set_text(s, 0.0, flags=flags)\n",
      "C:\\ProgramData\\Anaconda3\\lib\\site-packages\\matplotlib\\backends\\backend_agg.py:238: RuntimeWarning: Glyph 53440 missing from current font.\n",
      "  font.set_text(s, 0.0, flags=flags)\n",
      "C:\\ProgramData\\Anaconda3\\lib\\site-packages\\matplotlib\\backends\\backend_agg.py:238: RuntimeWarning: Glyph 50984 missing from current font.\n",
      "  font.set_text(s, 0.0, flags=flags)\n",
      "C:\\ProgramData\\Anaconda3\\lib\\site-packages\\matplotlib\\backends\\backend_agg.py:201: RuntimeWarning: Glyph 54016 missing from current font.\n",
      "  font.set_text(s, 0, flags=flags)\n",
      "C:\\ProgramData\\Anaconda3\\lib\\site-packages\\matplotlib\\backends\\backend_agg.py:201: RuntimeWarning: Glyph 53440 missing from current font.\n",
      "  font.set_text(s, 0, flags=flags)\n",
      "C:\\ProgramData\\Anaconda3\\lib\\site-packages\\matplotlib\\backends\\backend_agg.py:201: RuntimeWarning: Glyph 50984 missing from current font.\n",
      "  font.set_text(s, 0, flags=flags)\n"
     ]
    },
    {
     "data": {
      "image/png": "[encoded data removed]",
      "text/plain": [
       "<Figure size 432x288 with 1 Axes>"
      ]
     },
     "metadata": {
      "needs_background": "light"
     },
     "output_type": "display_data"
    }
   ],
   "source": [
    "ax = sns.boxplot(x=\"팀\", y=\"타율\", data=df, color=\"#99c2a2\")"
   ]
  },
  {
   "cell_type": "markdown",
   "metadata": {},
   "source": [
    "### ANOVA table"
   ]
  },
  {
   "cell_type": "code",
   "execution_count": 86,
   "metadata": {
    "ExecuteTime": {
     "end_time": "2020-12-19T16:43:33.505628Z",
     "start_time": "2020-12-19T16:43:33.488675Z"
    }
   },
   "outputs": [
    {
     "name": "stdout",
     "output_type": "stream",
     "text": [
      "             df    sum_sq   mean_sq         F    PR(>F)\n",
      "팀           3.0  0.006087  0.002029  1.787653  0.153845\n",
      "Residual  108.0  0.122573  0.001135       NaN       NaN\n"
     ]
    }
   ],
   "source": [
    "model = ols(\"타율 ~ 팀\", df).fit()\n",
    "print(anova_lm(model))"
   ]
  },
  {
   "cell_type": "markdown",
   "metadata": {},
   "source": [
    "## ANOVA test assumption check \n"
   ]
  },
  {
   "cell_type": "markdown",
   "metadata": {},
   "source": [
    "### independency"
   ]
  },
  {
   "cell_type": "markdown",
   "metadata": {},
   "source": [
    "__각 팀의 타자들이 치는 실력은 팀에 상관없이 독립이라고 가정한다.__   \n",
    "__한 팀의 타자들은 서로 독립이라고 가정한다.__"
   ]
  },
  {
   "cell_type": "markdown",
   "metadata": {},
   "source": [
    "### normality"
   ]
  },
  {
   "cell_type": "code",
   "execution_count": 82,
   "metadata": {
    "ExecuteTime": {
     "end_time": "2020-12-19T16:39:14.514026Z",
     "start_time": "2020-12-19T16:39:14.304579Z"
    }
   },
   "outputs": [
    {
     "name": "stdout",
     "output_type": "stream",
     "text": [
      "ShapiroResult(statistic=0.9802508354187012, pvalue=0.09623414278030396)\n"
     ]
    },
    {
     "data": {
      "image/png": "[encoded data removed]",
      "text/plain": [
       "<Figure size 720x720 with 1 Axes>"
      ]
     },
     "metadata": {
      "needs_background": "light"
     },
     "output_type": "display_data"
    }
   ],
   "source": [
    "import scipy.stats as stats\n",
    "\n",
    "\n",
    "print(stats.shapiro(model.resid))\n",
    "\n",
    "fig = plt.figure(figsize=(10,10))\n",
    "ax = fig.add_subplot(111)\n",
    "\n",
    "normality_plot, stat = stats.probplot(model.resid, plot=plt, rvalue=True)\n",
    "plt.show()"
   ]
  },
  {
   "cell_type": "markdown",
   "metadata": {},
   "source": [
    "__정규성을 검정할 수 있는 Shapiro test의 p-value가 0.05보다 크므로 귀무가설(정규확률을 따른다.)를 그대로 채택한다.__   \n",
    "__정규확률플롯에서 상당히 일치하는 모습을 보이므로 정규성을 만족한다.__"
   ]
  },
  {
   "cell_type": "markdown",
   "metadata": {},
   "source": [
    "### equal variance"
   ]
  },
  {
   "cell_type": "code",
   "execution_count": 84,
   "metadata": {
    "ExecuteTime": {
     "end_time": "2020-12-19T16:41:08.665046Z",
     "start_time": "2020-12-19T16:41:08.655072Z"
    }
   },
   "outputs": [
    {
     "data": {
      "text/plain": [
       "LeveneResult(statistic=2.332584156412959, pvalue=0.07815513133230603)"
      ]
     },
     "execution_count": 84,
     "metadata": {},
     "output_type": "execute_result"
    }
   ],
   "source": [
    "## Levene's test \n",
    "\n",
    "stats.levene(df[lambda x:x.팀 ==\"DOOSAN\"][\"타율\"], \n",
    "            df[lambda x:x.팀 ==\"SK\"][\"타율\"],\n",
    "            df[lambda x:x.팀 ==\"KIUM\"][\"타율\"],\n",
    "            df[lambda x:x.팀 ==\"LG\"][\"타율\"],\n",
    "            center=\"median\")"
   ]
  },
  {
   "cell_type": "markdown",
   "metadata": {},
   "source": [
    "__등분산성을 검정할 수 있는 Levene test 결과 p-value가 0.05 이상이므로 귀무가설(등분산성을 만족한다.)을 그대로 채택한다.__"
   ]
  },
  {
   "cell_type": "markdown",
   "metadata": {},
   "source": [
    "***\n",
    "__ANOVA assumption 세 가지를 만족하므로 ANOVA test 시행이 성립 가능하다.__"
   ]
  },
  {
   "cell_type": "markdown",
   "metadata": {},
   "source": [
    "__또한 ANOVA table의 p-value가 0.05보다 크므로 귀무가설(2019 KBO 포스트시즌 진출팀들의 2020년 평균 타율은 같다.)을 기각할 수 없다.__   \n",
    "__따라서 2019 KBO 포스트시즌 진출팀들의 2020년 평균타율은 같다.__"
   ]
  },
  {
   "source": [
    "***"
   ],
   "cell_type": "markdown",
   "metadata": {}
  }
 ],
 "metadata": {
  "kernelspec": {
   "display_name": "Python 3",
   "language": "python",
   "name": "python3"
  },
  "language_info": {
   "codemirror_mode": {
    "name": "ipython",
    "version": 3
   },
   "file_extension": ".py",
   "mimetype": "text/x-python",
   "name": "python",
   "nbconvert_exporter": "python",
   "pygments_lexer": "ipython3",
   "version": "3.8.5-final"
  },
  "toc": {
   "base_numbering": 1,
   "nav_menu": {},
   "number_sections": true,
   "sideBar": true,
   "skip_h1_title": false,
   "title_cell": "Table of Contents",
   "title_sidebar": "Contents",
   "toc_cell": false,
   "toc_position": {},
   "toc_section_display": true,
   "toc_window_display": false
  },
  "varInspector": {
   "cols": {
    "lenName": 16,
    "lenType": 16,
    "lenVar": 40
   },
   "kernels_config": {
    "python": {
     "delete_cmd_postfix": "",
     "delete_cmd_prefix": "del ",
     "library": "var_list.py",
     "varRefreshCmd": "print(var_dic_list())"
    },
    "r": {
     "delete_cmd_postfix": ") ",
     "delete_cmd_prefix": "rm(",
     "library": "var_list.r",
     "varRefreshCmd": "cat(var_dic_list()) "
    }
   },
   "types_to_exclude": [
    "module",
    "function",
    "builtin_function_or_method",
    "instance",
    "_Feature"
   ],
   "window_display": false
  }
 },
 "nbformat": 4,
 "nbformat_minor": 4
}