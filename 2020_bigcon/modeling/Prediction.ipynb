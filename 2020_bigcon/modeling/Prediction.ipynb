{
 "cells": [
  {
   "cell_type": "code",
   "execution_count": 1,
   "metadata": {
    "ExecuteTime": {
     "end_time": "2020-09-27T11:52:37.143451Z",
     "start_time": "2020-09-27T11:52:33.833528Z"
    }
   },
   "outputs": [
    {
     "name": "stderr",
     "output_type": "stream",
     "text": [
      "C:\\Users\\cktna\\AppData\\Roaming\\Python\\Python36\\site-packages\\fuzzywuzzy\\fuzz.py:11: UserWarning: Using slow pure-python SequenceMatcher. Install python-Levenshtein to remove this warning\n",
      "  warnings.warn('Using slow pure-python SequenceMatcher. Install python-Levenshtein to remove this warning')\n"
     ]
    }
   ],
   "source": [
    "from booster import LightGBM, CatBoost\n",
    "from utils import *\n",
    "\n",
    "from sklearn.preprocessing import LabelEncoder\n",
    "\n",
    "lgbm_null_params = {\"learning_rate\":0.08857, \"max_bin\": 27, \"max_depth\":6, \"min_data_in_leaf\":28, \"num_leaves\":36}"
   ]
  },
  {
   "cell_type": "code",
   "execution_count": 2,
   "metadata": {
    "ExecuteTime": {
     "end_time": "2020-09-27T11:52:39.465364Z",
     "start_time": "2020-09-27T11:52:37.145281Z"
    },
    "scrolled": false
   },
   "outputs": [],
   "source": [
    "null_model, null_pred = LightGBM().make_result('data.csv', lgbm_null_params, 100)"
   ]
  },
  {
   "cell_type": "code",
   "execution_count": 3,
   "metadata": {
    "ExecuteTime": {
     "end_time": "2020-09-27T11:52:39.470112Z",
     "start_time": "2020-09-27T11:52:39.466466Z"
    }
   },
   "outputs": [],
   "source": [
    "cat_normal_params = dict(depth=8, \n",
    "    l2_leaf_reg = 3.077,\n",
    "    learning_rate = 0.1064,\n",
    "    min_data_in_leaf= 14)"
   ]
  },
  {
   "cell_type": "code",
   "execution_count": 4,
   "metadata": {
    "ExecuteTime": {
     "end_time": "2020-09-27T11:52:49.379179Z",
     "start_time": "2020-09-27T11:52:39.470112Z"
    }
   },
   "outputs": [],
   "source": [
    "normal_model, normal_pred = CatBoost().make_result('data.csv', cat_normal_params, 100)"
   ]
  },
  {
   "cell_type": "code",
   "execution_count": 5,
   "metadata": {
    "ExecuteTime": {
     "end_time": "2020-09-27T11:52:49.720043Z",
     "start_time": "2020-09-27T11:52:49.382307Z"
    }
   },
   "outputs": [
    {
     "name": "stdout",
     "output_type": "stream",
     "text": [
      "(2891, 8)\n"
     ]
    }
   ],
   "source": [
    "final = make_submission(null_pred, normal_pred)"
   ]
  },
  {
   "cell_type": "code",
   "execution_count": 6,
   "metadata": {
    "ExecuteTime": {
     "end_time": "2020-09-27T11:52:49.725133Z",
     "start_time": "2020-09-27T11:52:49.721106Z"
    }
   },
   "outputs": [],
   "source": [
    "import lightgbm as lgb"
   ]
  },
  {
   "cell_type": "code",
   "execution_count": 7,
   "metadata": {
    "ExecuteTime": {
     "end_time": "2020-09-27T11:53:03.784556Z",
     "start_time": "2020-09-27T11:53:03.776123Z"
    }
   },
   "outputs": [
    {
     "data": {
      "text/plain": [
       "array([1.42010711e+00, 4.30114136e-01, 4.85306073e-01, 1.12934396e+01,\n",
       "       1.01043963e+00, 8.79514840e-01, 1.78009424e+00, 0.00000000e+00,\n",
       "       1.46551922e+00, 5.08226811e-01, 1.93811020e+01, 1.15357034e+00,\n",
       "       1.97037248e+00, 1.82012298e+00, 1.29099207e+00, 2.63904556e+01,\n",
       "       1.89298399e-01, 8.34115735e-02, 6.99986183e-02, 1.48191058e-01,\n",
       "       5.38979691e-02, 4.97655445e-02, 2.62069670e-02, 4.30163575e-02,\n",
       "       1.65284773e-01, 1.43680785e-01, 3.32727514e-02, 8.02615963e-02,\n",
       "       3.37756473e-01, 1.65050935e+00, 1.96798866e-01, 0.00000000e+00,\n",
       "       1.53500479e-02, 1.47437217e-02, 0.00000000e+00, 6.81950776e-02,\n",
       "       2.81116732e-02, 3.34248869e-02, 0.00000000e+00, 1.41554532e-02,\n",
       "       3.12825596e-01, 2.57116653e-01, 6.18191627e-02, 9.48147571e-02,\n",
       "       1.11301713e-01, 6.06989543e-01, 1.82400341e-01, 1.37505214e-01,\n",
       "       3.14616263e-01, 1.29600528e-01, 4.35170851e-01, 2.96836978e-01,\n",
       "       3.44603451e-01, 5.95642752e-01, 3.49259007e-01, 3.34056952e-01,\n",
       "       2.46333487e-02, 1.22788475e-01, 8.99142875e-01, 3.37284946e-01,\n",
       "       1.63330804e+00, 2.44028520e-01, 2.54509542e-01, 3.11210431e-01,\n",
       "       9.62044931e-02, 1.36901852e-01, 1.14888812e-01, 0.00000000e+00,\n",
       "       1.08132627e-03, 6.41383295e-01, 4.21462931e-02, 3.52721859e+00,\n",
       "       1.59481393e+00, 4.49244802e-03, 1.66860810e+00, 1.73277541e+00,\n",
       "       4.56938525e+00, 1.72244682e-01, 7.35556974e-01, 4.45672249e-01,\n",
       "       3.48402794e-02, 9.62456625e-02, 1.94584561e-02, 1.10411481e-01,\n",
       "       6.59623114e-02, 2.62822158e-01, 0.00000000e+00, 0.00000000e+00,\n",
       "       2.29388578e-01, 1.04106266e-01, 6.18355044e-02, 6.14792514e-02,\n",
       "       3.64022283e-02, 3.60851825e-02, 1.60230943e-01, 1.21183062e-01])"
      ]
     },
     "execution_count": 7,
     "metadata": {},
     "output_type": "execute_result"
    }
   ],
   "source": [
    "normal_model.feature_importances_"
   ]
  },
  {
   "cell_type": "code",
   "execution_count": 9,
   "metadata": {
    "ExecuteTime": {
     "end_time": "2020-09-27T11:53:46.823247Z",
     "start_time": "2020-09-27T11:53:46.818303Z"
    }
   },
   "outputs": [
    {
     "data": {
      "text/plain": [
       "<bound method Booster.feature_importance of <lightgbm.basic.Booster object at 0x000001E18A2C96D8>>"
      ]
     },
     "execution_count": 9,
     "metadata": {},
     "output_type": "execute_result"
    }
   ],
   "source": [
    "null_model.feature_importance"
   ]
  },
  {
   "cell_type": "code",
   "execution_count": null,
   "metadata": {},
   "outputs": [],
   "source": []
  }
 ],
 "metadata": {
  "kernelspec": {
   "display_name": "Python 3",
   "language": "python",
   "name": "python3"
  },
  "language_info": {
   "codemirror_mode": {
    "name": "ipython",
    "version": 3
   },
   "file_extension": ".py",
   "mimetype": "text/x-python",
   "name": "python",
   "nbconvert_exporter": "python",
   "pygments_lexer": "ipython3",
   "version": "3.6.10"
  },
  "toc": {
   "base_numbering": 1,
   "nav_menu": {},
   "number_sections": true,
   "sideBar": true,
   "skip_h1_title": false,
   "title_cell": "Table of Contents",
   "title_sidebar": "Contents",
   "toc_cell": false,
   "toc_position": {},
   "toc_section_display": true,
   "toc_window_display": false
  },
  "varInspector": {
   "cols": {
    "lenName": 16,
    "lenType": 16,
    "lenVar": 40
   },
   "kernels_config": {
    "python": {
     "delete_cmd_postfix": "",
     "delete_cmd_prefix": "del ",
     "library": "var_list.py",
     "varRefreshCmd": "print(var_dic_list())"
    },
    "r": {
     "delete_cmd_postfix": ") ",
     "delete_cmd_prefix": "rm(",
     "library": "var_list.r",
     "varRefreshCmd": "cat(var_dic_list()) "
    }
   },
   "types_to_exclude": [
    "module",
    "function",
    "builtin_function_or_method",
    "instance",
    "_Feature"
   ],
   "window_display": false
  }
 },
 "nbformat": 4,
 "nbformat_minor": 4
}
