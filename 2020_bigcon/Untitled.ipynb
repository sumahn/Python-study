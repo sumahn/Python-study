{
 "cells": [
  {
   "cell_type": "code",
   "execution_count": 1,
   "metadata": {
    "ExecuteTime": {
     "end_time": "2020-11-17T14:18:06.357714Z",
     "start_time": "2020-11-17T14:18:06.354745Z"
    }
   },
   "outputs": [],
   "source": [
    "import math"
   ]
  },
  {
   "cell_type": "code",
   "execution_count": 2,
   "metadata": {
    "ExecuteTime": {
     "end_time": "2020-11-17T14:19:02.531455Z",
     "start_time": "2020-11-17T14:19:02.520453Z"
    }
   },
   "outputs": [],
   "source": [
    "item_dict1 = {\"i1\":5,\"i2\":4, \"i3\":5, \"i4\":2,\"i5\":4}\n",
    "item_dict2 = {\"i1\":4,\"i2\":1, \"i3\":3, \"i4\":5,\"i5\":5}\n",
    "item_dict3 = {\"i1\":5,\"i2\":4, \"i3\":4, \"i4\":2,\"i5\":4}\n",
    "item_dict4 = {\"i1\":5,\"i2\":1, \"i3\":5, \"i4\":2,\"i5\":5}\n",
    "item_dict5 = {\"i1\":1,\"i2\":3, \"i3\":2, \"i4\":2,\"i5\":1}"
   ]
  },
  {
   "cell_type": "code",
   "execution_count": 3,
   "metadata": {
    "ExecuteTime": {
     "end_time": "2020-11-17T14:19:33.422330Z",
     "start_time": "2020-11-17T14:19:33.416346Z"
    }
   },
   "outputs": [],
   "source": [
    "user_item_dict = {\"u1\":item_dict1, \"u2\":item_dict2,\n",
    "                 \"u3\":item_dict3, \"u4\":item_dict4,\n",
    "                 \"u5\":item_dict5}"
   ]
  },
  {
   "cell_type": "code",
   "execution_count": 4,
   "metadata": {
    "ExecuteTime": {
     "end_time": "2020-11-17T14:20:51.401087Z",
     "start_time": "2020-11-17T14:20:51.391148Z"
    }
   },
   "outputs": [],
   "source": [
    "def cal_sim(d1, d2):\n",
    "    sum1 = 0.0\n",
    "    sum2 = 0.0\n",
    "    sum3 = 0.0\n",
    "    \n",
    "    for key in d1.keys():\n",
    "        sum1 += d1[key] * d2[key]\n",
    "        sum2 += math.pow(d1[key], 2)\n",
    "        sum3 += math.pow(d2[key], 2)\n",
    "        \n",
    "    sim = sum1 / (math.sqrt(sum2) * math.sqrt(sum3))\n",
    "    \n",
    "    return sim"
   ]
  },
  {
   "cell_type": "code",
   "execution_count": 15,
   "metadata": {
    "ExecuteTime": {
     "end_time": "2020-11-17T14:32:52.804776Z",
     "start_time": "2020-11-17T14:32:52.796801Z"
    }
   },
   "outputs": [
    {
     "data": {
      "text/plain": [
       "['u1', 'u2', 'u3', 'u4', 'u5']"
      ]
     },
     "execution_count": 15,
     "metadata": {},
     "output_type": "execute_result"
    }
   ],
   "source": [
    "list(user_item_dict.keys())"
   ]
  },
  {
   "cell_type": "code",
   "execution_count": 30,
   "metadata": {
    "ExecuteTime": {
     "end_time": "2020-11-17T14:45:49.931771Z",
     "start_time": "2020-11-17T14:45:49.919808Z"
    }
   },
   "outputs": [
    {
     "name": "stdout",
     "output_type": "stream",
     "text": [
      "u1 : {'key2': 1}\n",
      "u2 : {'key2': 1}\n",
      "u3 : {'key2': 1}\n",
      "u4 : {'key2': 1}\n",
      "u5 : {'key2': 1}\n"
     ]
    }
   ],
   "source": [
    "sim_dic = {}\n",
    "\n",
    "for key1 in user_item_dict.keys():\n",
    "    keylist = list(user_item_dict.keys())\n",
    "    kl = [x for x in keylist if x != k]\n",
    "    \n",
    "    res_dic = {}\n",
    "    for elem in kl:\n",
    "        res_dic[elem] = round(cal_sim(user_item_dict[k], user_item_dict[elem]),5)\n",
    "    \n",
    "    sim_dic[k] = res_dic\n",
    "    \n",
    "for key in sim_dic:\n",
    "    print(key,\":\",sim_dic[key])"
   ]
  },
  {
   "cell_type": "code",
   "execution_count": 26,
   "metadata": {
    "ExecuteTime": {
     "end_time": "2020-11-17T14:39:15.912692Z",
     "start_time": "2020-11-17T14:39:15.902754Z"
    }
   },
   "outputs": [
    {
     "name": "stdout",
     "output_type": "stream",
     "text": [
      "u1 : {'u2': 0.85348, 'u3': 0.99538, 'u4': 0.94037, 'u5': 0.86585}\n",
      "u2 : {'u1': 0.85348, 'u3': 0.86276, 'u4': 0.91056, 'u5': 0.73684}\n",
      "u3 : {'u1': 0.99538, 'u2': 0.86276, 'u4': 0.93011, 'u5': 0.86276}\n",
      "u4 : {'u1': 0.94037, 'u2': 0.91056, 'u3': 0.93011, 'u5': 0.69254}\n",
      "u5 : {'u1': 0.86585, 'u2': 0.73684, 'u3': 0.86276, 'u4': 0.69254}\n"
     ]
    }
   ],
   "source": [
    "for key in sim_dic:\n",
    "    print(key,\":\",sim_dic[key])"
   ]
  },
  {
   "cell_type": "code",
   "execution_count": null,
   "metadata": {},
   "outputs": [],
   "source": []
  }
 ],
 "metadata": {
  "kernelspec": {
   "display_name": "Python 3",
   "language": "python",
   "name": "python3"
  },
  "language_info": {
   "codemirror_mode": {
    "name": "ipython",
    "version": 3
   },
   "file_extension": ".py",
   "mimetype": "text/x-python",
   "name": "python",
   "nbconvert_exporter": "python",
   "pygments_lexer": "ipython3",
   "version": "3.6.10"
  },
  "latex_envs": {
   "LaTeX_envs_menu_present": true,
   "autoclose": false,
   "autocomplete": true,
   "bibliofile": "biblio.bib",
   "cite_by": "apalike",
   "current_citInitial": 1,
   "eqLabelWithNumbers": true,
   "eqNumInitial": 1,
   "hotkeys": {
    "equation": "Ctrl-E",
    "itemize": "Ctrl-I"
   },
   "labels_anchors": false,
   "latex_user_defs": false,
   "report_style_numbering": false,
   "user_envs_cfg": false
  },
  "toc": {
   "base_numbering": 1,
   "nav_menu": {},
   "number_sections": true,
   "sideBar": true,
   "skip_h1_title": false,
   "title_cell": "Table of Contents",
   "title_sidebar": "Contents",
   "toc_cell": false,
   "toc_position": {},
   "toc_section_display": true,
   "toc_window_display": false
  },
  "varInspector": {
   "cols": {
    "lenName": 16,
    "lenType": 16,
    "lenVar": 40
   },
   "kernels_config": {
    "python": {
     "delete_cmd_postfix": "",
     "delete_cmd_prefix": "del ",
     "library": "var_list.py",
     "varRefreshCmd": "print(var_dic_list())"
    },
    "r": {
     "delete_cmd_postfix": ") ",
     "delete_cmd_prefix": "rm(",
     "library": "var_list.r",
     "varRefreshCmd": "cat(var_dic_list()) "
    }
   },
   "types_to_exclude": [
    "module",
    "function",
    "builtin_function_or_method",
    "instance",
    "_Feature"
   ],
   "window_display": false
  }
 },
 "nbformat": 4,
 "nbformat_minor": 4
}
