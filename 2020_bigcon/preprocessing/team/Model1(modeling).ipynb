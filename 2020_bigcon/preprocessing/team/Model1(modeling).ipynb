{
 "cells": [
  {
   "cell_type": "markdown",
   "metadata": {},
   "source": [
    "# Import Dataset"
   ]
  },
  {
   "cell_type": "code",
   "execution_count": 1,
   "metadata": {
    "ExecuteTime": {
     "end_time": "2020-08-06T10:55:53.051206Z",
     "start_time": "2020-08-06T10:55:50.109894Z"
    }
   },
   "outputs": [],
   "source": [
    "import pandas as pd\n",
    "import numpy as np\n",
    "import warnings\n",
    "import matplotlib.pyplot as plt\n",
    "\n",
    "warnings.filterwarnings(\"ignore\")\n",
    "pd.options.display.max_rows = 999\n",
    "pd.options.display.max_columns = 999\n",
    "%matplotlib inline "
   ]
  },
  {
   "cell_type": "code",
   "execution_count": 16,
   "metadata": {
    "ExecuteTime": {
     "end_time": "2020-08-06T10:58:48.899501Z",
     "start_time": "2020-08-06T10:58:43.829407Z"
    }
   },
   "outputs": [],
   "source": [
    "X = pd.read_csv('X_ver1.csv')\n",
    "Y = pd.read_csv('Y.csv')"
   ]
  },
  {
   "cell_type": "code",
   "execution_count": 17,
   "metadata": {
    "ExecuteTime": {
     "end_time": "2020-08-06T10:58:52.415489Z",
     "start_time": "2020-08-06T10:58:52.177626Z"
    }
   },
   "outputs": [],
   "source": [
    "X = X.iloc[:,1:]\n",
    "Y = Y.iloc[:,1:]"
   ]
  },
  {
   "cell_type": "markdown",
   "metadata": {},
   "source": [
    "# Modeling"
   ]
  },
  {
   "cell_type": "code",
   "execution_count": 13,
   "metadata": {
    "ExecuteTime": {
     "end_time": "2020-08-06T10:58:24.236628Z",
     "start_time": "2020-08-06T10:58:24.232632Z"
    }
   },
   "outputs": [],
   "source": [
    "import time"
   ]
  },
  {
   "cell_type": "code",
   "execution_count": 26,
   "metadata": {
    "ExecuteTime": {
     "end_time": "2020-08-06T11:22:01.439889Z",
     "start_time": "2020-08-06T11:22:01.433892Z"
    }
   },
   "outputs": [],
   "source": [
    "from sklearn.ensemble import RandomForestRegressor\n",
    "import xgboost as xgb\n",
    "import lightgbm as lgb\n",
    "from sklearn.model_selection import cross_val_score, train_test_split\n",
    "from sklearn.model_selection import RandomizedSearchCV\n",
    "from scipy.stats import randint"
   ]
  },
  {
   "cell_type": "code",
   "execution_count": 18,
   "metadata": {
    "ExecuteTime": {
     "end_time": "2020-08-06T10:58:56.611085Z",
     "start_time": "2020-08-06T10:58:55.974452Z"
    }
   },
   "outputs": [],
   "source": [
    "x_train,x_test,y_train,y_test = train_test_split(X,Y,test_size=0.2,random_state=42)"
   ]
  },
  {
   "cell_type": "code",
   "execution_count": 19,
   "metadata": {
    "ExecuteTime": {
     "end_time": "2020-08-06T10:58:57.533558Z",
     "start_time": "2020-08-06T10:58:57.200749Z"
    }
   },
   "outputs": [],
   "source": [
    "X = np.array(x_train)\n",
    "y = np.array(y_train)"
   ]
  },
  {
   "cell_type": "code",
   "execution_count": 23,
   "metadata": {
    "ExecuteTime": {
     "end_time": "2020-08-06T10:59:22.220424Z",
     "start_time": "2020-08-06T10:59:22.213425Z"
    }
   },
   "outputs": [],
   "source": [
    "names = ['RandomForest', 'LGBM', 'XGB']\n",
    "reg_list = [RandomForestRegressor(random_state=42), \n",
    "            lgb.LGBMRegressor(random_state=42), \n",
    "            xgb.XGBRegressor(random_state=42) ]"
   ]
  },
  {
   "cell_type": "code",
   "execution_count": 24,
   "metadata": {
    "ExecuteTime": {
     "end_time": "2020-08-06T11:20:42.656845Z",
     "start_time": "2020-08-06T10:59:26.346059Z"
    }
   },
   "outputs": [
    {
     "name": "stdout",
     "output_type": "stream",
     "text": [
      "---- RandomForest ----\n",
      "cv score :  0.6434664125561793\n",
      "time spent :  194.63353967666626\n",
      "-----------\n",
      "---- LGBM ----\n",
      "cv score :  0.6531707102937545\n",
      "time spent :  12.887619018554688\n",
      "-----------\n",
      "---- XGB ----\n",
      "cv score :  0.5029248931853489\n",
      "time spent :  1068.7486505508423\n",
      "-----------\n"
     ]
    }
   ],
   "source": [
    "for name, reg in zip(names, reg_list):\n",
    "    start = time.time()\n",
    "    reg.fit(X,y)\n",
    "    print('---- {} ----'.format(name))    \n",
    "    print('cv score : ', cross_val_score(reg,X,y, cv=5).mean())\n",
    "    print('time spent : ',time.time()-start)\n",
    "    print('-----------------'.format(name))    "
   ]
  },
  {
   "cell_type": "markdown",
   "metadata": {},
   "source": [
    "# Hyperparameter Tuning"
   ]
  },
  {
   "cell_type": "code",
   "execution_count": 27,
   "metadata": {
    "ExecuteTime": {
     "end_time": "2020-08-06T11:22:05.009845Z",
     "start_time": "2020-08-06T11:22:04.986858Z"
    }
   },
   "outputs": [],
   "source": [
    "lgbm_params ={'max_depth': np.arange(3, 30),\n",
    "             'num_leaves': np.arange(10, 100), \n",
    "             'learning_rate': [ 0.01, 0.05, 0.01, 0.001],\n",
    "             'min_child_samples': randint(2, 30),\n",
    "             'min_child_weight': [1e-5, 1e-3, 1e-2, 1e-1, 1, 1e1, 1e2, 1e3, 1e4],\n",
    "             'subsample': np.linspace(0.6, 0.9, 30, endpoint=True), \n",
    "             'colsample_bytree': np.linspace(0.1, 0.8, 100, endpoint=True),\n",
    "             'reg_alpha': [0, 1e-1, 1, 2, 5, 7, 10, 50, 100],\n",
    "             'reg_lambda': [0, 1e-1, 1, 5, 10, 20, 50, 100],\n",
    "             'n_estimators': np.arange(100, 400)}"
   ]
  },
  {
   "cell_type": "code",
   "execution_count": 30,
   "metadata": {
    "ExecuteTime": {
     "end_time": "2020-08-06T11:27:28.469647Z",
     "start_time": "2020-08-06T11:27:28.458653Z"
    }
   },
   "outputs": [],
   "source": [
    "def hypertuning_rscv(est, p_distr, nbr_iter,X,y):\n",
    "    rdmsearch = RandomizedSearchCV(est, param_distributions=p_distr, n_jobs=-1, n_iter=nbr_iter, cv=5, random_state=0)    \n",
    "    rdmsearch.fit(X,y)\n",
    "    ht_params = rdmsearch.best_params_\n",
    "    ht_score = rdmsearch.best_score_\n",
    "    return ht_params, ht_score"
   ]
  },
  {
   "cell_type": "code",
   "execution_count": 33,
   "metadata": {
    "ExecuteTime": {
     "end_time": "2020-08-06T11:32:09.941650Z",
     "start_time": "2020-08-06T11:28:12.519420Z"
    }
   },
   "outputs": [],
   "source": [
    "lgbm_reg= lgb.LGBMRegressor(random_state=42)\n",
    "best_params = hypertuning_rscv(lgbm_reg,lgbm_params,30,X,y)"
   ]
  },
  {
   "cell_type": "code",
   "execution_count": 35,
   "metadata": {
    "ExecuteTime": {
     "end_time": "2020-08-06T11:33:09.110765Z",
     "start_time": "2020-08-06T11:32:40.500151Z"
    }
   },
   "outputs": [
    {
     "data": {
      "text/plain": [
       "0.6768423903841061"
      ]
     },
     "execution_count": 35,
     "metadata": {},
     "output_type": "execute_result"
    }
   ],
   "source": [
    "lgbm_reg.set_params(**best_params[0])\n",
    "cross_val_score(lgbm_reg, X, y, cv=5).mean()"
   ]
  },
  {
   "cell_type": "code",
   "execution_count": 37,
   "metadata": {
    "ExecuteTime": {
     "end_time": "2020-08-06T11:34:28.504301Z",
     "start_time": "2020-08-06T11:34:28.498306Z"
    }
   },
   "outputs": [],
   "source": [
    "tuned_lgbm = lgb.LGBMRegressor(random_state=42, **best_params[0])\n",
    "tuned_lgbm.fit(X,y)"
   ]
  },
  {
   "cell_type": "markdown",
   "metadata": {},
   "source": [
    "# Evaluation"
   ]
  },
  {
   "cell_type": "code",
   "execution_count": null,
   "metadata": {},
   "outputs": [],
   "source": [
    "act = y.copy()\n",
    "act = act.flatten()"
   ]
  },
  {
   "cell_type": "code",
   "execution_count": 76,
   "metadata": {
    "ExecuteTime": {
     "end_time": "2020-08-06T11:45:05.983186Z",
     "start_time": "2020-08-06T11:45:05.976189Z"
    }
   },
   "outputs": [],
   "source": [
    "def MAPE(y_true, y_pred): \n",
    "    y_true, y_pred = np.array(y_true), np.array(y_pred)\n",
    "    return np.mean(np.abs((y_true - y_pred) / y_true))"
   ]
  },
  {
   "cell_type": "markdown",
   "metadata": {},
   "source": [
    "## Train"
   ]
  },
  {
   "cell_type": "code",
   "execution_count": 78,
   "metadata": {
    "ExecuteTime": {
     "end_time": "2020-08-06T11:45:12.128665Z",
     "start_time": "2020-08-06T11:45:09.449201Z"
    }
   },
   "outputs": [],
   "source": [
    "train_pred = tuned_lgbm.predict(X)\n",
    "train_act = y.copy()\n",
    "train_act = train_act.flatten()"
   ]
  },
  {
   "cell_type": "code",
   "execution_count": 79,
   "metadata": {
    "ExecuteTime": {
     "end_time": "2020-08-06T11:45:12.148656Z",
     "start_time": "2020-08-06T11:45:12.132667Z"
    }
   },
   "outputs": [
    {
     "data": {
      "text/plain": [
       "7.906285100464103"
      ]
     },
     "execution_count": 79,
     "metadata": {},
     "output_type": "execute_result"
    }
   ],
   "source": [
    "MAPE(train_act,train_pred)"
   ]
  },
  {
   "cell_type": "markdown",
   "metadata": {},
   "source": [
    "## Test"
   ]
  },
  {
   "cell_type": "code",
   "execution_count": 65,
   "metadata": {
    "ExecuteTime": {
     "end_time": "2020-08-06T11:42:24.502658Z",
     "start_time": "2020-08-06T11:42:24.364738Z"
    }
   },
   "outputs": [],
   "source": [
    "test_X = np.array(x_test)\n",
    "test_y = np.array(y_test)"
   ]
  },
  {
   "cell_type": "code",
   "execution_count": 66,
   "metadata": {
    "ExecuteTime": {
     "end_time": "2020-08-06T11:42:26.422559Z",
     "start_time": "2020-08-06T11:42:25.844890Z"
    }
   },
   "outputs": [],
   "source": [
    "test_pred = tuned_lgbm.predict(test_X)\n",
    "test_act = test_y.copy()\n",
    "test_act = test_act.flatten()"
   ]
  },
  {
   "cell_type": "code",
   "execution_count": 67,
   "metadata": {
    "ExecuteTime": {
     "end_time": "2020-08-06T11:42:26.869306Z",
     "start_time": "2020-08-06T11:42:26.859310Z"
    }
   },
   "outputs": [
    {
     "data": {
      "text/plain": [
       "9.170466935888188"
      ]
     },
     "execution_count": 67,
     "metadata": {},
     "output_type": "execute_result"
    }
   ],
   "source": [
    "MAPE(test_act,test_pred)"
   ]
  },
  {
   "cell_type": "code",
   "execution_count": 80,
   "metadata": {
    "ExecuteTime": {
     "end_time": "2020-08-06T11:45:52.849347Z",
     "start_time": "2020-08-06T11:45:52.838356Z"
    }
   },
   "outputs": [
    {
     "data": {
      "text/plain": [
       "array([18220000.,  7710000., 22580000.,  7440000., 13560000., 16640000.,\n",
       "       27990000., 31180000., 41840000., 24380000.])"
      ]
     },
     "execution_count": 80,
     "metadata": {},
     "output_type": "execute_result"
    }
   ],
   "source": [
    "test_act.round(-4)[0:10]"
   ]
  },
  {
   "cell_type": "code",
   "execution_count": 81,
   "metadata": {
    "ExecuteTime": {
     "end_time": "2020-08-06T11:45:55.159025Z",
     "start_time": "2020-08-06T11:45:55.148030Z"
    }
   },
   "outputs": [
    {
     "data": {
      "text/plain": [
       "array([17870000.,  5500000., 29810000.,  7520000., 15970000., 23230000.,\n",
       "       15370000., 39280000., 20220000., 18850000.])"
      ]
     },
     "execution_count": 81,
     "metadata": {},
     "output_type": "execute_result"
    }
   ],
   "source": [
    "test_pred.round(-4)[0:10]"
   ]
  }
 ],
 "metadata": {
  "kernelspec": {
   "display_name": "Python 3",
   "language": "python",
   "name": "python3"
  },
  "language_info": {
   "codemirror_mode": {
    "name": "ipython",
    "version": 3
   },
   "file_extension": ".py",
   "mimetype": "text/x-python",
   "name": "python",
   "nbconvert_exporter": "python",
   "pygments_lexer": "ipython3",
   "version": "3.6.9"
  },
  "toc": {
   "base_numbering": 1,
   "nav_menu": {},
   "number_sections": true,
   "sideBar": true,
   "skip_h1_title": false,
   "title_cell": "Table of Contents",
   "title_sidebar": "Contents",
   "toc_cell": false,
   "toc_position": {},
   "toc_section_display": true,
   "toc_window_display": false
  }
 },
 "nbformat": 4,
 "nbformat_minor": 2
}
