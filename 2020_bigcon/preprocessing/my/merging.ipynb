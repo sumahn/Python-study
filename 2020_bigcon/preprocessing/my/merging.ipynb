{
 "cells": [
  {
   "cell_type": "code",
   "execution_count": 1,
   "metadata": {
    "ExecuteTime": {
     "end_time": "2020-09-15T07:59:39.002937Z",
     "start_time": "2020-09-15T07:59:38.613013Z"
    }
   },
   "outputs": [],
   "source": [
    "import pandas as pd\n",
    "import numpy as np"
   ]
  },
  {
   "cell_type": "markdown",
   "metadata": {},
   "source": [
    "## 유동인구"
   ]
  },
  {
   "cell_type": "markdown",
   "metadata": {},
   "source": [
    "2019년 1월, 2월 유동인구 데이터가 존재하지 않음<br/>\n",
    "2019년 11월, 12월로 채워넣기"
   ]
  },
  {
   "cell_type": "code",
   "execution_count": 58,
   "metadata": {
    "ExecuteTime": {
     "end_time": "2020-09-15T09:06:04.179622Z",
     "start_time": "2020-09-15T09:06:04.154727Z"
    }
   },
   "outputs": [],
   "source": [
    "def smc_preprocessing(train_data_path, test_data_path, new_data_path, train_name, test_name):\n",
    "    \n",
    "    # 1. 유동인구\n",
    "    df_categories = [\"1903\",\"1904\",\"1905\",\"1906\",\"1907\",\"1908\",\"1909\",\"1910\",\"1911\",\"1912\",\"2006\"]\n",
    "    dfs = {}\n",
    "    df_list = []\n",
    "\n",
    "    for df in df_categories:\n",
    "        df_name = df\n",
    "        filename = new_data_path+'/{}.csv'.format(df)\n",
    "        dfs[df_name] = pd.read_csv(filename, index_col=0).reset_index()\n",
    "    \n",
    "    # 1월, 2월은 11월, 12월 유동인구로 대체\n",
    "    dfs[\"1901\"] = pd.read_csv(new_data_path+'/1911.csv')\n",
    "    dfs[\"1902\"] = pd.read_csv(new_data_path+'/1912.csv')\n",
    "    \n",
    "    for df in dfs:\n",
    "        dfs[df][\"일\"] = dfs[df][\"일자\"].apply(lambda x:int(str(x)[6:8]))\n",
    "        dfs[df][\"월\"] = dfs[df][\"일자\"].apply(lambda x:int(str(x)[4:6]))\n",
    "        \n",
    "    dfs[\"1901\"][\"월\"] = 1\n",
    "    dfs[\"1902\"][\"월\"] = 2\n",
    "    dfs[df].drop(columns=[\"일자\"], inplace=True)\n",
    "    \n",
    "    new_df = None\n",
    "    for df in dfs:\n",
    "        new_df = pd.concat([new_df, dfs[df]])\n",
    "        \n",
    "    new_df.rename(columns={\"시간(1시간단위)\":\"시간\"}, inplace=True)\n",
    "    new_df2= new_df.groupby([\"월\",\"일\",\"시간\",\"성별\",\"연령대(10세단위)\"])[\"유동인구수\"].sum().reset_index()\n",
    "    \n",
    "    all_fit = new_df2.groupby([\"월\",\"일\",\"시간\"])[\"유동인구수\"].sum().reset_index().rename(columns={\"유동인구수\":\"전체유동인구수\"})\n",
    "    mean_fit = new_df2.groupby([\"월\",\"일\",\"시간\"])[\"유동인구수\"].mean().reset_index().rename(columns={\"유동인구수\":\"평균유동인구수\"})\n",
    "    sd_fit = new_df2.groupby([\"월\",\"일\",\"시간\"])[\"유동인구수\"].std().reset_index().rename(columns={\"유동인구수\":\"유동인구수표준편차\"})\n",
    "\n",
    "    new_data = new_df2.pivot_table(columns=[\"성별\",\"연령대(10세단위)\"], values=[\"유동인구수\"], index=[\"월\",\"일\",\"시간\"]).reset_index()\n",
    "    \n",
    "    \n",
    "    # 2. 기존 데이터 전처리\n",
    "    trainpath = train_data_path + '/{}.xlsx'.format(train_name)\n",
    "    testpath = test_data_path + '/{}.xlsx'.format(test_name)\n",
    "    \n",
    "    train = pd.read_excel(trainpath, header=1)\n",
    "    test = pd.read_excel(testpath, header=1)\n",
    "    \n",
    "    \n",
    "    \n",
    "    ## 1) 취급액이 없는 경우 제거\n",
    "    train = train.dropna(subset=[\"취급액\"])\n",
    "    \n",
    "    ## 2) 취급액이 판매단가보다 작은 경우 제거\n",
    "    train = train.loc[lambda x:x.판매단가 <= x.취급액]\n",
    "    \n",
    "    ## 3) train과 test 결합\n",
    "    data = pd.concat([train, test], axis=0)\n",
    "    \n",
    "    ## 4) 방송일시 분할\n",
    "    data[\"연\"] = data[\"방송일시\"].dt.year\n",
    "    data[\"월\"] = data[\"방송일시\"].dt.month\n",
    "    data[\"일\"] = data[\"방송일시\"].dt.day\n",
    "    data[\"시간\"] = data[\"방송일시\"].dt.hour\n",
    "    data[\"분\"] = data[\"방송일시\"].dt.minute\n",
    "    data[\"요일\"] = data[\"방송일시\"].dt.weekday\n",
    "    \n",
    "    ## 5) 노출 NA imputation - 같은 방송일시의 노출 시간\n",
    "    data[\"노출(분)\"] = data[\"노출(분)\"].fillna(method=\"ffill\")    \n",
    "    ## 6) 100원 단위에서 반올림한 판매단가\n",
    "    data[\"판매단가_100\"] = np.round(data[\"판매단가\"], -3)\n",
    "    data[\"판매단가_만원대\"] = data[\"판매단가\"].apply(lambda x:np.trunc(x/10000)*10000)\n",
    "    \n",
    "    ## 7) 방송순서\n",
    "    data[\"일별방송순서\"] = data.groupby([\"연\",\"월\",\"일\",\"상품명\"])[\"상품코드\"].rank(method=\"first\")\n",
    "    data[\"월별방송순서\"] = data.groupby([\"연\",\"월\",\"상품명\"])[\"상품코드\"].rank(method=\"first\")\n",
    "    \n",
    "    ## 8) 노출 시간 반올림\n",
    "    data[\"노출_5\"] = data[\"노출(분)\"].apply(lambda x: round(x/5)*5)\n",
    "    data[\"노출_10\"] = data[\"노출(분)\"].apply(lambda x: round(x,-1))\n",
    "    \n",
    "    ## 9) 계절\n",
    "    data[\"계절\"] = data[\"월\"].map({3:\"봄\",4:\"봄\",5:\"봄\",6:\"여름\",7:\"여름\",8:\"여름\",9:\"가을\",10:\"가을\",11:\"가을\",12:\"겨울\",1:\"겨울\",2:\"겨울\"})\n",
    "    \n",
    "    # 3. 외부데이터와 결합\n",
    "    tmp = pd.merge(data, new_data, on=[\"월\",\"일\",\"시간\"], how=\"left\")\n",
    "    tmp2 = pd.merge(tmp, all_fit, on = [\"월\",\"일\",\"시간\"], how=\"left\")\n",
    "    tmp3 = pd.merge(tmp2, mean_fit, on=[\"월\",\"일\",\"시간\"], how=\"left\")\n",
    "    final = pd.merge(tmp3, sd_fit, on=[\"월\",\"일\",\"시간\"], how=\"left\")\n",
    "    \n",
    "    final.fillna(method=\"ffill\", inplace=True)\n",
    "    drop_list = [x for x in final.columns if x in train.columns]\n",
    "    \n",
    "    wanted_data = final.drop(columns = drop_list)\n",
    "    \n",
    "    return wanted_data"
   ]
  }
 ],
 "metadata": {
  "kernelspec": {
   "display_name": "Python 3",
   "language": "python",
   "name": "python3"
  },
  "language_info": {
   "codemirror_mode": {
    "name": "ipython",
    "version": 3
   },
   "file_extension": ".py",
   "mimetype": "text/x-python",
   "name": "python",
   "nbconvert_exporter": "python",
   "pygments_lexer": "ipython3",
   "version": "3.6.10"
  },
  "toc": {
   "base_numbering": 1,
   "nav_menu": {},
   "number_sections": true,
   "sideBar": true,
   "skip_h1_title": false,
   "title_cell": "Table of Contents",
   "title_sidebar": "Contents",
   "toc_cell": false,
   "toc_position": {},
   "toc_section_display": true,
   "toc_window_display": false
  },
  "varInspector": {
   "cols": {
    "lenName": 16,
    "lenType": 16,
    "lenVar": 40
   },
   "kernels_config": {
    "python": {
     "delete_cmd_postfix": "",
     "delete_cmd_prefix": "del ",
     "library": "var_list.py",
     "varRefreshCmd": "print(var_dic_list())"
    },
    "r": {
     "delete_cmd_postfix": ") ",
     "delete_cmd_prefix": "rm(",
     "library": "var_list.r",
     "varRefreshCmd": "cat(var_dic_list()) "
    }
   },
   "types_to_exclude": [
    "module",
    "function",
    "builtin_function_or_method",
    "instance",
    "_Feature"
   ],
   "window_display": false
  }
 },
 "nbformat": 4,
 "nbformat_minor": 4
}
