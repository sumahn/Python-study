{
 "cells": [
  {
   "cell_type": "code",
   "execution_count": 51,
   "metadata": {
    "ExecuteTime": {
     "end_time": "2020-09-28T01:52:30.037552Z",
     "start_time": "2020-09-28T01:52:30.024587Z"
    }
   },
   "outputs": [],
   "source": [
    "import os\n",
    "import pandas as pd\n",
    "from matplotlib.font_manager import fontManager\n",
    "import pandas as pd\n",
    "import numpy as np\n",
    "import matplotlib.pyplot as plt\n",
    "import seaborn as sns\n",
    "import missingno as msno\n",
    "%matplotlib inline\n",
    "\n",
    "plt.rcParams['axes.unicode_minus'] = False\n",
    "plt.rcParams['font.family'] = 'Malgun Gothic'\n",
    "sns.set(font='Malgun Gothic',\n",
    "       rc ={'axes.unicode_minus':False},\n",
    "       style='whitegrid')"
   ]
  },
  {
   "cell_type": "code",
   "execution_count": 4,
   "metadata": {
    "ExecuteTime": {
     "end_time": "2020-09-28T01:37:44.303058Z",
     "start_time": "2020-09-28T01:37:44.299069Z"
    }
   },
   "outputs": [],
   "source": [
    "os.chdir(\"C:\\\\Users\\\\cktna\\\\Downloads\\\\bigcon-2020-master\\\\bigcon-2020-master\")"
   ]
  },
  {
   "cell_type": "code",
   "execution_count": 80,
   "metadata": {
    "ExecuteTime": {
     "end_time": "2020-09-28T02:46:36.688609Z",
     "start_time": "2020-09-28T02:46:36.305986Z"
    }
   },
   "outputs": [],
   "source": [
    "schedule = pd.read_csv(\"schedule.csv\")\n",
    "data = pd.read_csv(\"data/data.csv\")\n",
    "test = data.loc[data.취급액.isna()]"
   ]
  },
  {
   "cell_type": "code",
   "execution_count": 81,
   "metadata": {
    "ExecuteTime": {
     "end_time": "2020-09-28T02:46:40.715634Z",
     "start_time": "2020-09-28T02:46:40.710646Z"
    }
   },
   "outputs": [
    {
     "data": {
      "text/plain": [
       "((607, 4), (2716, 88))"
      ]
     },
     "execution_count": 81,
     "metadata": {},
     "output_type": "execute_result"
    }
   ],
   "source": [
    "schedule.shape, test.shape"
   ]
  },
  {
   "cell_type": "code",
   "execution_count": 83,
   "metadata": {
    "ExecuteTime": {
     "end_time": "2020-09-28T02:46:54.468285Z",
     "start_time": "2020-09-28T02:46:54.464326Z"
    }
   },
   "outputs": [],
   "source": [
    "schedule.rename(columns ={\"상품\":\"상품명\"}, inplace=True)"
   ]
  },
  {
   "cell_type": "code",
   "execution_count": 84,
   "metadata": {
    "ExecuteTime": {
     "end_time": "2020-09-28T02:46:54.982545Z",
     "start_time": "2020-09-28T02:46:54.933924Z"
    }
   },
   "outputs": [],
   "source": [
    "data = pd.merge(schedule, test, on=\"상품명\", how=\"left\")"
   ]
  },
  {
   "cell_type": "code",
   "execution_count": 86,
   "metadata": {
    "ExecuteTime": {
     "end_time": "2020-09-28T02:47:06.770064Z",
     "start_time": "2020-09-28T02:47:06.761101Z"
    }
   },
   "outputs": [],
   "source": [
    "data = data.drop_duplicates(subset = [\"time\",\"상품명\"])"
   ]
  },
  {
   "cell_type": "code",
   "execution_count": 87,
   "metadata": {
    "ExecuteTime": {
     "end_time": "2020-09-28T02:47:08.492079Z",
     "start_time": "2020-09-28T02:47:08.485091Z"
    }
   },
   "outputs": [],
   "source": [
    "data = data.assign(hour = data['time'].apply(lambda x:int(x.split()[1])))"
   ]
  },
  {
   "cell_type": "code",
   "execution_count": 91,
   "metadata": {
    "ExecuteTime": {
     "end_time": "2020-09-28T02:48:51.516844Z",
     "start_time": "2020-09-28T02:48:51.510845Z"
    }
   },
   "outputs": [],
   "source": [
    "data.dropna(subset=[\"방송일시\"], inplace=True)"
   ]
  },
  {
   "cell_type": "code",
   "execution_count": 93,
   "metadata": {
    "ExecuteTime": {
     "end_time": "2020-09-28T02:48:56.400289Z",
     "start_time": "2020-09-28T02:48:56.363643Z"
    }
   },
   "outputs": [
    {
     "data": {
      "text/html": [
       "<div>\n",
       "<style scoped>\n",
       "    .dataframe tbody tr th:only-of-type {\n",
       "        vertical-align: middle;\n",
       "    }\n",
       "\n",
       "    .dataframe tbody tr th {\n",
       "        vertical-align: top;\n",
       "    }\n",
       "\n",
       "    .dataframe thead th {\n",
       "        text-align: right;\n",
       "    }\n",
       "</style>\n",
       "<table border=\"1\" class=\"dataframe\">\n",
       "  <thead>\n",
       "    <tr style=\"text-align: right;\">\n",
       "      <th></th>\n",
       "      <th>time</th>\n",
       "      <th>prod_group</th>\n",
       "      <th>예상취급액</th>\n",
       "      <th>상품명</th>\n",
       "      <th>방송일시</th>\n",
       "      <th>노출(분)</th>\n",
       "      <th>마더코드</th>\n",
       "      <th>상품코드</th>\n",
       "      <th>상품군</th>\n",
       "      <th>판매단가</th>\n",
       "      <th>...</th>\n",
       "      <th>TV_요일시_총합</th>\n",
       "      <th>TV_만원대_분</th>\n",
       "      <th>TV_만원대_평균</th>\n",
       "      <th>TV_만원대_최고</th>\n",
       "      <th>TV_만원대_총합</th>\n",
       "      <th>TV_월_분</th>\n",
       "      <th>TV_월_평균</th>\n",
       "      <th>TV_월_최고</th>\n",
       "      <th>TV_월_총합</th>\n",
       "      <th>hour</th>\n",
       "    </tr>\n",
       "  </thead>\n",
       "  <tbody>\n",
       "    <tr>\n",
       "      <th>0</th>\n",
       "      <td>2020-06-01 06</td>\n",
       "      <td>1609</td>\n",
       "      <td>2.449048e+07</td>\n",
       "      <td>제니하우스 살롱코드 염색제(멀티포트)</td>\n",
       "      <td>2020-06-23 06:20:00</td>\n",
       "      <td>20.0</td>\n",
       "      <td>100059.0</td>\n",
       "      <td>200146.0</td>\n",
       "      <td>이미용</td>\n",
       "      <td>79900.0</td>\n",
       "      <td>...</td>\n",
       "      <td>0.033938</td>\n",
       "      <td>20.521192</td>\n",
       "      <td>0.003868</td>\n",
       "      <td>0.015459</td>\n",
       "      <td>0.078404</td>\n",
       "      <td>20.45803</td>\n",
       "      <td>0.003233</td>\n",
       "      <td>0.015686</td>\n",
       "      <td>0.067733</td>\n",
       "      <td>6</td>\n",
       "    </tr>\n",
       "    <tr>\n",
       "      <th>3</th>\n",
       "      <td>2020-06-01 07</td>\n",
       "      <td>1567</td>\n",
       "      <td>6.005506e+07</td>\n",
       "      <td>래쉬톡 원터치 속눈썹</td>\n",
       "      <td>2020-06-14 01:20:00</td>\n",
       "      <td>20.0</td>\n",
       "      <td>100799.0</td>\n",
       "      <td>202363.0</td>\n",
       "      <td>이미용</td>\n",
       "      <td>59900.0</td>\n",
       "      <td>...</td>\n",
       "      <td>0.044553</td>\n",
       "      <td>20.189322</td>\n",
       "      <td>0.004460</td>\n",
       "      <td>0.017196</td>\n",
       "      <td>0.089976</td>\n",
       "      <td>20.45803</td>\n",
       "      <td>0.003233</td>\n",
       "      <td>0.015686</td>\n",
       "      <td>0.067733</td>\n",
       "      <td>7</td>\n",
       "    </tr>\n",
       "    <tr>\n",
       "      <th>8</th>\n",
       "      <td>2020-06-01 08</td>\n",
       "      <td>1504</td>\n",
       "      <td>6.764663e+07</td>\n",
       "      <td>발레리 라이크라 쉐이핑 팬티 10+2종 패키지(19차)</td>\n",
       "      <td>2020-06-05 07:20:00</td>\n",
       "      <td>15.0</td>\n",
       "      <td>100077.0</td>\n",
       "      <td>200212.0</td>\n",
       "      <td>속옷</td>\n",
       "      <td>49900.0</td>\n",
       "      <td>...</td>\n",
       "      <td>0.049318</td>\n",
       "      <td>19.742780</td>\n",
       "      <td>0.005124</td>\n",
       "      <td>0.019631</td>\n",
       "      <td>0.101082</td>\n",
       "      <td>20.45803</td>\n",
       "      <td>0.003233</td>\n",
       "      <td>0.015686</td>\n",
       "      <td>0.067733</td>\n",
       "      <td>8</td>\n",
       "    </tr>\n",
       "    <tr>\n",
       "      <th>12</th>\n",
       "      <td>2020-06-01 09</td>\n",
       "      <td>1503</td>\n",
       "      <td>7.603722e+07</td>\n",
       "      <td>블링썸 듀얼 포시즌 틴트브로우</td>\n",
       "      <td>2020-06-05 01:20:00</td>\n",
       "      <td>20.0</td>\n",
       "      <td>100259.0</td>\n",
       "      <td>200873.0</td>\n",
       "      <td>이미용</td>\n",
       "      <td>49900.0</td>\n",
       "      <td>...</td>\n",
       "      <td>0.100850</td>\n",
       "      <td>19.742780</td>\n",
       "      <td>0.005124</td>\n",
       "      <td>0.019631</td>\n",
       "      <td>0.101082</td>\n",
       "      <td>20.45803</td>\n",
       "      <td>0.003233</td>\n",
       "      <td>0.015686</td>\n",
       "      <td>0.067733</td>\n",
       "      <td>9</td>\n",
       "    </tr>\n",
       "    <tr>\n",
       "      <th>15</th>\n",
       "      <td>2020-06-01 10</td>\n",
       "      <td>1541</td>\n",
       "      <td>5.947027e+07</td>\n",
       "      <td>루시헨느 글리터 레이스 브라탑 4종</td>\n",
       "      <td>2020-06-10 09:20:00</td>\n",
       "      <td>20.0</td>\n",
       "      <td>100778.0</td>\n",
       "      <td>202275.0</td>\n",
       "      <td>속옷</td>\n",
       "      <td>79900.0</td>\n",
       "      <td>...</td>\n",
       "      <td>0.095075</td>\n",
       "      <td>20.521192</td>\n",
       "      <td>0.003868</td>\n",
       "      <td>0.015459</td>\n",
       "      <td>0.078404</td>\n",
       "      <td>20.45803</td>\n",
       "      <td>0.003233</td>\n",
       "      <td>0.015686</td>\n",
       "      <td>0.067733</td>\n",
       "      <td>10</td>\n",
       "    </tr>\n",
       "    <tr>\n",
       "      <th>30</th>\n",
       "      <td>2020-06-01 11</td>\n",
       "      <td>1616</td>\n",
       "      <td>7.245145e+07</td>\n",
       "      <td>에이유플러스 아이스크림 필링(최저가)</td>\n",
       "      <td>2020-06-24 14:20:00</td>\n",
       "      <td>20.0</td>\n",
       "      <td>100363.0</td>\n",
       "      <td>201151.0</td>\n",
       "      <td>이미용</td>\n",
       "      <td>39900.0</td>\n",
       "      <td>...</td>\n",
       "      <td>0.103805</td>\n",
       "      <td>18.788212</td>\n",
       "      <td>0.005091</td>\n",
       "      <td>0.017073</td>\n",
       "      <td>0.095699</td>\n",
       "      <td>20.45803</td>\n",
       "      <td>0.003233</td>\n",
       "      <td>0.015686</td>\n",
       "      <td>0.067733</td>\n",
       "      <td>11</td>\n",
       "    </tr>\n",
       "    <tr>\n",
       "      <th>34</th>\n",
       "      <td>2020-06-01 13</td>\n",
       "      <td>1596</td>\n",
       "      <td>7.982602e+06</td>\n",
       "      <td>프로피쿡 올인원 블렌더</td>\n",
       "      <td>2020-06-19 10:20:00</td>\n",
       "      <td>20.0</td>\n",
       "      <td>100429.0</td>\n",
       "      <td>201342.0</td>\n",
       "      <td>주방</td>\n",
       "      <td>88000.0</td>\n",
       "      <td>...</td>\n",
       "      <td>0.105345</td>\n",
       "      <td>20.337046</td>\n",
       "      <td>0.004156</td>\n",
       "      <td>0.016068</td>\n",
       "      <td>0.081322</td>\n",
       "      <td>20.45803</td>\n",
       "      <td>0.003233</td>\n",
       "      <td>0.015686</td>\n",
       "      <td>0.067733</td>\n",
       "      <td>13</td>\n",
       "    </tr>\n",
       "    <tr>\n",
       "      <th>40</th>\n",
       "      <td>2020-06-01 15</td>\n",
       "      <td>1497</td>\n",
       "      <td>3.382076e+07</td>\n",
       "      <td>비비고 만두</td>\n",
       "      <td>2020-06-04 16:20:00</td>\n",
       "      <td>20.0</td>\n",
       "      <td>100621.0</td>\n",
       "      <td>201923.0</td>\n",
       "      <td>농수축</td>\n",
       "      <td>30900.0</td>\n",
       "      <td>...</td>\n",
       "      <td>0.114187</td>\n",
       "      <td>18.788212</td>\n",
       "      <td>0.005091</td>\n",
       "      <td>0.017073</td>\n",
       "      <td>0.095699</td>\n",
       "      <td>20.45803</td>\n",
       "      <td>0.003233</td>\n",
       "      <td>0.015686</td>\n",
       "      <td>0.067733</td>\n",
       "      <td>15</td>\n",
       "    </tr>\n",
       "    <tr>\n",
       "      <th>49</th>\n",
       "      <td>2020-06-01 16</td>\n",
       "      <td>1493</td>\n",
       "      <td>7.491439e+07</td>\n",
       "      <td>국내산 반건조우럭 8팩</td>\n",
       "      <td>2020-06-04 11:20:00</td>\n",
       "      <td>20.0</td>\n",
       "      <td>100546.0</td>\n",
       "      <td>201632.0</td>\n",
       "      <td>농수축</td>\n",
       "      <td>39900.0</td>\n",
       "      <td>...</td>\n",
       "      <td>0.141701</td>\n",
       "      <td>18.788212</td>\n",
       "      <td>0.005091</td>\n",
       "      <td>0.017073</td>\n",
       "      <td>0.095699</td>\n",
       "      <td>20.45803</td>\n",
       "      <td>0.003233</td>\n",
       "      <td>0.015686</td>\n",
       "      <td>0.067733</td>\n",
       "      <td>16</td>\n",
       "    </tr>\n",
       "    <tr>\n",
       "      <th>60</th>\n",
       "      <td>2020-06-01 17</td>\n",
       "      <td>1500</td>\n",
       "      <td>7.491439e+07</td>\n",
       "      <td>[바다먹자] 국내산 반건조 오징어 7팩 (14미)</td>\n",
       "      <td>2020-06-04 21:20:00</td>\n",
       "      <td>20.0</td>\n",
       "      <td>100800.0</td>\n",
       "      <td>202364.0</td>\n",
       "      <td>농수축</td>\n",
       "      <td>39900.0</td>\n",
       "      <td>...</td>\n",
       "      <td>0.085979</td>\n",
       "      <td>18.788212</td>\n",
       "      <td>0.005091</td>\n",
       "      <td>0.017073</td>\n",
       "      <td>0.095699</td>\n",
       "      <td>20.45803</td>\n",
       "      <td>0.003233</td>\n",
       "      <td>0.015686</td>\n",
       "      <td>0.067733</td>\n",
       "      <td>17</td>\n",
       "    </tr>\n",
       "  </tbody>\n",
       "</table>\n",
       "<p>10 rows × 92 columns</p>\n",
       "</div>"
      ],
      "text/plain": [
       "             time  prod_group         예상취급액                             상품명  \\\n",
       "0   2020-06-01 06        1609  2.449048e+07            제니하우스 살롱코드 염색제(멀티포트)   \n",
       "3   2020-06-01 07        1567  6.005506e+07                     래쉬톡 원터치 속눈썹   \n",
       "8   2020-06-01 08        1504  6.764663e+07  발레리 라이크라 쉐이핑 팬티 10+2종 패키지(19차)   \n",
       "12  2020-06-01 09        1503  7.603722e+07                블링썸 듀얼 포시즌 틴트브로우   \n",
       "15  2020-06-01 10        1541  5.947027e+07             루시헨느 글리터 레이스 브라탑 4종   \n",
       "30  2020-06-01 11        1616  7.245145e+07            에이유플러스 아이스크림 필링(최저가)   \n",
       "34  2020-06-01 13        1596  7.982602e+06                    프로피쿡 올인원 블렌더   \n",
       "40  2020-06-01 15        1497  3.382076e+07                          비비고 만두   \n",
       "49  2020-06-01 16        1493  7.491439e+07                    국내산 반건조우럭 8팩   \n",
       "60  2020-06-01 17        1500  7.491439e+07     [바다먹자] 국내산 반건조 오징어 7팩 (14미)   \n",
       "\n",
       "                   방송일시  노출(분)      마더코드      상품코드  상품군     판매단가  ...  \\\n",
       "0   2020-06-23 06:20:00   20.0  100059.0  200146.0  이미용  79900.0  ...   \n",
       "3   2020-06-14 01:20:00   20.0  100799.0  202363.0  이미용  59900.0  ...   \n",
       "8   2020-06-05 07:20:00   15.0  100077.0  200212.0   속옷  49900.0  ...   \n",
       "12  2020-06-05 01:20:00   20.0  100259.0  200873.0  이미용  49900.0  ...   \n",
       "15  2020-06-10 09:20:00   20.0  100778.0  202275.0   속옷  79900.0  ...   \n",
       "30  2020-06-24 14:20:00   20.0  100363.0  201151.0  이미용  39900.0  ...   \n",
       "34  2020-06-19 10:20:00   20.0  100429.0  201342.0   주방  88000.0  ...   \n",
       "40  2020-06-04 16:20:00   20.0  100621.0  201923.0  농수축  30900.0  ...   \n",
       "49  2020-06-04 11:20:00   20.0  100546.0  201632.0  농수축  39900.0  ...   \n",
       "60  2020-06-04 21:20:00   20.0  100800.0  202364.0  농수축  39900.0  ...   \n",
       "\n",
       "    TV_요일시_총합   TV_만원대_분  TV_만원대_평균  TV_만원대_최고  TV_만원대_총합    TV_월_분   TV_월_평균  \\\n",
       "0    0.033938  20.521192   0.003868   0.015459   0.078404  20.45803  0.003233   \n",
       "3    0.044553  20.189322   0.004460   0.017196   0.089976  20.45803  0.003233   \n",
       "8    0.049318  19.742780   0.005124   0.019631   0.101082  20.45803  0.003233   \n",
       "12   0.100850  19.742780   0.005124   0.019631   0.101082  20.45803  0.003233   \n",
       "15   0.095075  20.521192   0.003868   0.015459   0.078404  20.45803  0.003233   \n",
       "30   0.103805  18.788212   0.005091   0.017073   0.095699  20.45803  0.003233   \n",
       "34   0.105345  20.337046   0.004156   0.016068   0.081322  20.45803  0.003233   \n",
       "40   0.114187  18.788212   0.005091   0.017073   0.095699  20.45803  0.003233   \n",
       "49   0.141701  18.788212   0.005091   0.017073   0.095699  20.45803  0.003233   \n",
       "60   0.085979  18.788212   0.005091   0.017073   0.095699  20.45803  0.003233   \n",
       "\n",
       "     TV_월_최고   TV_월_총합  hour  \n",
       "0   0.015686  0.067733     6  \n",
       "3   0.015686  0.067733     7  \n",
       "8   0.015686  0.067733     8  \n",
       "12  0.015686  0.067733     9  \n",
       "15  0.015686  0.067733    10  \n",
       "30  0.015686  0.067733    11  \n",
       "34  0.015686  0.067733    13  \n",
       "40  0.015686  0.067733    15  \n",
       "49  0.015686  0.067733    16  \n",
       "60  0.015686  0.067733    17  \n",
       "\n",
       "[10 rows x 92 columns]"
      ]
     },
     "execution_count": 93,
     "metadata": {},
     "output_type": "execute_result"
    }
   ],
   "source": [
    "data.head(10)"
   ]
  },
  {
   "cell_type": "code",
   "execution_count": 64,
   "metadata": {
    "ExecuteTime": {
     "end_time": "2020-09-28T02:04:57.253571Z",
     "start_time": "2020-09-28T02:04:57.249544Z"
    }
   },
   "outputs": [],
   "source": [
    "cat_vars = [\"성별\",\"결제방법\",\"세트여부\",\"일\",\"시간\",\"요일\",\"일별방송순서\",\"월별방송순서\",\"hour_rank\",\"공휴일여부\",\"연휴\",\n",
    "           \"브랜드\",\"NS상품군_대\",\"NS상품군_중\",\"NS상품군_소\"]"
   ]
  },
  {
   "cell_type": "code",
   "execution_count": 75,
   "metadata": {
    "ExecuteTime": {
     "end_time": "2020-09-28T02:13:56.543091Z",
     "start_time": "2020-09-28T02:13:56.176826Z"
    }
   },
   "outputs": [
    {
     "data": {
      "text/plain": [
       "<matplotlib.axes._subplots.AxesSubplot at 0x17ee45f1f60>"
      ]
     },
     "execution_count": 75,
     "metadata": {},
     "output_type": "execute_result"
    },
    {
     "data": {
      "image/png": "[encoded data removed]",
      "text/plain": [
       "<Figure size 432x288 with 1 Axes>"
      ]
     },
     "metadata": {},
     "output_type": "display_data"
    }
   ],
   "source": [
    "sns.countplot(x=\"hour\",hue=\"결제방법\",data=data)"
   ]
  },
  {
   "cell_type": "code",
   "execution_count": 95,
   "metadata": {
    "ExecuteTime": {
     "end_time": "2020-09-28T02:51:17.389581Z",
     "start_time": "2020-09-28T02:51:16.705901Z"
    }
   },
   "outputs": [
    {
     "data": {
      "text/plain": [
       "<matplotlib.axes._subplots.AxesSubplot at 0x17ee4f6f748>"
      ]
     },
     "execution_count": 95,
     "metadata": {},
     "output_type": "execute_result"
    },
    {
     "data": {
      "image/png": "[encoded data removed]",
      "text/plain": [
       "<Figure size 1440x360 with 1 Axes>"
      ]
     },
     "metadata": {},
     "output_type": "display_data"
    }
   ],
   "source": [
    "plt.figure(figsize=(20,5))\n",
    "sns.countplot(x=\"상품군\", hue=\"시간\", data=test.drop_duplicates(subset=[\"상품명\"]))"
   ]
  },
  {
   "cell_type": "code",
   "execution_count": 77,
   "metadata": {
    "ExecuteTime": {
     "end_time": "2020-09-28T02:14:38.663338Z",
     "start_time": "2020-09-28T02:14:38.031311Z"
    }
   },
   "outputs": [
    {
     "data": {
      "text/plain": [
       "<matplotlib.axes._subplots.AxesSubplot at 0x17ee5469940>"
      ]
     },
     "execution_count": 77,
     "metadata": {},
     "output_type": "execute_result"
    },
    {
     "data": {
      "image/png": "[encoded data removed]",
      "text/plain": [
       "<Figure size 1440x360 with 1 Axes>"
      ]
     },
     "metadata": {},
     "output_type": "display_data"
    }
   ],
   "source": [
    "plt.figure(figsize=(20,5))\n",
    "sns.countplot(x=\"상품군\", hue=\"hour\", data=data)"
   ]
  },
  {
   "cell_type": "code",
   "execution_count": 79,
   "metadata": {
    "ExecuteTime": {
     "end_time": "2020-09-28T02:21:50.070483Z",
     "start_time": "2020-09-28T02:21:49.739197Z"
    }
   },
   "outputs": [
    {
     "data": {
      "text/plain": [
       "<matplotlib.axes._subplots.AxesSubplot at 0x17ee509c518>"
      ]
     },
     "execution_count": 79,
     "metadata": {},
     "output_type": "execute_result"
    },
    {
     "data": {
      "image/png": "[encoded data removed]",
      "text/plain": [
       "<Figure size 432x288 with 1 Axes>"
      ]
     },
     "metadata": {},
     "output_type": "display_data"
    }
   ],
   "source": [
    "sns.barplot(x='상품군', y=\"예상취급액\", data=data)"
   ]
  },
  {
   "cell_type": "code",
   "execution_count": 76,
   "metadata": {
    "ExecuteTime": {
     "end_time": "2020-09-28T02:14:04.469557Z",
     "start_time": "2020-09-28T02:14:04.462573Z"
    }
   },
   "outputs": [
    {
     "data": {
      "text/plain": [
       "0     23\n",
       "1     29\n",
       "2     18\n",
       "6     30\n",
       "7     30\n",
       "8     30\n",
       "9     30\n",
       "10    30\n",
       "11    30\n",
       "12    30\n",
       "13    30\n",
       "14    28\n",
       "15    30\n",
       "16    30\n",
       "17    30\n",
       "18    29\n",
       "19    30\n",
       "20    30\n",
       "21    30\n",
       "22    30\n",
       "23    30\n",
       "Name: hour, dtype: int64"
      ]
     },
     "execution_count": 76,
     "metadata": {},
     "output_type": "execute_result"
    }
   ],
   "source": [
    "data.hour.value_counts().sort_index()"
   ]
  },
  {
   "cell_type": "code",
   "execution_count": null,
   "metadata": {},
   "outputs": [],
   "source": []
  }
 ],
 "metadata": {
  "kernelspec": {
   "display_name": "Python 3",
   "language": "python",
   "name": "python3"
  },
  "language_info": {
   "codemirror_mode": {
    "name": "ipython",
    "version": 3
   },
   "file_extension": ".py",
   "mimetype": "text/x-python",
   "name": "python",
   "nbconvert_exporter": "python",
   "pygments_lexer": "ipython3",
   "version": "3.6.10"
  },
  "toc": {
   "base_numbering": 1,
   "nav_menu": {},
   "number_sections": true,
   "sideBar": true,
   "skip_h1_title": false,
   "title_cell": "Table of Contents",
   "title_sidebar": "Contents",
   "toc_cell": false,
   "toc_position": {},
   "toc_section_display": true,
   "toc_window_display": false
  },
  "varInspector": {
   "cols": {
    "lenName": 16,
    "lenType": 16,
    "lenVar": 40
   },
   "kernels_config": {
    "python": {
     "delete_cmd_postfix": "",
     "delete_cmd_prefix": "del ",
     "library": "var_list.py",
     "varRefreshCmd": "print(var_dic_list())"
    },
    "r": {
     "delete_cmd_postfix": ") ",
     "delete_cmd_prefix": "rm(",
     "library": "var_list.r",
     "varRefreshCmd": "cat(var_dic_list()) "
    }
   },
   "types_to_exclude": [
    "module",
    "function",
    "builtin_function_or_method",
    "instance",
    "_Feature"
   ],
   "window_display": false
  }
 },
 "nbformat": 4,
 "nbformat_minor": 4
}
